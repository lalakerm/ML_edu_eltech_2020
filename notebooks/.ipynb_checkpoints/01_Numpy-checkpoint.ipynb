{
 "cells": [
  {
   "cell_type": "markdown",
   "metadata": {
    "colab_type": "text",
    "id": "-JUOp2KEdHTn"
   },
   "source": [
    "# Numpy\n"
   ]
  },
  {
   "cell_type": "markdown",
   "metadata": {
    "colab_type": "text",
    "id": "oTtiG3HMz-Rt"
   },
   "source": [
    "Numpy - это библиотека для математических вычислений. Написана на языке С, поэтому считается наиболее предпочтительным вариантом при работе с многомерными массивами из-за производительности.\n",
    "\n",
    "[Официальный сайт](https://numpy.org/doc/stable/) последней версии.\n",
    "\n",
    "Начало работы с `numpy` заключается в подключении модуля. При этом в практике применения есть уже общепринятое сокращение для него под названием `np`:"
   ]
  },
  {
   "cell_type": "code",
   "execution_count": 1,
   "metadata": {
    "colab": {},
    "colab_type": "code",
    "id": "2HARN7afZ1Fk"
   },
   "outputs": [],
   "source": [
    "import numpy as np"
   ]
  },
  {
   "cell_type": "markdown",
   "metadata": {
    "colab_type": "text",
    "id": "81-wHdEbg-qI"
   },
   "source": [
    "> Если вы ранее работали с MATLAB, обратите внимание, как некоторые подходы и функции схожи."
   ]
  },
  {
   "cell_type": "markdown",
   "metadata": {
    "colab_type": "text",
    "id": "woHgRbgPZ99s"
   },
   "source": [
    "# Создание массивов"
   ]
  },
  {
   "cell_type": "markdown",
   "metadata": {
    "colab_type": "text",
    "id": "DVVfQ6DwaBUH"
   },
   "source": [
    "Для того, чтобы начать работать с `numpy`, мы должны научиться создавать объекты `ndarray`, которые по сути являются N-мерными массивами."
   ]
  },
  {
   "cell_type": "code",
   "execution_count": 2,
   "metadata": {
    "colab": {},
    "colab_type": "code",
    "id": "kQqPek1xZ2y7"
   },
   "outputs": [],
   "source": [
    "# Самый просто способ создать массив numpy - взять уже существующий list и передать в функцию np.array()\n",
    "arr_1d = np.array([1, 2, 3])"
   ]
  },
  {
   "cell_type": "code",
   "execution_count": 3,
   "metadata": {
    "colab": {
     "base_uri": "https://localhost:8080/",
     "height": 120
    },
    "colab_type": "code",
    "executionInfo": {
     "elapsed": 15150,
     "status": "ok",
     "timestamp": 1598902935962,
     "user": {
      "displayName": "Alexey Devyatkin",
      "photoUrl": "https://lh3.googleusercontent.com/a-/AOh14GjZicdeEga0uI_adjvPG_ydk4aC9pHcJhRxHdlu=s64",
      "userId": "01450359895113891365"
     },
     "user_tz": -180
    },
    "id": "7thycVOKbCJ7",
    "outputId": "c85066c9-3e5b-4d58-ee33-7de5dc3cbf4d"
   },
   "outputs": [
    {
     "name": "stdout",
     "output_type": "stream",
     "text": [
      "[1 2 3]\n",
      "<class 'numpy.ndarray'>\n",
      "(3,)\n",
      "1\n",
      "3\n",
      "3\n"
     ]
    }
   ],
   "source": [
    "# Теперь проверим \n",
    "#   - тип объекта c помощью функции type()\n",
    "#   - размерность с помощью аттрибута .shape\n",
    "#   - доступ по индексам, как у обычного list\n",
    "\n",
    "# Для отладки можно выводить небольшие массивы прямо через print()\n",
    "\n",
    "print(arr_1d)\n",
    "print(type(arr_1d))\n",
    "print(arr_1d.shape)\n",
    "print(arr_1d[0])\n",
    "print(arr_1d[2])\n",
    "print(arr_1d[-1])"
   ]
  },
  {
   "cell_type": "markdown",
   "metadata": {
    "colab_type": "text",
    "id": "90qAyGF8bLLs"
   },
   "source": [
    "> Обратите внимание, индекс с отрицательным значением означает индексацию с конца. Это возможность языка Python. В данном случае индекс -1 ~ 2, так как 2 - последний индекс в массиве из трех элементов. Аналогично, если хотите взять второй элемент с конца, то можете использовать индекс -2 и т.д."
   ]
  },
  {
   "cell_type": "markdown",
   "metadata": {
    "colab_type": "text",
    "id": "GlDZi0V_bijd"
   },
   "source": [
    "Как видите, объект имеет тип `np.ndarray`, таким образом описываются все массивы при работе с numpy. Размерность представляет собой кортеж с одним элементом (создали 1D массив ~ массив первого ранга в терминах numpy)."
   ]
  },
  {
   "cell_type": "code",
   "execution_count": 4,
   "metadata": {
    "colab": {},
    "colab_type": "code",
    "id": "WfMA2hmgcPFH"
   },
   "outputs": [],
   "source": [
    "# Теперь создадим двумерный массив с помощью тех же list\n",
    "arr_2d = np.array([[1, 2, 3], [4, 5, 6]])"
   ]
  },
  {
   "cell_type": "code",
   "execution_count": 5,
   "metadata": {
    "colab": {
     "base_uri": "https://localhost:8080/",
     "height": 137
    },
    "colab_type": "code",
    "executionInfo": {
     "elapsed": 15020,
     "status": "ok",
     "timestamp": 1598902935969,
     "user": {
      "displayName": "Alexey Devyatkin",
      "photoUrl": "https://lh3.googleusercontent.com/a-/AOh14GjZicdeEga0uI_adjvPG_ydk4aC9pHcJhRxHdlu=s64",
      "userId": "01450359895113891365"
     },
     "user_tz": -180
    },
    "id": "ljaLlNS2cdvd",
    "outputId": "99ffe98e-8fee-41be-9cf5-c333eb786dd6"
   },
   "outputs": [
    {
     "name": "stdout",
     "output_type": "stream",
     "text": [
      "[[1 2 3]\n",
      " [4 5 6]]\n",
      "<class 'numpy.ndarray'>\n",
      "(2, 3)\n",
      "1\n",
      "6\n",
      "4\n"
     ]
    }
   ],
   "source": [
    "# Проверим также тип, размерность и доступ по индексам\n",
    "\n",
    "print(arr_2d)\n",
    "print(type(arr_2d))\n",
    "print(arr_2d.shape)\n",
    "print(arr_2d[0, 0])\n",
    "print(arr_2d[1, 2])\n",
    "print(arr_2d[1, 0])"
   ]
  },
  {
   "cell_type": "markdown",
   "metadata": {
    "colab_type": "text",
    "id": "wQKPgHh7cOlh"
   },
   "source": [
    "Теперь видно, что в кортеже размерности стало два элемента, при этом тип объекта никак не поменялся.\n",
    "\n",
    "Индексация в 2D массиве делается уже посредством двух индексов:\n",
    "- первый индекс - номер ряда (строки);\n",
    "- второй индекс - номер колонки (столбца).\n",
    "\n",
    "> В 1D массивах вообще никаких вопросов не возникает, в 2D (ряд, колонка), если разворачивать до 3D массивов, то можно интерпретировать как (ряд, колонка, глубина). Дальнейшие размерности уже сложнее в визуальной интерпретации, поэтому вместо названий для каждой размерности идет просто индексация."
   ]
  },
  {
   "cell_type": "markdown",
   "metadata": {
    "colab_type": "text",
    "id": "zeUwMz9aem4U"
   },
   "source": [
    "Помимо способов создания массивов из уже существующих представлений в виде `list`, можно также создавать массивы по-другому. Рассмотрим некоторые из них:\n"
   ]
  },
  {
   "cell_type": "code",
   "execution_count": 6,
   "metadata": {
    "colab": {
     "base_uri": "https://localhost:8080/",
     "height": 102
    },
    "colab_type": "code",
    "executionInfo": {
     "elapsed": 14908,
     "status": "ok",
     "timestamp": 1598902935983,
     "user": {
      "displayName": "Alexey Devyatkin",
      "photoUrl": "https://lh3.googleusercontent.com/a-/AOh14GjZicdeEga0uI_adjvPG_ydk4aC9pHcJhRxHdlu=s64",
      "userId": "01450359895113891365"
     },
     "user_tz": -180
    },
    "id": "W8EnLNXlf6HW",
    "outputId": "a8213954-9261-48e8-b049-1c2435edc251"
   },
   "outputs": [
    {
     "data": {
      "text/plain": [
       "array([[0., 0., 0.],\n",
       "       [0., 0., 0.],\n",
       "       [0., 0., 0.],\n",
       "       [0., 0., 0.],\n",
       "       [0., 0., 0.]])"
      ]
     },
     "execution_count": 6,
     "metadata": {},
     "output_type": "execute_result"
    }
   ],
   "source": [
    "# Создание массива фиксированного размера\n",
    "np.ndarray((5, 3))"
   ]
  },
  {
   "cell_type": "markdown",
   "metadata": {
    "colab_type": "text",
    "id": "IAHEQ5N2gUP_"
   },
   "source": [
    "В представленном способе мы напрямую вызываем конструктор и передаем ему размерность. Какими числами будет заполнен массив - никто не знает. Вероятнее всего, это будут нули, но для уверенности лучше самостоятельно заполнить такой массив данными."
   ]
  },
  {
   "cell_type": "code",
   "execution_count": 7,
   "metadata": {
    "colab": {
     "base_uri": "https://localhost:8080/",
     "height": 51
    },
    "colab_type": "code",
    "executionInfo": {
     "elapsed": 14829,
     "status": "ok",
     "timestamp": 1598902935992,
     "user": {
      "displayName": "Alexey Devyatkin",
      "photoUrl": "https://lh3.googleusercontent.com/a-/AOh14GjZicdeEga0uI_adjvPG_ydk4aC9pHcJhRxHdlu=s64",
      "userId": "01450359895113891365"
     },
     "user_tz": -180
    },
    "id": "U4fnZoDMgJc6",
    "outputId": "2917284c-b8a9-45a9-8d9c-f48cde9905fb"
   },
   "outputs": [
    {
     "data": {
      "text/plain": [
       "array([[0., 0., 0.],\n",
       "       [0., 0., 0.]])"
      ]
     },
     "execution_count": 7,
     "metadata": {},
     "output_type": "execute_result"
    }
   ],
   "source": [
    "# Явное создание массива нулей\n",
    "np.zeros((2, 3))"
   ]
  },
  {
   "cell_type": "code",
   "execution_count": 8,
   "metadata": {
    "colab": {
     "base_uri": "https://localhost:8080/",
     "height": 68
    },
    "colab_type": "code",
    "executionInfo": {
     "elapsed": 14737,
     "status": "ok",
     "timestamp": 1598902935996,
     "user": {
      "displayName": "Alexey Devyatkin",
      "photoUrl": "https://lh3.googleusercontent.com/a-/AOh14GjZicdeEga0uI_adjvPG_ydk4aC9pHcJhRxHdlu=s64",
      "userId": "01450359895113891365"
     },
     "user_tz": -180
    },
    "id": "AaJSBHSdgtCY",
    "outputId": "48d926ab-9bcd-4cbe-e378-35cd4444d096"
   },
   "outputs": [
    {
     "data": {
      "text/plain": [
       "array([[1., 1.],\n",
       "       [1., 1.],\n",
       "       [1., 1.]])"
      ]
     },
     "execution_count": 8,
     "metadata": {},
     "output_type": "execute_result"
    }
   ],
   "source": [
    "# Явное создание массива единиц\n",
    "np.ones((3, 2))"
   ]
  },
  {
   "cell_type": "code",
   "execution_count": 9,
   "metadata": {
    "colab": {
     "base_uri": "https://localhost:8080/",
     "height": 68
    },
    "colab_type": "code",
    "executionInfo": {
     "elapsed": 14682,
     "status": "ok",
     "timestamp": 1598902935999,
     "user": {
      "displayName": "Alexey Devyatkin",
      "photoUrl": "https://lh3.googleusercontent.com/a-/AOh14GjZicdeEga0uI_adjvPG_ydk4aC9pHcJhRxHdlu=s64",
      "userId": "01450359895113891365"
     },
     "user_tz": -180
    },
    "id": "8_elMSoK7wQL",
    "outputId": "7f847991-56fc-4d28-b526-55634ffb2470"
   },
   "outputs": [
    {
     "data": {
      "text/plain": [
       "array([[5, 5, 5, 5],\n",
       "       [5, 5, 5, 5],\n",
       "       [5, 5, 5, 5]])"
      ]
     },
     "execution_count": 9,
     "metadata": {},
     "output_type": "execute_result"
    }
   ],
   "source": [
    "# Создание массива, заполненного константным значением\n",
    "np.full((3, 4), 5)"
   ]
  },
  {
   "cell_type": "code",
   "execution_count": 10,
   "metadata": {
    "colab": {
     "base_uri": "https://localhost:8080/",
     "height": 68
    },
    "colab_type": "code",
    "executionInfo": {
     "elapsed": 14596,
     "status": "ok",
     "timestamp": 1598902936003,
     "user": {
      "displayName": "Alexey Devyatkin",
      "photoUrl": "https://lh3.googleusercontent.com/a-/AOh14GjZicdeEga0uI_adjvPG_ydk4aC9pHcJhRxHdlu=s64",
      "userId": "01450359895113891365"
     },
     "user_tz": -180
    },
    "id": "iNN2C908gwUB",
    "outputId": "1ba59262-2d9f-47b2-c35a-0566e7f4b2a9"
   },
   "outputs": [
    {
     "data": {
      "text/plain": [
       "array([[1., 0.],\n",
       "       [0., 1.],\n",
       "       [0., 0.]])"
      ]
     },
     "execution_count": 10,
     "metadata": {},
     "output_type": "execute_result"
    }
   ],
   "source": [
    "# 2D массив с единичной главной диагональю\n",
    "# (*) В этой функции размерность задается не кортежем, а отдельными аргументами\n",
    "np.eye(3, 2)"
   ]
  },
  {
   "cell_type": "code",
   "execution_count": 11,
   "metadata": {
    "colab": {
     "base_uri": "https://localhost:8080/",
     "height": 51
    },
    "colab_type": "code",
    "executionInfo": {
     "elapsed": 14510,
     "status": "ok",
     "timestamp": 1598902936006,
     "user": {
      "displayName": "Alexey Devyatkin",
      "photoUrl": "https://lh3.googleusercontent.com/a-/AOh14GjZicdeEga0uI_adjvPG_ydk4aC9pHcJhRxHdlu=s64",
      "userId": "01450359895113891365"
     },
     "user_tz": -180
    },
    "id": "x8cGz7nIhbbE",
    "outputId": "e2a9a259-0b9e-4e3a-e4da-8cb225d5e9ef"
   },
   "outputs": [
    {
     "data": {
      "text/plain": [
       "array([[0, 0, 0],\n",
       "       [0, 0, 0]])"
      ]
     },
     "execution_count": 11,
     "metadata": {},
     "output_type": "execute_result"
    }
   ],
   "source": [
    "# Создание массива нулей с такой же размерностью, как уже существующий\n",
    "arr_2d = np.array([[1, 2, 3], [4, 5, 6]])\n",
    "\n",
    "np.zeros_like(arr_2d)"
   ]
  },
  {
   "cell_type": "code",
   "execution_count": 12,
   "metadata": {
    "colab": {
     "base_uri": "https://localhost:8080/",
     "height": 51
    },
    "colab_type": "code",
    "executionInfo": {
     "elapsed": 14423,
     "status": "ok",
     "timestamp": 1598902936010,
     "user": {
      "displayName": "Alexey Devyatkin",
      "photoUrl": "https://lh3.googleusercontent.com/a-/AOh14GjZicdeEga0uI_adjvPG_ydk4aC9pHcJhRxHdlu=s64",
      "userId": "01450359895113891365"
     },
     "user_tz": -180
    },
    "id": "BqDTBiWzhj9R",
    "outputId": "ddc6ae91-5518-4ce2-e29e-d978fec22e0b"
   },
   "outputs": [
    {
     "data": {
      "text/plain": [
       "array([[1, 1, 1],\n",
       "       [1, 1, 1]])"
      ]
     },
     "execution_count": 12,
     "metadata": {},
     "output_type": "execute_result"
    }
   ],
   "source": [
    "# Создание массива единиц с такой же размерностью, как уже существующий\n",
    "arr_2d = np.array([[1, 2, 3], [4, 5, 6]])\n",
    "\n",
    "np.ones_like(arr_2d)"
   ]
  },
  {
   "cell_type": "code",
   "execution_count": 13,
   "metadata": {
    "colab": {
     "base_uri": "https://localhost:8080/",
     "height": 51
    },
    "colab_type": "code",
    "executionInfo": {
     "elapsed": 14351,
     "status": "ok",
     "timestamp": 1598902936023,
     "user": {
      "displayName": "Alexey Devyatkin",
      "photoUrl": "https://lh3.googleusercontent.com/a-/AOh14GjZicdeEga0uI_adjvPG_ydk4aC9pHcJhRxHdlu=s64",
      "userId": "01450359895113891365"
     },
     "user_tz": -180
    },
    "id": "MOqhVLYL7flG",
    "outputId": "4d4be8cd-eebd-48ff-c3a9-73021ea2ccec"
   },
   "outputs": [
    {
     "data": {
      "text/plain": [
       "array([[0.62359756, 0.92109076],\n",
       "       [0.35969966, 0.38916425]])"
      ]
     },
     "execution_count": 13,
     "metadata": {},
     "output_type": "execute_result"
    }
   ],
   "source": [
    "# Создание массива со случайными значениями в интервале [0; 1.0)\n",
    "np.random.random((2,2))"
   ]
  },
  {
   "cell_type": "code",
   "execution_count": 14,
   "metadata": {
    "colab": {
     "base_uri": "https://localhost:8080/",
     "height": 34
    },
    "colab_type": "code",
    "executionInfo": {
     "elapsed": 14270,
     "status": "ok",
     "timestamp": 1598902936027,
     "user": {
      "displayName": "Alexey Devyatkin",
      "photoUrl": "https://lh3.googleusercontent.com/a-/AOh14GjZicdeEga0uI_adjvPG_ydk4aC9pHcJhRxHdlu=s64",
      "userId": "01450359895113891365"
     },
     "user_tz": -180
    },
    "id": "PwWoeq26zmFm",
    "outputId": "08bd1868-479f-453b-8cb1-fe6256a5d641"
   },
   "outputs": [
    {
     "data": {
      "text/plain": [
       "array([1. , 2.5, 4. , 5.5, 7. , 8.5])"
      ]
     },
     "execution_count": 14,
     "metadata": {},
     "output_type": "execute_result"
    }
   ],
   "source": [
    "# Аналог функции range\n",
    "np.arange(start=1, stop=10, step=1.5)"
   ]
  },
  {
   "cell_type": "code",
   "execution_count": 15,
   "metadata": {
    "colab": {
     "base_uri": "https://localhost:8080/",
     "height": 51
    },
    "colab_type": "code",
    "executionInfo": {
     "elapsed": 14187,
     "status": "ok",
     "timestamp": 1598902936031,
     "user": {
      "displayName": "Alexey Devyatkin",
      "photoUrl": "https://lh3.googleusercontent.com/a-/AOh14GjZicdeEga0uI_adjvPG_ydk4aC9pHcJhRxHdlu=s64",
      "userId": "01450359895113891365"
     },
     "user_tz": -180
    },
    "id": "adlhJ7Hnz-z9",
    "outputId": "2abddb47-a03b-419f-de1c-77fdb3b0ddfb"
   },
   "outputs": [
    {
     "data": {
      "text/plain": [
       "array([1.        , 1.11111111, 1.22222222, 1.33333333, 1.44444444,\n",
       "       1.55555556, 1.66666667, 1.77777778, 1.88888889, 2.        ])"
      ]
     },
     "execution_count": 15,
     "metadata": {},
     "output_type": "execute_result"
    }
   ],
   "source": [
    "# Также создание диапазона значений, но уже с заданием количества элементов\n",
    "# (*) stop уже входит в создаваемый диапазон\n",
    "np.linspace(start=1, stop=2, num=10)"
   ]
  },
  {
   "cell_type": "markdown",
   "metadata": {
    "colab_type": "text",
    "id": "S-szHgm6hq7X"
   },
   "source": [
    "# Хитрая индексация"
   ]
  },
  {
   "cell_type": "markdown",
   "metadata": {
    "colab_type": "text",
    "id": "LYFlLDO5huxy"
   },
   "source": [
    "Индексация в Python не ограничивается заданием конкретных индексов для получения значений в контейнерах (стандартных или массивов `ndarray`). Существуют специальные символы и подходы для работы с диапазонами данных, которые не только упрощают и улучшают код, но и выполняются более быстро, нежели проходы по массивам циклом.\n",
    "\n",
    "Начнем со знакомства с символом `:`, который позволяет задавать диапазон индексов для чтения/записи контейнеров."
   ]
  },
  {
   "cell_type": "code",
   "execution_count": 16,
   "metadata": {
    "colab": {},
    "colab_type": "code",
    "id": "9UClHM52huJi"
   },
   "outputs": [],
   "source": [
    "# Для начала на простом списке (1D массива)\n",
    "# Следующее создание массива можно заменить list(range(1, 11))\n",
    "arr = [1, 2, 3, 4, 5, 6, 7, 8, 9, 10]"
   ]
  },
  {
   "cell_type": "code",
   "execution_count": 17,
   "metadata": {
    "colab": {
     "base_uri": "https://localhost:8080/",
     "height": 68
    },
    "colab_type": "code",
    "executionInfo": {
     "elapsed": 14107,
     "status": "ok",
     "timestamp": 1598902936041,
     "user": {
      "displayName": "Alexey Devyatkin",
      "photoUrl": "https://lh3.googleusercontent.com/a-/AOh14GjZicdeEga0uI_adjvPG_ydk4aC9pHcJhRxHdlu=s64",
      "userId": "01450359895113891365"
     },
     "user_tz": -180
    },
    "id": "eltg4vei7P2R",
    "outputId": "d71b442c-4165-4f8b-e3cd-9f94a782d6b2"
   },
   "outputs": [
    {
     "name": "stdout",
     "output_type": "stream",
     "text": [
      "1\n",
      "9\n",
      "6\n"
     ]
    }
   ],
   "source": [
    "# Простая индексация\n",
    "print(arr[0])\n",
    "print(arr[-2])\n",
    "print(arr[5])"
   ]
  },
  {
   "cell_type": "markdown",
   "metadata": {
    "colab_type": "text",
    "id": "dzWHdiZw8GlN"
   },
   "source": [
    "Для получения подмассива (части массива) или записи в подмассив используется нотация $$index_{start}:index_{end}:step$$\n",
    "\n",
    "- $index_{start}$ - индекс начала подмассива\n",
    "- $index_{end}$ - индекс конца подмассива\n",
    "- $step$ - шаг подмассива"
   ]
  },
  {
   "cell_type": "code",
   "execution_count": 18,
   "metadata": {
    "colab": {
     "base_uri": "https://localhost:8080/",
     "height": 34
    },
    "colab_type": "code",
    "executionInfo": {
     "elapsed": 14042,
     "status": "ok",
     "timestamp": 1598902936044,
     "user": {
      "displayName": "Alexey Devyatkin",
      "photoUrl": "https://lh3.googleusercontent.com/a-/AOh14GjZicdeEga0uI_adjvPG_ydk4aC9pHcJhRxHdlu=s64",
      "userId": "01450359895113891365"
     },
     "user_tz": -180
    },
    "id": "w3x1hjul7ZnM",
    "outputId": "c888219f-ebfc-40c3-c462-5a186bf6ece7"
   },
   "outputs": [
    {
     "name": "stdout",
     "output_type": "stream",
     "text": [
      "[3, 5, 7]\n"
     ]
    }
   ],
   "source": [
    "# Получение части массива от 2го элемента до 6го (не включительно) \n",
    "#   с шагом 2 \n",
    "print(arr[2:8:2])"
   ]
  },
  {
   "cell_type": "code",
   "execution_count": 19,
   "metadata": {
    "colab": {
     "base_uri": "https://localhost:8080/",
     "height": 34
    },
    "colab_type": "code",
    "executionInfo": {
     "elapsed": 13986,
     "status": "ok",
     "timestamp": 1598902936047,
     "user": {
      "displayName": "Alexey Devyatkin",
      "photoUrl": "https://lh3.googleusercontent.com/a-/AOh14GjZicdeEga0uI_adjvPG_ydk4aC9pHcJhRxHdlu=s64",
      "userId": "01450359895113891365"
     },
     "user_tz": -180
    },
    "id": "UeghJuRp9XSG",
    "outputId": "4e508fa8-00e3-4a8c-98a5-7772aae248c9"
   },
   "outputs": [
    {
     "name": "stdout",
     "output_type": "stream",
     "text": [
      "[3, 4, 5, 6, 7, 8]\n"
     ]
    }
   ],
   "source": [
    "# Если шаг не задан, то он равен единице (при этом второй раз : не пишется)\n",
    "print(arr[2:8])"
   ]
  },
  {
   "cell_type": "code",
   "execution_count": 20,
   "metadata": {
    "colab": {
     "base_uri": "https://localhost:8080/",
     "height": 34
    },
    "colab_type": "code",
    "executionInfo": {
     "elapsed": 13828,
     "status": "ok",
     "timestamp": 1598902936054,
     "user": {
      "displayName": "Alexey Devyatkin",
      "photoUrl": "https://lh3.googleusercontent.com/a-/AOh14GjZicdeEga0uI_adjvPG_ydk4aC9pHcJhRxHdlu=s64",
      "userId": "01450359895113891365"
     },
     "user_tz": -180
    },
    "id": "f2et5vq_9YQ0",
    "outputId": "9d8d00aa-6cff-4397-87f7-60d0ec48710e"
   },
   "outputs": [
    {
     "name": "stdout",
     "output_type": "stream",
     "text": [
      "[9, 8, 7, 6, 5, 4]\n"
     ]
    }
   ],
   "source": [
    "# Шаг может быть и отрицательным (индексы меняются местами)\n",
    "print(arr[8:2:-1])"
   ]
  },
  {
   "cell_type": "code",
   "execution_count": 21,
   "metadata": {
    "colab": {
     "base_uri": "https://localhost:8080/",
     "height": 51
    },
    "colab_type": "code",
    "executionInfo": {
     "elapsed": 13635,
     "status": "ok",
     "timestamp": 1598902936075,
     "user": {
      "displayName": "Alexey Devyatkin",
      "photoUrl": "https://lh3.googleusercontent.com/a-/AOh14GjZicdeEga0uI_adjvPG_ydk4aC9pHcJhRxHdlu=s64",
      "userId": "01450359895113891365"
     },
     "user_tz": -180
    },
    "id": "THxAw6mR9ZK1",
    "outputId": "92559d71-b762-4030-9b1f-a0be263728b6"
   },
   "outputs": [
    {
     "name": "stdout",
     "output_type": "stream",
     "text": [
      "[3, 4, 5, 6, 7, 8, 9, 10]\n",
      "[1, 2, 3, 4, 5, 6, 7, 8]\n"
     ]
    }
   ],
   "source": [
    "# Если не задавать index_start или index_end, \n",
    "#   то они будут равны индексу начала и конца массива\n",
    "print(arr[2:])\n",
    "print(arr[:8])"
   ]
  },
  {
   "cell_type": "code",
   "execution_count": 22,
   "metadata": {
    "colab": {
     "base_uri": "https://localhost:8080/",
     "height": 51
    },
    "colab_type": "code",
    "executionInfo": {
     "elapsed": 13402,
     "status": "ok",
     "timestamp": 1598902936079,
     "user": {
      "displayName": "Alexey Devyatkin",
      "photoUrl": "https://lh3.googleusercontent.com/a-/AOh14GjZicdeEga0uI_adjvPG_ydk4aC9pHcJhRxHdlu=s64",
      "userId": "01450359895113891365"
     },
     "user_tz": -180
    },
    "id": "Ti3t0ZVa9gfe",
    "outputId": "595c578b-9dea-4913-aef8-11c0b5e4fbad"
   },
   "outputs": [
    {
     "name": "stdout",
     "output_type": "stream",
     "text": [
      "[3, 5, 7, 9]\n",
      "[1, 4, 7]\n"
     ]
    }
   ],
   "source": [
    "# Можно комбинировать один из индексов и шаг\n",
    "print(arr[2::2])\n",
    "print(arr[:8:3])"
   ]
  },
  {
   "cell_type": "code",
   "execution_count": 23,
   "metadata": {
    "colab": {
     "base_uri": "https://localhost:8080/",
     "height": 34
    },
    "colab_type": "code",
    "executionInfo": {
     "elapsed": 13163,
     "status": "ok",
     "timestamp": 1598902936082,
     "user": {
      "displayName": "Alexey Devyatkin",
      "photoUrl": "https://lh3.googleusercontent.com/a-/AOh14GjZicdeEga0uI_adjvPG_ydk4aC9pHcJhRxHdlu=s64",
      "userId": "01450359895113891365"
     },
     "user_tz": -180
    },
    "id": "xj257QBQ-LsQ",
    "outputId": "503be9fe-e300-42ef-d32b-c21a3620748e"
   },
   "outputs": [
    {
     "name": "stdout",
     "output_type": "stream",
     "text": [
      "[1, 1, 2, 3, 4, 6, 7, 8, 9, 10]\n"
     ]
    }
   ],
   "source": [
    "# И не забываем, что все трюки работают и на запись\n",
    "new_arr = list(range(1, 11))\n",
    "\n",
    "new_arr[1:5] = arr[:4]\n",
    "print(new_arr)"
   ]
  },
  {
   "cell_type": "code",
   "execution_count": 24,
   "metadata": {
    "colab": {
     "base_uri": "https://localhost:8080/",
     "height": 34
    },
    "colab_type": "code",
    "executionInfo": {
     "elapsed": 12964,
     "status": "ok",
     "timestamp": 1598902936085,
     "user": {
      "displayName": "Alexey Devyatkin",
      "photoUrl": "https://lh3.googleusercontent.com/a-/AOh14GjZicdeEga0uI_adjvPG_ydk4aC9pHcJhRxHdlu=s64",
      "userId": "01450359895113891365"
     },
     "user_tz": -180
    },
    "id": "UiQHCjYPAreX",
    "outputId": "cb978a3f-2dbd-485e-f844-da07469fb340"
   },
   "outputs": [
    {
     "name": "stdout",
     "output_type": "stream",
     "text": [
      "[1, 2, 3, 4, 5, 6, 7, 8, 9, 10]\n"
     ]
    }
   ],
   "source": [
    "# Не самая полезная, но все же запись (получить весь диапазон)\n",
    "print(arr[:])"
   ]
  },
  {
   "cell_type": "markdown",
   "metadata": {
    "colab_type": "text",
    "id": "Y1CX7Bpi91aI"
   },
   "source": [
    "## Задание\n",
    "\n",
    "Объясните результат операции:"
   ]
  },
  {
   "cell_type": "code",
   "execution_count": 25,
   "metadata": {
    "colab": {
     "base_uri": "https://localhost:8080/",
     "height": 34
    },
    "colab_type": "code",
    "executionInfo": {
     "elapsed": 12883,
     "status": "ok",
     "timestamp": 1598902936089,
     "user": {
      "displayName": "Alexey Devyatkin",
      "photoUrl": "https://lh3.googleusercontent.com/a-/AOh14GjZicdeEga0uI_adjvPG_ydk4aC9pHcJhRxHdlu=s64",
      "userId": "01450359895113891365"
     },
     "user_tz": -180
    },
    "id": "HRS-xvPK97di",
    "outputId": "6a52db7a-8e0e-44a8-da51-fe16272a0838"
   },
   "outputs": [
    {
     "name": "stdout",
     "output_type": "stream",
     "text": [
      "[10, 8]\n"
     ]
    }
   ],
   "source": [
    "print(arr[:5:-2])"
   ]
  },
  {
   "cell_type": "markdown",
   "metadata": {},
   "source": [
    "Т.к. $index_{step}$ = -2 и $index_{start}$ явно не задан, то начало обхода массива начинается с конца, т.е. с индекса = 9 (arr[9] = 10] и далее с учетом шага -2, т.е. следующий индекс = 7 (arr[7] = 8), поскольку $index_{end}$ = 5 не включается, то в срезе присутвствуют только два значения [10, 8]"
   ]
  },
  {
   "cell_type": "markdown",
   "metadata": {
    "colab_type": "text",
    "id": "CmTGLk0n_K8w"
   },
   "source": [
    "## Задание\n",
    "\n",
    "Получите перевернутый список:"
   ]
  },
  {
   "cell_type": "code",
   "execution_count": 26,
   "metadata": {
    "colab": {
     "base_uri": "https://localhost:8080/",
     "height": 34
    },
    "colab_type": "code",
    "executionInfo": {
     "elapsed": 12829,
     "status": "ok",
     "timestamp": 1598902936120,
     "user": {
      "displayName": "Alexey Devyatkin",
      "photoUrl": "https://lh3.googleusercontent.com/a-/AOh14GjZicdeEga0uI_adjvPG_ydk4aC9pHcJhRxHdlu=s64",
      "userId": "01450359895113891365"
     },
     "user_tz": -180
    },
    "id": "7XJaNnuf_TUl",
    "outputId": "e21fee78-af36-4f31-8faa-7fcb9674cce7"
   },
   "outputs": [
    {
     "name": "stdout",
     "output_type": "stream",
     "text": [
      "[0, 1, 2, 3, 4, 5, 6, 7, 8, 9]\n",
      "[9, 8, 7, 6, 5, 4, 3, 2, 1, 0]\n"
     ]
    }
   ],
   "source": [
    "data = list(range(10))\n",
    "print(data)\n",
    "\n",
    "data = data[::-1]\n",
    "print(data)"
   ]
  },
  {
   "cell_type": "markdown",
   "metadata": {
    "colab_type": "text",
    "id": "TT3t4yG5B8XW"
   },
   "source": [
    "## Задание\n",
    "\n",
    "Получите массив без первого и двух последних элементов:"
   ]
  },
  {
   "cell_type": "code",
   "execution_count": 27,
   "metadata": {
    "colab": {
     "base_uri": "https://localhost:8080/",
     "height": 34
    },
    "colab_type": "code",
    "executionInfo": {
     "elapsed": 12757,
     "status": "ok",
     "timestamp": 1598902936123,
     "user": {
      "displayName": "Alexey Devyatkin",
      "photoUrl": "https://lh3.googleusercontent.com/a-/AOh14GjZicdeEga0uI_adjvPG_ydk4aC9pHcJhRxHdlu=s64",
      "userId": "01450359895113891365"
     },
     "user_tz": -180
    },
    "id": "evJXMrHrCFFj",
    "outputId": "892b0310-b048-4fda-a782-80fd699bcc6e"
   },
   "outputs": [
    {
     "name": "stdout",
     "output_type": "stream",
     "text": [
      "[0, 1, 2, 3, 4, 5, 6, 7, 8, 9]\n",
      "[1, 2, 3, 4, 5, 6, 7]\n"
     ]
    }
   ],
   "source": [
    "data = list(range(10))\n",
    "print(data)\n",
    "\n",
    "data = data[1:(len(data)-2):1]\n",
    "print(data)"
   ]
  },
  {
   "cell_type": "markdown",
   "metadata": {
    "colab_type": "text",
    "id": "yr_Sgpxeg7nG"
   },
   "source": [
    "# Хитрая индексация в матрицах"
   ]
  },
  {
   "cell_type": "markdown",
   "metadata": {
    "colab_type": "text",
    "id": "4vzYWeA1_nL4"
   },
   "source": [
    "Работа с одномерными списками удобна даже через класс `list`, но 2D массивы уже удобнее использовать через библиотеку numpy. Использование numpy никак не ограничивает применение такой индексации, так что можно делать много классных штук:"
   ]
  },
  {
   "cell_type": "code",
   "execution_count": 28,
   "metadata": {
    "colab": {
     "base_uri": "https://localhost:8080/",
     "height": 68
    },
    "colab_type": "code",
    "executionInfo": {
     "elapsed": 12687,
     "status": "ok",
     "timestamp": 1598902936126,
     "user": {
      "displayName": "Alexey Devyatkin",
      "photoUrl": "https://lh3.googleusercontent.com/a-/AOh14GjZicdeEga0uI_adjvPG_ydk4aC9pHcJhRxHdlu=s64",
      "userId": "01450359895113891365"
     },
     "user_tz": -180
    },
    "id": "roSKMhOd_7HG",
    "outputId": "382d14d8-346d-4cdd-86ba-ee435688e507"
   },
   "outputs": [
    {
     "name": "stdout",
     "output_type": "stream",
     "text": [
      "[[ 1  2  3  4]\n",
      " [ 5  6  7  8]\n",
      " [ 9 10 11 12]]\n"
     ]
    }
   ],
   "source": [
    "arr = np.array([[1, 2, 3, 4], [5, 6, 7, 8], [9, 10, 11, 12]])\n",
    "print(arr)"
   ]
  },
  {
   "cell_type": "markdown",
   "metadata": {
    "colab_type": "text",
    "id": "bw7Re8l_ASG0"
   },
   "source": [
    "В индексации numpy есть очень полезное правило: если последующие индексы не заданы, то они принимаются как \"весь диапазон\". Например, в двумерном массиве мы индексируем по двум числам $[3, 2]$. Если в 2D массиве задать индекс $[3]$, то это эквивалентно индексации $[3, :]$, то есть третий ряд, все колонки.\n",
    "\n",
    "В плане предшествующих индексов это не работает, поэтому, чтобы получить целую колонку, надо индексировать $[:, 2]$."
   ]
  },
  {
   "cell_type": "code",
   "execution_count": 29,
   "metadata": {
    "colab": {
     "base_uri": "https://localhost:8080/",
     "height": 51
    },
    "colab_type": "code",
    "executionInfo": {
     "elapsed": 12649,
     "status": "ok",
     "timestamp": 1598902936159,
     "user": {
      "displayName": "Alexey Devyatkin",
      "photoUrl": "https://lh3.googleusercontent.com/a-/AOh14GjZicdeEga0uI_adjvPG_ydk4aC9pHcJhRxHdlu=s64",
      "userId": "01450359895113891365"
     },
     "user_tz": -180
    },
    "id": "KhiA2r2-AK5d",
    "outputId": "17c7fd29-026f-4b4e-8818-bd8a522e4dcf"
   },
   "outputs": [
    {
     "name": "stdout",
     "output_type": "stream",
     "text": [
      "[ 9 10 11 12]\n",
      "[ 9 10 11 12]\n"
     ]
    }
   ],
   "source": [
    "# Получим вторую строку массива\n",
    "print(arr[2])\n",
    "print(arr[2, :])"
   ]
  },
  {
   "cell_type": "code",
   "execution_count": 30,
   "metadata": {
    "colab": {
     "base_uri": "https://localhost:8080/",
     "height": 34
    },
    "colab_type": "code",
    "executionInfo": {
     "elapsed": 12160,
     "status": "ok",
     "timestamp": 1598902936175,
     "user": {
      "displayName": "Alexey Devyatkin",
      "photoUrl": "https://lh3.googleusercontent.com/a-/AOh14GjZicdeEga0uI_adjvPG_ydk4aC9pHcJhRxHdlu=s64",
      "userId": "01450359895113891365"
     },
     "user_tz": -180
    },
    "id": "dF2bEK7dBU5C",
    "outputId": "a25a0f1f-e267-4341-8fd5-3b231c433c16"
   },
   "outputs": [
    {
     "name": "stdout",
     "output_type": "stream",
     "text": [
      "[ 2  6 10]\n"
     ]
    }
   ],
   "source": [
    "# Получим первую колонку массива\n",
    "print(arr[:, 1])"
   ]
  },
  {
   "cell_type": "code",
   "execution_count": 31,
   "metadata": {
    "colab": {
     "base_uri": "https://localhost:8080/",
     "height": 34
    },
    "colab_type": "code",
    "executionInfo": {
     "elapsed": 12066,
     "status": "ok",
     "timestamp": 1598902936192,
     "user": {
      "displayName": "Alexey Devyatkin",
      "photoUrl": "https://lh3.googleusercontent.com/a-/AOh14GjZicdeEga0uI_adjvPG_ydk4aC9pHcJhRxHdlu=s64",
      "userId": "01450359895113891365"
     },
     "user_tz": -180
    },
    "id": "MjkcYLIUBoIZ",
    "outputId": "30fbbc58-4423-4233-d4ef-781f58370b01"
   },
   "outputs": [
    {
     "name": "stdout",
     "output_type": "stream",
     "text": [
      "[5 6]\n"
     ]
    }
   ],
   "source": [
    "# Получить первые два элемента (первые две колонки) первого ряда\n",
    "print(arr[1, :2])"
   ]
  },
  {
   "cell_type": "code",
   "execution_count": 32,
   "metadata": {
    "colab": {
     "base_uri": "https://localhost:8080/",
     "height": 120
    },
    "colab_type": "code",
    "executionInfo": {
     "elapsed": 11999,
     "status": "ok",
     "timestamp": 1598902936194,
     "user": {
      "displayName": "Alexey Devyatkin",
      "photoUrl": "https://lh3.googleusercontent.com/a-/AOh14GjZicdeEga0uI_adjvPG_ydk4aC9pHcJhRxHdlu=s64",
      "userId": "01450359895113891365"
     },
     "user_tz": -180
    },
    "id": "nsjlZWVkC4JV",
    "outputId": "3deff8b2-34f3-49a8-fc2c-fae947dd1ea0"
   },
   "outputs": [
    {
     "name": "stdout",
     "output_type": "stream",
     "text": [
      "[[ 1  2  3  4]\n",
      " [ 5  6  7  8]\n",
      " [ 9 10 11 12]]\n",
      "[[1 2 3 4]\n",
      " [5 6 7 8]\n",
      " [5 6 7 8]]\n"
     ]
    }
   ],
   "source": [
    "# Можно повторять целые части массива\n",
    "#   (но при этом должны соотноситься размерности)\n",
    "# ndarray.copy() - функция копирования массива\n",
    "# Копируем, чтобы не изменить оригинальный\n",
    "new_arr = arr.copy()\n",
    "print(arr)\n",
    "\n",
    "new_arr[2, :] = arr[1, :]\n",
    "print(new_arr)"
   ]
  },
  {
   "cell_type": "code",
   "execution_count": 33,
   "metadata": {
    "colab": {
     "base_uri": "https://localhost:8080/",
     "height": 68
    },
    "colab_type": "code",
    "executionInfo": {
     "elapsed": 11944,
     "status": "ok",
     "timestamp": 1598902936211,
     "user": {
      "displayName": "Alexey Devyatkin",
      "photoUrl": "https://lh3.googleusercontent.com/a-/AOh14GjZicdeEga0uI_adjvPG_ydk4aC9pHcJhRxHdlu=s64",
      "userId": "01450359895113891365"
     },
     "user_tz": -180
    },
    "id": "Cok9ET1xDpHL",
    "outputId": "2124083d-d58a-4f28-c40d-1119fb083bb3"
   },
   "outputs": [
    {
     "name": "stdout",
     "output_type": "stream",
     "text": [
      "[[1 2]\n",
      " [5 6]]\n",
      "(2, 2)\n"
     ]
    }
   ],
   "source": [
    "# При этом, такая индексация - это новый массив со своей размерностью.\n",
    "print(arr[:2, :2])\n",
    "print(arr[:2, :2].shape)"
   ]
  },
  {
   "cell_type": "code",
   "execution_count": 34,
   "metadata": {
    "colab": {
     "base_uri": "https://localhost:8080/",
     "height": 68
    },
    "colab_type": "code",
    "executionInfo": {
     "elapsed": 11871,
     "status": "ok",
     "timestamp": 1598902936214,
     "user": {
      "displayName": "Alexey Devyatkin",
      "photoUrl": "https://lh3.googleusercontent.com/a-/AOh14GjZicdeEga0uI_adjvPG_ydk4aC9pHcJhRxHdlu=s64",
      "userId": "01450359895113891365"
     },
     "user_tz": -180
    },
    "id": "cc0YJBmSEDlb",
    "outputId": "5679e9c3-baad-4c17-ace9-872db748ce6d"
   },
   "outputs": [
    {
     "name": "stdout",
     "output_type": "stream",
     "text": [
      "[[ 1  4]\n",
      " [ 5  8]\n",
      " [ 9 12]]\n"
     ]
    }
   ],
   "source": [
    "# В качестве индексов можно также задавать другие массивы\n",
    "# Получаем первую и последнюю колонки\n",
    "print(arr[:, [0, -1]])"
   ]
  },
  {
   "cell_type": "code",
   "execution_count": 35,
   "metadata": {
    "colab": {
     "base_uri": "https://localhost:8080/",
     "height": 68
    },
    "colab_type": "code",
    "executionInfo": {
     "elapsed": 11820,
     "status": "ok",
     "timestamp": 1598902936226,
     "user": {
      "displayName": "Alexey Devyatkin",
      "photoUrl": "https://lh3.googleusercontent.com/a-/AOh14GjZicdeEga0uI_adjvPG_ydk4aC9pHcJhRxHdlu=s64",
      "userId": "01450359895113891365"
     },
     "user_tz": -180
    },
    "id": "296Ww5MDFaY4",
    "outputId": "362ee527-43c8-41a4-e0de-18820b1255c9"
   },
   "outputs": [
    {
     "name": "stdout",
     "output_type": "stream",
     "text": [
      "[[ 9 10 11 12]\n",
      " [ 1  2  3  4]\n",
      " [ 5  6  7  8]]\n"
     ]
    }
   ],
   "source": [
    "# И таким образом никто не заставляет писать в том же порядке индексы\n",
    "# Перемешаем ряды\n",
    "print(arr[[2, 0, 1], :])"
   ]
  },
  {
   "cell_type": "code",
   "execution_count": 36,
   "metadata": {
    "colab": {
     "base_uri": "https://localhost:8080/",
     "height": 51
    },
    "colab_type": "code",
    "executionInfo": {
     "elapsed": 11775,
     "status": "ok",
     "timestamp": 1598902936239,
     "user": {
      "displayName": "Alexey Devyatkin",
      "photoUrl": "https://lh3.googleusercontent.com/a-/AOh14GjZicdeEga0uI_adjvPG_ydk4aC9pHcJhRxHdlu=s64",
      "userId": "01450359895113891365"
     },
     "user_tz": -180
    },
    "id": "RFkxEluyFpZb",
    "outputId": "fcb59443-3191-423d-f9d9-089eaad16346"
   },
   "outputs": [
    {
     "name": "stdout",
     "output_type": "stream",
     "text": [
      "[10  4]\n",
      "10 4\n"
     ]
    }
   ],
   "source": [
    "# Также, можно комбинировать способы задания\n",
    "print(arr[[2, 0], [1, 3]])\n",
    "# То же самое, только первая запись дает массив\n",
    "print(arr[2, 1], arr[0, 3])"
   ]
  },
  {
   "cell_type": "code",
   "execution_count": 37,
   "metadata": {
    "colab": {
     "base_uri": "https://localhost:8080/",
     "height": 120
    },
    "colab_type": "code",
    "executionInfo": {
     "elapsed": 11707,
     "status": "ok",
     "timestamp": 1598902936242,
     "user": {
      "displayName": "Alexey Devyatkin",
      "photoUrl": "https://lh3.googleusercontent.com/a-/AOh14GjZicdeEga0uI_adjvPG_ydk4aC9pHcJhRxHdlu=s64",
      "userId": "01450359895113891365"
     },
     "user_tz": -180
    },
    "id": "EKQkjUnxE4vN",
    "outputId": "6fffec76-9805-47bd-ca1f-76f0fc328bd9"
   },
   "outputs": [
    {
     "name": "stdout",
     "output_type": "stream",
     "text": [
      "[0, 1, 2]\n",
      "[2, 1, 0]\n",
      "----------------\n",
      "[[ 9 10 11 12]\n",
      " [ 5  6  7  8]\n",
      " [ 1  2  3  4]]\n"
     ]
    }
   ],
   "source": [
    "# Создаем список возможных индексов для рядов массива\n",
    "row_indices = list(range(arr.shape[0]))\n",
    "print(row_indices)\n",
    "\n",
    "# Переворачиваем его\n",
    "row_indices = list(reversed(row_indices))\n",
    "print(row_indices)\n",
    "\n",
    "# Используем для индексации\n",
    "print('----------------')\n",
    "print(arr[row_indices])"
   ]
  },
  {
   "cell_type": "markdown",
   "metadata": {
    "colab_type": "text",
    "id": "4jVVCGMSCPWu"
   },
   "source": [
    "## Задание\n",
    "\n",
    "Получите массив без крайних рядов и колонок (по одной с каждой стороны)"
   ]
  },
  {
   "cell_type": "code",
   "execution_count": 38,
   "metadata": {
    "colab": {
     "base_uri": "https://localhost:8080/",
     "height": 102
    },
    "colab_type": "code",
    "executionInfo": {
     "elapsed": 11658,
     "status": "ok",
     "timestamp": 1598902936259,
     "user": {
      "displayName": "Alexey Devyatkin",
      "photoUrl": "https://lh3.googleusercontent.com/a-/AOh14GjZicdeEga0uI_adjvPG_ydk4aC9pHcJhRxHdlu=s64",
      "userId": "01450359895113891365"
     },
     "user_tz": -180
    },
    "id": "rJegDeQ6CcTD",
    "outputId": "c6fa250f-ba84-4cbb-c143-39c1119537e5"
   },
   "outputs": [
    {
     "name": "stdout",
     "output_type": "stream",
     "text": [
      "[[2 0 1 0 3 3]\n",
      " [6 2 9 3 4 9]\n",
      " [3 6 0 9 6 8]\n",
      " [9 4 3 6 3 5]\n",
      " [6 3 7 7 2 0]]\n",
      "(5, 6)\n",
      "[[2 0 1 0 3]\n",
      " [6 2 9 3 4]\n",
      " [3 6 0 9 6]\n",
      " [9 4 3 6 3]]\n",
      "(4, 5)\n"
     ]
    }
   ],
   "source": [
    "data = np.random.randint(low=0, high=10, size=(5, 6))\n",
    "print(data)\n",
    "print(data.shape)\n",
    "\n",
    "data = data[0:data.shape[0]-1,0:data.shape[1]-1]\n",
    "print(data)\n",
    "print(data.shape)"
   ]
  },
  {
   "cell_type": "markdown",
   "metadata": {
    "colab_type": "text",
    "id": "7R_2MeNRGsNq"
   },
   "source": [
    "## Задание\n",
    "\n",
    "Произведите перемешивание колонок с помощью функции `numpy.random.permutation()`:\n",
    "\n",
    "<details>\n",
    "<summary>Подсказка</summary>\n",
    "\n",
    "Перемешать колонки можно путем перемешивания списка возможных индексов колонок (`range(<col_count>)`) и затем индексацией этого списка по индексам колонок (`[:, cols]`).\n",
    "</details>"
   ]
  },
  {
   "cell_type": "code",
   "execution_count": 39,
   "metadata": {
    "colab": {
     "base_uri": "https://localhost:8080/",
     "height": 68
    },
    "colab_type": "code",
    "executionInfo": {
     "elapsed": 11605,
     "status": "ok",
     "timestamp": 1598902936265,
     "user": {
      "displayName": "Alexey Devyatkin",
      "photoUrl": "https://lh3.googleusercontent.com/a-/AOh14GjZicdeEga0uI_adjvPG_ydk4aC9pHcJhRxHdlu=s64",
      "userId": "01450359895113891365"
     },
     "user_tz": -180
    },
    "id": "EawZBVacHHk4",
    "outputId": "7d7259ad-cbc6-4c64-eada-fa031bba1f62"
   },
   "outputs": [
    {
     "name": "stdout",
     "output_type": "stream",
     "text": [
      "[[9 8 7 6 0 6]\n",
      " [7 7 9 6 6 1]\n",
      " [8 9 8 4 4 4]]\n",
      "[[9 7 8 0 6 6]\n",
      " [7 9 7 6 1 6]\n",
      " [8 8 9 4 4 4]]\n"
     ]
    }
   ],
   "source": [
    "data = np.random.randint(low=0, high=10, size=(3, 6))\n",
    "print(data)\n",
    "\n",
    "data = np.random.permutation(data.T).T\n",
    "print(data)"
   ]
  },
  {
   "cell_type": "markdown",
   "metadata": {
    "colab_type": "text",
    "id": "RKssiBX6IWQ4"
   },
   "source": [
    "# Типы данных в массивах"
   ]
  },
  {
   "cell_type": "markdown",
   "metadata": {
    "colab_type": "text",
    "id": "1W373guIIYpQ"
   },
   "source": [
    "Массивы в numpy имеют не только размер, но и конкретный тип данных, которые хранятся внутри массива. При создании массива почти все функции создания имеют аргумент `dtype`, который означает, с каким типом создать данным массив. Также, класс `ndarray` имеет атрибут `dtype`, который означает тип хранимых данных. "
   ]
  },
  {
   "cell_type": "markdown",
   "metadata": {
    "colab_type": "text",
    "id": "RkaZp3yUQ2l9"
   },
   "source": [
    "Подробнее можно прочитать в [документации](https://numpy.org/doc/stable/reference/arrays.dtypes.html)."
   ]
  },
  {
   "cell_type": "code",
   "execution_count": 40,
   "metadata": {
    "colab": {
     "base_uri": "https://localhost:8080/",
     "height": 34
    },
    "colab_type": "code",
    "executionInfo": {
     "elapsed": 11556,
     "status": "ok",
     "timestamp": 1598902936280,
     "user": {
      "displayName": "Alexey Devyatkin",
      "photoUrl": "https://lh3.googleusercontent.com/a-/AOh14GjZicdeEga0uI_adjvPG_ydk4aC9pHcJhRxHdlu=s64",
      "userId": "01450359895113891365"
     },
     "user_tz": -180
    },
    "id": "hhX2FD0xJC50",
    "outputId": "4def6a72-cd1f-4f9f-90f7-6d09386c40b0"
   },
   "outputs": [
    {
     "name": "stdout",
     "output_type": "stream",
     "text": [
      "int32\n"
     ]
    }
   ],
   "source": [
    "# Создадим массив без задания типа - тип будет определен автоматически\n",
    "arr = np.array([[1, 2, 3, 4], [5, 6, 7, 8], [9, 10, 11, 12]])\n",
    "print(arr.dtype)\n",
    "\n",
    "# int, так как все элементы являются целочисленными"
   ]
  },
  {
   "cell_type": "code",
   "execution_count": 41,
   "metadata": {
    "colab": {
     "base_uri": "https://localhost:8080/",
     "height": 34
    },
    "colab_type": "code",
    "executionInfo": {
     "elapsed": 11506,
     "status": "ok",
     "timestamp": 1598902936295,
     "user": {
      "displayName": "Alexey Devyatkin",
      "photoUrl": "https://lh3.googleusercontent.com/a-/AOh14GjZicdeEga0uI_adjvPG_ydk4aC9pHcJhRxHdlu=s64",
      "userId": "01450359895113891365"
     },
     "user_tz": -180
    },
    "id": "pVSghFu5JQTO",
    "outputId": "187212df-9cfc-4068-f3a5-5d4020692e77"
   },
   "outputs": [
    {
     "name": "stdout",
     "output_type": "stream",
     "text": [
      "float64\n"
     ]
    }
   ],
   "source": [
    "# Изменим один элемент на вещественный\n",
    "arr = np.array([[1.5, 2, 3, 4], [5, 6, 7, 8], [9, 10, 11, 12]])\n",
    "print(arr.dtype)\n",
    "\n",
    "# Один из элементов float, поэтому весь массив будет float"
   ]
  },
  {
   "cell_type": "code",
   "execution_count": 42,
   "metadata": {
    "colab": {
     "base_uri": "https://localhost:8080/",
     "height": 68
    },
    "colab_type": "code",
    "executionInfo": {
     "elapsed": 11454,
     "status": "ok",
     "timestamp": 1598902936307,
     "user": {
      "displayName": "Alexey Devyatkin",
      "photoUrl": "https://lh3.googleusercontent.com/a-/AOh14GjZicdeEga0uI_adjvPG_ydk4aC9pHcJhRxHdlu=s64",
      "userId": "01450359895113891365"
     },
     "user_tz": -180
    },
    "id": "OfAofWauJePj",
    "outputId": "b8fdcee4-1582-4d97-d20c-c067c74135f2"
   },
   "outputs": [
    {
     "name": "stdout",
     "output_type": "stream",
     "text": [
      "[[ 1  1  2]\n",
      " [-1  2 -1]]\n",
      "int32\n"
     ]
    }
   ],
   "source": [
    "# Зададим явно тип массива\n",
    "# Хоть массив и содержит вещественные числа\n",
    "# мы создаем массив целочисленных, что приводит\n",
    "# к округлению\n",
    "arr = np.array([[1.1, 1.6, 2.4], [-1.7, 2.6, -1.2]], dtype=int)\n",
    "print(arr)\n",
    "print(arr.dtype)"
   ]
  },
  {
   "cell_type": "code",
   "execution_count": 43,
   "metadata": {
    "colab": {
     "base_uri": "https://localhost:8080/",
     "height": 137
    },
    "colab_type": "code",
    "executionInfo": {
     "elapsed": 11436,
     "status": "ok",
     "timestamp": 1598902936348,
     "user": {
      "displayName": "Alexey Devyatkin",
      "photoUrl": "https://lh3.googleusercontent.com/a-/AOh14GjZicdeEga0uI_adjvPG_ydk4aC9pHcJhRxHdlu=s64",
      "userId": "01450359895113891365"
     },
     "user_tz": -180
    },
    "id": "Nj1UkwjDKBr1",
    "outputId": "14e4143a-e244-495d-9bc6-0460b4949484"
   },
   "outputs": [
    {
     "name": "stdout",
     "output_type": "stream",
     "text": [
      "[[ 1.1  1.6  2.4]\n",
      " [-1.7  2.6 -1.2]]\n",
      "float64\n",
      "----------\n",
      "[[ 1  1  2]\n",
      " [-1  2 -1]]\n",
      "int32\n"
     ]
    }
   ],
   "source": [
    "# Создаем массив вещественных\n",
    "arr = np.array([[1.1, 1.6, 2.4], [-1.7, 2.6, -1.2]])\n",
    "print(arr)\n",
    "print(arr.dtype)\n",
    "print('----------')\n",
    "# Но в какой-то момент нам нужно привести массив к целочисленным\n",
    "# Воспользуемся методом ndarray.astype()\n",
    "arr = arr.astype(int)\n",
    "print(arr)\n",
    "print(arr.dtype)"
   ]
  },
  {
   "cell_type": "code",
   "execution_count": 44,
   "metadata": {
    "colab": {
     "base_uri": "https://localhost:8080/",
     "height": 85
    },
    "colab_type": "code",
    "executionInfo": {
     "elapsed": 11369,
     "status": "ok",
     "timestamp": 1598902936356,
     "user": {
      "displayName": "Alexey Devyatkin",
      "photoUrl": "https://lh3.googleusercontent.com/a-/AOh14GjZicdeEga0uI_adjvPG_ydk4aC9pHcJhRxHdlu=s64",
      "userId": "01450359895113891365"
     },
     "user_tz": -180
    },
    "id": "4Zv5Ss7KKa77",
    "outputId": "a7a1ff9d-4bd7-482c-8b6e-b83de93d48c0"
   },
   "outputs": [
    {
     "name": "stdout",
     "output_type": "stream",
     "text": [
      "[[ 1  1  2]\n",
      " [-1  2 -1]]\n",
      "[[ 1 10  2]\n",
      " [-1  2 -1]]\n"
     ]
    }
   ],
   "source": [
    "# При этом попытки записать в целочисленный массив \n",
    "# вещественное число приводят к округлению\n",
    "arr = np.array([[1.1, 1.6, 2.4], [-1.7, 2.6, -1.2]], dtype=int)\n",
    "print(arr)\n",
    "\n",
    "arr[0, 1] = 10.12\n",
    "print(arr)"
   ]
  },
  {
   "cell_type": "markdown",
   "metadata": {
    "colab_type": "text",
    "id": "MVMN0qd7HlFu"
   },
   "source": [
    "# Булевы операции над массивами"
   ]
  },
  {
   "cell_type": "markdown",
   "metadata": {
    "colab_type": "text",
    "id": "8CjSRYurH1mk"
   },
   "source": [
    "Массивы numpy поддерживают операции сравнения, которые генерируют так называемые маски."
   ]
  },
  {
   "cell_type": "code",
   "execution_count": 45,
   "metadata": {
    "colab": {
     "base_uri": "https://localhost:8080/",
     "height": 68
    },
    "colab_type": "code",
    "executionInfo": {
     "elapsed": 11306,
     "status": "ok",
     "timestamp": 1598902936359,
     "user": {
      "displayName": "Alexey Devyatkin",
      "photoUrl": "https://lh3.googleusercontent.com/a-/AOh14GjZicdeEga0uI_adjvPG_ydk4aC9pHcJhRxHdlu=s64",
      "userId": "01450359895113891365"
     },
     "user_tz": -180
    },
    "id": "buwe4r-2IDdO",
    "outputId": "8fb6e69c-c835-40d2-8683-aef89d681025"
   },
   "outputs": [
    {
     "name": "stdout",
     "output_type": "stream",
     "text": [
      "[[ 1  2  3  4]\n",
      " [ 5  6  7  8]\n",
      " [ 9 10 11 12]]\n"
     ]
    }
   ],
   "source": [
    "arr = np.array([[1, 2, 3, 4], [5, 6, 7, 8], [9, 10, 11, 12]])\n",
    "print(arr)"
   ]
  },
  {
   "cell_type": "code",
   "execution_count": 46,
   "metadata": {
    "colab": {
     "base_uri": "https://localhost:8080/",
     "height": 85
    },
    "colab_type": "code",
    "executionInfo": {
     "elapsed": 11243,
     "status": "ok",
     "timestamp": 1598902936374,
     "user": {
      "displayName": "Alexey Devyatkin",
      "photoUrl": "https://lh3.googleusercontent.com/a-/AOh14GjZicdeEga0uI_adjvPG_ydk4aC9pHcJhRxHdlu=s64",
      "userId": "01450359895113891365"
     },
     "user_tz": -180
    },
    "id": "rGNfFg2RIJE5",
    "outputId": "67ea8c7b-c285-4306-c993-10a7752fa3c6"
   },
   "outputs": [
    {
     "name": "stdout",
     "output_type": "stream",
     "text": [
      "[[False False False False]\n",
      " [False False  True  True]\n",
      " [ True  True  True  True]]\n",
      "bool\n"
     ]
    }
   ],
   "source": [
    "# Произведем сравнение с числом\n",
    "result = arr > 6\n",
    "print(result)\n",
    "print(result.dtype)"
   ]
  },
  {
   "cell_type": "markdown",
   "metadata": {
    "colab_type": "text",
    "id": "ZfYWaYzSIPlU"
   },
   "source": [
    "Как видно, в результате операции создается такой же массив, но с булевым типом. Так мы получаем маску элементов, которые соответсвуют условию булевого выражения.\n",
    "\n",
    "Как и с простым булевым типом, маски можно совмещать булевыми операциями:"
   ]
  },
  {
   "cell_type": "code",
   "execution_count": 47,
   "metadata": {
    "colab": {
     "base_uri": "https://localhost:8080/",
     "height": 240
    },
    "colab_type": "code",
    "executionInfo": {
     "elapsed": 11197,
     "status": "ok",
     "timestamp": 1598902936398,
     "user": {
      "displayName": "Alexey Devyatkin",
      "photoUrl": "https://lh3.googleusercontent.com/a-/AOh14GjZicdeEga0uI_adjvPG_ydk4aC9pHcJhRxHdlu=s64",
      "userId": "01450359895113891365"
     },
     "user_tz": -180
    },
    "id": "ruFSuJzwNoME",
    "outputId": "488eb792-cc78-4cb8-da6e-37746b5b1dad"
   },
   "outputs": [
    {
     "name": "stdout",
     "output_type": "stream",
     "text": [
      "[[False False False False]\n",
      " [False False  True  True]\n",
      " [ True  True  True  True]]\n",
      "[[ True  True  True  True]\n",
      " [ True  True  True  True]\n",
      " [ True False False False]]\n",
      "----------\n",
      "[[False False False False]\n",
      " [False False  True  True]\n",
      " [ True False False False]]\n",
      "[[False False False False]\n",
      " [False False  True  True]\n",
      " [ True False False False]]\n"
     ]
    }
   ],
   "source": [
    "result_1 = arr > 6\n",
    "result_2 = arr < 10\n",
    "print(result_1)\n",
    "print(result_2)\n",
    "\n",
    "print('----------')\n",
    "# Следующие две операции идентичны, но для второй скобки обязательны!\n",
    "print(result_1 & result_2)\n",
    "print((arr > 6) & (arr < 10))"
   ]
  },
  {
   "cell_type": "markdown",
   "metadata": {
    "colab_type": "text",
    "id": "q-2ToYvBLaLb"
   },
   "source": [
    "При работе с масками полезно помнить про функции `np.all()` и `np.any()`, которые имеют следующие описания:\n",
    "- `all` - проверка на то, что все элементы в массиве имеют значение True (аналог операции И);\n",
    "- `any` - проверка, что хотя бы один элемент в массиве имеет значение True (аналог операции ИЛИ)."
   ]
  },
  {
   "cell_type": "markdown",
   "metadata": {
    "colab_type": "text",
    "id": "xOxMSvvfL0Yj"
   },
   "source": [
    "## Задание\n",
    "\n",
    "Определите, имеется ли хотя бы одно значение больше пяти и меньше восьми в массиве:"
   ]
  },
  {
   "cell_type": "code",
   "execution_count": 48,
   "metadata": {
    "colab": {
     "base_uri": "https://localhost:8080/",
     "height": 68
    },
    "colab_type": "code",
    "executionInfo": {
     "elapsed": 11148,
     "status": "ok",
     "timestamp": 1598902936409,
     "user": {
      "displayName": "Alexey Devyatkin",
      "photoUrl": "https://lh3.googleusercontent.com/a-/AOh14GjZicdeEga0uI_adjvPG_ydk4aC9pHcJhRxHdlu=s64",
      "userId": "01450359895113891365"
     },
     "user_tz": -180
    },
    "id": "GM6BqDDcMK4X",
    "outputId": "cb562189-cb32-4def-e670-9e2f384e4a31"
   },
   "outputs": [
    {
     "name": "stdout",
     "output_type": "stream",
     "text": [
      "Имеется хотя бы одно значения больше пети и меньше восьми\n"
     ]
    }
   ],
   "source": [
    "arr = np.array([[1, 2, 3, 4], [5, 6, 7, 8], [9, 10, 11, 12]])\n",
    "bool_arr = (arr > 5) & (arr < 8)\n",
    "str_template = \" хотя бы одно значения больше пети и меньше восьми\"\n",
    "print(\"Имеется\" + str_template if np.any(bool_arr) else \"Не имеется\" + str_template)\n",
    "\n",
    "# TODO - определить, имеется ли в массиве хотя бы один элемент, \n",
    "#           отвечающий условию больше пяти и меньше восьми"
   ]
  },
  {
   "cell_type": "markdown",
   "metadata": {
    "colab_type": "text",
    "id": "zEuM4ZnWHUm5"
   },
   "source": [
    "# Больше индексации"
   ]
  },
  {
   "cell_type": "markdown",
   "metadata": {
    "colab_type": "text",
    "id": "F62Ol7oXHWlu"
   },
   "source": [
    "Помимо индексации с помощью диапазонов и списков индексов numpy поддерживает индексацию с помощью булевых массивов."
   ]
  },
  {
   "cell_type": "code",
   "execution_count": 49,
   "metadata": {
    "colab": {},
    "colab_type": "code",
    "id": "Vpt6OK_RHfyG"
   },
   "outputs": [],
   "source": [
    "arr = np.array([[1, 2, 3, 4], [5, 6, 7, 8], [9, 10, 11, 12]])"
   ]
  },
  {
   "cell_type": "code",
   "execution_count": 50,
   "metadata": {
    "colab": {
     "base_uri": "https://localhost:8080/",
     "height": 85
    },
    "colab_type": "code",
    "executionInfo": {
     "elapsed": 11061,
     "status": "ok",
     "timestamp": 1598902936422,
     "user": {
      "displayName": "Alexey Devyatkin",
      "photoUrl": "https://lh3.googleusercontent.com/a-/AOh14GjZicdeEga0uI_adjvPG_ydk4aC9pHcJhRxHdlu=s64",
      "userId": "01450359895113891365"
     },
     "user_tz": -180
    },
    "id": "G0YBhqI3MpUr",
    "outputId": "8cb79cb9-ec12-4d7e-fcea-ff451135ffdb"
   },
   "outputs": [
    {
     "name": "stdout",
     "output_type": "stream",
     "text": [
      "[[False False False False]\n",
      " [False False  True  True]\n",
      " [ True  True  True  True]]\n",
      "[ 7  8  9 10 11 12]\n"
     ]
    }
   ],
   "source": [
    "# Получим маску и воспользуемся ею для индексации\n",
    "mask = arr > 6\n",
    "print(mask)\n",
    "print(arr[mask])"
   ]
  },
  {
   "cell_type": "markdown",
   "metadata": {
    "colab_type": "text",
    "id": "hyCi34eKM33_"
   },
   "source": [
    "Обратите внимание, такая индексация по всему массиву приводит к созданию 1D массива из-за того, что элементы имеют неравномерное расположение, так что они представляются в выпрямленном виде (flattened).\n",
    "\n",
    "> Выпрямленное представление - приведение массива любой размерности к 1D представлению. Для этого есть метод `ndarray.flatten()`. Происходит это путем разворачивания массива в одномерный проходом по индексам, начиная с последней размерности: в 2D случае мы берем элемент 1го рядя, 1й колонки, затем 1го ряда, 2й колонки, как закончим со всем рядом, то переходим на следующий и снова по колонкам. Для 3D массивов - сначала полностью разворачивается глубина, затем колонки, затем ряды."
   ]
  },
  {
   "cell_type": "code",
   "execution_count": 51,
   "metadata": {
    "colab": {
     "base_uri": "https://localhost:8080/",
     "height": 68
    },
    "colab_type": "code",
    "executionInfo": {
     "elapsed": 11011,
     "status": "ok",
     "timestamp": 1598902936436,
     "user": {
      "displayName": "Alexey Devyatkin",
      "photoUrl": "https://lh3.googleusercontent.com/a-/AOh14GjZicdeEga0uI_adjvPG_ydk4aC9pHcJhRxHdlu=s64",
      "userId": "01450359895113891365"
     },
     "user_tz": -180
    },
    "id": "RLbUE76_PgBu",
    "outputId": "7842874e-f1dd-4b96-be03-b2de369056b0"
   },
   "outputs": [
    {
     "name": "stdout",
     "output_type": "stream",
     "text": [
      "[[1 2 3 4]\n",
      " [5 6 7 8]]\n",
      "[1 2 3 4 5 6 7 8]\n"
     ]
    }
   ],
   "source": [
    "arr = np.array([[1, 2, 3, 4], [5, 6, 7, 8]])\n",
    "print(arr)\n",
    "print(arr.flatten())"
   ]
  },
  {
   "cell_type": "markdown",
   "metadata": {
    "colab_type": "text",
    "id": "X-08XaFSzGo4"
   },
   "source": [
    "# Операции с массивами"
   ]
  },
  {
   "cell_type": "markdown",
   "metadata": {
    "colab_type": "text",
    "id": "5CRyuSOlQoQe"
   },
   "source": [
    "Мало смысла в создании массивов без возможности сделать с ними что-либо. "
   ]
  },
  {
   "cell_type": "code",
   "execution_count": 52,
   "metadata": {
    "colab": {},
    "colab_type": "code",
    "id": "D4koFxcK1PyA"
   },
   "outputs": [],
   "source": [
    "x = np.array([[1,2],[3,4]], dtype=np.float64)\n",
    "y = np.array([[5,6],[7,8]], dtype=np.float64)"
   ]
  },
  {
   "cell_type": "code",
   "execution_count": 53,
   "metadata": {
    "colab": {
     "base_uri": "https://localhost:8080/",
     "height": 85
    },
    "colab_type": "code",
    "executionInfo": {
     "elapsed": 10964,
     "status": "ok",
     "timestamp": 1598902936462,
     "user": {
      "displayName": "Alexey Devyatkin",
      "photoUrl": "https://lh3.googleusercontent.com/a-/AOh14GjZicdeEga0uI_adjvPG_ydk4aC9pHcJhRxHdlu=s64",
      "userId": "01450359895113891365"
     },
     "user_tz": -180
    },
    "id": "q2TffF7Q2jCt",
    "outputId": "8e0dcf0c-758f-4878-f71f-0f10622a2a02"
   },
   "outputs": [
    {
     "name": "stdout",
     "output_type": "stream",
     "text": [
      "[[ 6.  8.]\n",
      " [10. 12.]]\n",
      "[[ 6.  8.]\n",
      " [10. 12.]]\n"
     ]
    }
   ],
   "source": [
    "# Сложение\n",
    "print(x + y)\n",
    "print(np.add(x, y))"
   ]
  },
  {
   "cell_type": "code",
   "execution_count": 54,
   "metadata": {
    "colab": {
     "base_uri": "https://localhost:8080/",
     "height": 85
    },
    "colab_type": "code",
    "executionInfo": {
     "elapsed": 10908,
     "status": "ok",
     "timestamp": 1598902936464,
     "user": {
      "displayName": "Alexey Devyatkin",
      "photoUrl": "https://lh3.googleusercontent.com/a-/AOh14GjZicdeEga0uI_adjvPG_ydk4aC9pHcJhRxHdlu=s64",
      "userId": "01450359895113891365"
     },
     "user_tz": -180
    },
    "id": "SBVvWTwx2uEz",
    "outputId": "82731616-16bd-4697-973a-d017a5a3bc56"
   },
   "outputs": [
    {
     "name": "stdout",
     "output_type": "stream",
     "text": [
      "[[-4. -4.]\n",
      " [-4. -4.]]\n",
      "[[-4. -4.]\n",
      " [-4. -4.]]\n"
     ]
    }
   ],
   "source": [
    "# Вычитание\n",
    "print(x - y)\n",
    "print(np.subtract(x, y))"
   ]
  },
  {
   "cell_type": "code",
   "execution_count": 55,
   "metadata": {
    "colab": {
     "base_uri": "https://localhost:8080/",
     "height": 85
    },
    "colab_type": "code",
    "executionInfo": {
     "elapsed": 10872,
     "status": "ok",
     "timestamp": 1598902936480,
     "user": {
      "displayName": "Alexey Devyatkin",
      "photoUrl": "https://lh3.googleusercontent.com/a-/AOh14GjZicdeEga0uI_adjvPG_ydk4aC9pHcJhRxHdlu=s64",
      "userId": "01450359895113891365"
     },
     "user_tz": -180
    },
    "id": "aOAqrdb33IRV",
    "outputId": "a181081a-6c52-4151-d9d0-2ec402e23c7e"
   },
   "outputs": [
    {
     "name": "stdout",
     "output_type": "stream",
     "text": [
      "[[ 5. 12.]\n",
      " [21. 32.]]\n",
      "[[ 5. 12.]\n",
      " [21. 32.]]\n"
     ]
    }
   ],
   "source": [
    "# Поэлементное умножение\n",
    "print(x * y)\n",
    "print(np.multiply(x, y))"
   ]
  },
  {
   "cell_type": "code",
   "execution_count": 56,
   "metadata": {
    "colab": {
     "base_uri": "https://localhost:8080/",
     "height": 85
    },
    "colab_type": "code",
    "executionInfo": {
     "elapsed": 10820,
     "status": "ok",
     "timestamp": 1598902936483,
     "user": {
      "displayName": "Alexey Devyatkin",
      "photoUrl": "https://lh3.googleusercontent.com/a-/AOh14GjZicdeEga0uI_adjvPG_ydk4aC9pHcJhRxHdlu=s64",
      "userId": "01450359895113891365"
     },
     "user_tz": -180
    },
    "id": "fTbMbYoo3MlX",
    "outputId": "ccd85425-3e15-4b79-8a9e-d69b54557213"
   },
   "outputs": [
    {
     "name": "stdout",
     "output_type": "stream",
     "text": [
      "[[0.2        0.33333333]\n",
      " [0.42857143 0.5       ]]\n",
      "[[0.2        0.33333333]\n",
      " [0.42857143 0.5       ]]\n"
     ]
    }
   ],
   "source": [
    "# Поэлементное деление\n",
    "print(x / y)\n",
    "print(np.divide(x, y))"
   ]
  },
  {
   "cell_type": "code",
   "execution_count": 57,
   "metadata": {
    "colab": {
     "base_uri": "https://localhost:8080/",
     "height": 51
    },
    "colab_type": "code",
    "executionInfo": {
     "elapsed": 10770,
     "status": "ok",
     "timestamp": 1598902936486,
     "user": {
      "displayName": "Alexey Devyatkin",
      "photoUrl": "https://lh3.googleusercontent.com/a-/AOh14GjZicdeEga0uI_adjvPG_ydk4aC9pHcJhRxHdlu=s64",
      "userId": "01450359895113891365"
     },
     "user_tz": -180
    },
    "id": "Ke48RJZz3QFN",
    "outputId": "2c4b4921-da7b-4e84-dcdf-e63b5d3777b6"
   },
   "outputs": [
    {
     "name": "stdout",
     "output_type": "stream",
     "text": [
      "[[1.         1.41421356]\n",
      " [1.73205081 2.        ]]\n"
     ]
    }
   ],
   "source": [
    "# Вычисление корня каждого элемента\n",
    "print(np.sqrt(x))"
   ]
  },
  {
   "cell_type": "markdown",
   "metadata": {
    "colab_type": "text",
    "id": "xk83DBbX4GTX"
   },
   "source": [
    "Отлично, мы рассмотрели основные операции над массивами. Операции поэлементные, результаты такие же по размеру, как и операнды. Помимо рассмотренных существуют и множество других, например, экспонента, логарифм и т.д.\n",
    "\n",
    "Помимо поэлементных операций, которые не составляют сложностей в представлении, существует операция матричного умножения. В данном случае мы имеем варианты перемножения матриц, векторов и скаляров."
   ]
  },
  {
   "cell_type": "code",
   "execution_count": 58,
   "metadata": {
    "colab": {
     "base_uri": "https://localhost:8080/",
     "height": 51
    },
    "colab_type": "code",
    "executionInfo": {
     "elapsed": 10719,
     "status": "ok",
     "timestamp": 1598902936494,
     "user": {
      "displayName": "Alexey Devyatkin",
      "photoUrl": "https://lh3.googleusercontent.com/a-/AOh14GjZicdeEga0uI_adjvPG_ydk4aC9pHcJhRxHdlu=s64",
      "userId": "01450359895113891365"
     },
     "user_tz": -180
    },
    "id": "XTQGfz575qFK",
    "outputId": "bbfdd11f-10ca-422d-c60b-d4869fc82816"
   },
   "outputs": [
    {
     "name": "stdout",
     "output_type": "stream",
     "text": [
      "[[1.5 3. ]\n",
      " [4.5 6. ]]\n"
     ]
    }
   ],
   "source": [
    "# Умножение матрицы на скаляр - релизуется как поэлементное перемножение \n",
    "k = 1.5\n",
    "\n",
    "print(k*x)"
   ]
  },
  {
   "cell_type": "code",
   "execution_count": 59,
   "metadata": {
    "colab": {},
    "colab_type": "code",
    "id": "N5xOhY-e6BtE"
   },
   "outputs": [],
   "source": [
    "v = np.array([1, 2])"
   ]
  },
  {
   "cell_type": "code",
   "execution_count": 60,
   "metadata": {
    "colab": {
     "base_uri": "https://localhost:8080/",
     "height": 68
    },
    "colab_type": "code",
    "executionInfo": {
     "elapsed": 10647,
     "status": "ok",
     "timestamp": 1598902936502,
     "user": {
      "displayName": "Alexey Devyatkin",
      "photoUrl": "https://lh3.googleusercontent.com/a-/AOh14GjZicdeEga0uI_adjvPG_ydk4aC9pHcJhRxHdlu=s64",
      "userId": "01450359895113891365"
     },
     "user_tz": -180
    },
    "id": "KyTncnjz6FPm",
    "outputId": "a6666ac5-ad82-4939-b91d-cff1cde8ed1d"
   },
   "outputs": [
    {
     "name": "stdout",
     "output_type": "stream",
     "text": [
      "[ 5. 11.]\n",
      "[ 5. 11.]\n",
      "[ 5. 11.]\n"
     ]
    }
   ],
   "source": [
    "# Матричное умножение реализуется через оператор @ или функцию np.dot() \n",
    "#   или метод ndarray.dot()\n",
    "# Для умножения матрица-вектор\n",
    "\n",
    "print(x @ v)\n",
    "print(x.dot(v))\n",
    "print(np.dot(x, v))"
   ]
  },
  {
   "cell_type": "code",
   "execution_count": 61,
   "metadata": {
    "colab": {
     "base_uri": "https://localhost:8080/",
     "height": 68
    },
    "colab_type": "code",
    "executionInfo": {
     "elapsed": 10596,
     "status": "ok",
     "timestamp": 1598902936509,
     "user": {
      "displayName": "Alexey Devyatkin",
      "photoUrl": "https://lh3.googleusercontent.com/a-/AOh14GjZicdeEga0uI_adjvPG_ydk4aC9pHcJhRxHdlu=s64",
      "userId": "01450359895113891365"
     },
     "user_tz": -180
    },
    "id": "08UQZ9Ks63FH",
    "outputId": "64cc8af0-ffff-4c63-82cd-f165fa475b9d"
   },
   "outputs": [
    {
     "name": "stdout",
     "output_type": "stream",
     "text": [
      "11\n",
      "11\n",
      "11\n"
     ]
    }
   ],
   "source": [
    "# Двух векторов\n",
    "w = np.array([3, 4])\n",
    "\n",
    "print(w @ v)\n",
    "print(w.dot(v))\n",
    "print(np.dot(w, v))"
   ]
  },
  {
   "cell_type": "code",
   "execution_count": 62,
   "metadata": {
    "colab": {
     "base_uri": "https://localhost:8080/",
     "height": 120
    },
    "colab_type": "code",
    "executionInfo": {
     "elapsed": 10544,
     "status": "ok",
     "timestamp": 1598902936512,
     "user": {
      "displayName": "Alexey Devyatkin",
      "photoUrl": "https://lh3.googleusercontent.com/a-/AOh14GjZicdeEga0uI_adjvPG_ydk4aC9pHcJhRxHdlu=s64",
      "userId": "01450359895113891365"
     },
     "user_tz": -180
    },
    "id": "Fmd4HaZP6paa",
    "outputId": "7e888412-20ca-4ee5-862d-76f0f2dd90ae"
   },
   "outputs": [
    {
     "name": "stdout",
     "output_type": "stream",
     "text": [
      "[[19. 22.]\n",
      " [43. 50.]]\n",
      "[[19. 22.]\n",
      " [43. 50.]]\n",
      "[[19. 22.]\n",
      " [43. 50.]]\n"
     ]
    }
   ],
   "source": [
    "# Так и для перемножения матриц\n",
    "print(x @ y)\n",
    "print(x.dot(y))\n",
    "print(np.dot(x, y))"
   ]
  },
  {
   "cell_type": "markdown",
   "metadata": {
    "colab_type": "text",
    "id": "BXjO0pdq7EVL"
   },
   "source": [
    "Правила умножения матриц и векторов здесь идентичны математическим, то есть соседние размерности должны соотноситься: $(m, n)*(n, k)=(m, k)$.\n",
    "\n",
    "Прекрасно! Раз мы разобрались с тем, как делать базовые операции, то осталось лишь последняя базовая операция - транспонирование."
   ]
  },
  {
   "cell_type": "code",
   "execution_count": 63,
   "metadata": {
    "colab": {
     "base_uri": "https://localhost:8080/",
     "height": 205
    },
    "colab_type": "code",
    "executionInfo": {
     "elapsed": 10490,
     "status": "ok",
     "timestamp": 1598902936514,
     "user": {
      "displayName": "Alexey Devyatkin",
      "photoUrl": "https://lh3.googleusercontent.com/a-/AOh14GjZicdeEga0uI_adjvPG_ydk4aC9pHcJhRxHdlu=s64",
      "userId": "01450359895113891365"
     },
     "user_tz": -180
    },
    "id": "wtkDK4UU76Pp",
    "outputId": "87a1ef6e-62cb-4cad-e201-e57bd0ec7ca0"
   },
   "outputs": [
    {
     "name": "stdout",
     "output_type": "stream",
     "text": [
      "[[1 2 3]\n",
      " [4 5 6]]\n",
      "(2, 3)\n",
      "--------\n",
      "[[1 4]\n",
      " [2 5]\n",
      " [3 6]]\n",
      "[[1 4]\n",
      " [2 5]\n",
      " [3 6]]\n",
      "(3, 2)\n"
     ]
    }
   ],
   "source": [
    "# Для транспонирования можно воспользоваться атрибутом ndarray.T\n",
    "#   или функцией np.transpose()\n",
    "x = np.array([[1, 2, 3], [4, 5, 6]])\n",
    "print(x)\n",
    "print(x.shape)\n",
    "print('--------')\n",
    "print(np.transpose(x))\n",
    "print(x.T)\n",
    "print(x.T.shape)"
   ]
  },
  {
   "cell_type": "markdown",
   "metadata": {
    "colab_type": "text",
    "id": "foJSgM3-9Ktj"
   },
   "source": [
    "# Операции по осям"
   ]
  },
  {
   "cell_type": "markdown",
   "metadata": {
    "colab_type": "text",
    "id": "Zu26o_Jq8ko-"
   },
   "source": [
    "Если ранее операции позволяли модифицировать массив и получать новые массивы с помощью базовых операций, то сейчас мы рассмотрим более \"аггрегуирующие\" операции, например, получение среднего значения, суммы и т.д.\n",
    "\n",
    "При разборе обратим внимание на один важный аргумент в операциях `axis`."
   ]
  },
  {
   "cell_type": "code",
   "execution_count": 64,
   "metadata": {
    "colab": {
     "base_uri": "https://localhost:8080/",
     "height": 51
    },
    "colab_type": "code",
    "executionInfo": {
     "elapsed": 10438,
     "status": "ok",
     "timestamp": 1598902936517,
     "user": {
      "displayName": "Alexey Devyatkin",
      "photoUrl": "https://lh3.googleusercontent.com/a-/AOh14GjZicdeEga0uI_adjvPG_ydk4aC9pHcJhRxHdlu=s64",
      "userId": "01450359895113891365"
     },
     "user_tz": -180
    },
    "id": "CNvo0bMH8Hw4",
    "outputId": "1b6eb92c-6f77-4411-db4f-54cfe1c20185"
   },
   "outputs": [
    {
     "name": "stdout",
     "output_type": "stream",
     "text": [
      "[[1 2 3]\n",
      " [5 4 3]]\n"
     ]
    }
   ],
   "source": [
    "x = np.array([[1, 2, 3], [5, 4, 3]])\n",
    "print(x)"
   ]
  },
  {
   "cell_type": "code",
   "execution_count": 65,
   "metadata": {
    "colab": {
     "base_uri": "https://localhost:8080/",
     "height": 51
    },
    "colab_type": "code",
    "executionInfo": {
     "elapsed": 10385,
     "status": "ok",
     "timestamp": 1598902936519,
     "user": {
      "displayName": "Alexey Devyatkin",
      "photoUrl": "https://lh3.googleusercontent.com/a-/AOh14GjZicdeEga0uI_adjvPG_ydk4aC9pHcJhRxHdlu=s64",
      "userId": "01450359895113891365"
     },
     "user_tz": -180
    },
    "id": "VmORpW679pGA",
    "outputId": "342fe8bb-16fe-4af3-d536-95bc42580e93"
   },
   "outputs": [
    {
     "name": "stdout",
     "output_type": "stream",
     "text": [
      "3.0\n",
      "3.0\n"
     ]
    }
   ],
   "source": [
    "# Возьмем среднее значение всего массива\n",
    "print(np.mean(x))\n",
    "print(np.mean(x, axis=None))"
   ]
  },
  {
   "cell_type": "code",
   "execution_count": 66,
   "metadata": {
    "colab": {
     "base_uri": "https://localhost:8080/",
     "height": 51
    },
    "colab_type": "code",
    "executionInfo": {
     "elapsed": 10313,
     "status": "ok",
     "timestamp": 1598902936523,
     "user": {
      "displayName": "Alexey Devyatkin",
      "photoUrl": "https://lh3.googleusercontent.com/a-/AOh14GjZicdeEga0uI_adjvPG_ydk4aC9pHcJhRxHdlu=s64",
      "userId": "01450359895113891365"
     },
     "user_tz": -180
    },
    "id": "AAbohlvH94YY",
    "outputId": "baaa0d03-6a3b-4063-da42-2b458b51d2e5"
   },
   "outputs": [
    {
     "name": "stdout",
     "output_type": "stream",
     "text": [
      "18\n",
      "18\n"
     ]
    }
   ],
   "source": [
    "# Получим сумму значений всего массива\n",
    "print(np.sum(x))\n",
    "print(np.sum(x, axis=None))"
   ]
  },
  {
   "cell_type": "markdown",
   "metadata": {
    "colab_type": "text",
    "id": "3SD2e0--9_sl"
   },
   "source": [
    "Отлично, работает как надо, но зачем этот аргумент `axis`? Все очень просто, он управляет тем, по какой оси (размерности) делается операция. Нужно это, чтобы получить, например, среднее по каждому столбцу или строке."
   ]
  },
  {
   "cell_type": "code",
   "execution_count": 67,
   "metadata": {
    "colab": {
     "base_uri": "https://localhost:8080/",
     "height": 51
    },
    "colab_type": "code",
    "executionInfo": {
     "elapsed": 10255,
     "status": "ok",
     "timestamp": 1598902936526,
     "user": {
      "displayName": "Alexey Devyatkin",
      "photoUrl": "https://lh3.googleusercontent.com/a-/AOh14GjZicdeEga0uI_adjvPG_ydk4aC9pHcJhRxHdlu=s64",
      "userId": "01450359895113891365"
     },
     "user_tz": -180
    },
    "id": "TwyP8qED-ROD",
    "outputId": "0c404585-c384-4fab-f1f2-ddc8da496bff"
   },
   "outputs": [
    {
     "name": "stdout",
     "output_type": "stream",
     "text": [
      "[3. 3. 3.]\n",
      "[2. 4.]\n"
     ]
    }
   ],
   "source": [
    "# Получим среднее по каждому столбцу\n",
    "print(np.mean(x, axis=0))\n",
    "\n",
    "# Получим среднее по каждой строке\n",
    "print(np.mean(x, axis=1))"
   ]
  },
  {
   "cell_type": "markdown",
   "metadata": {
    "colab_type": "text",
    "id": "Cvne71NE_RJB"
   },
   "source": [
    "Так как же это воспринимать? Помните индексацию слайсами (диапазонами)? Чтобы получить весь второй столбец, мы пишем $[:, 2]$, что означает \"все строки стобца под индексом 2\". Так и тут, если мы хотим, чтобы операция выполнилась по всем строкам (например для результата по столбцам), то пишем `axis=0`. Если хотим, чтобы операция проходила по колонкам (для каждой строки), то пишем `axis=1`. То есть, в `axis` задается тот индекс, вдоль которого выполняется операция.\n",
    "\n",
    "Можно подходить к вопросу более формально. Например, мы имеем матрицу размера $(10, 13)$. При указании `axis=0` мы получим результат вычисления операции по каждому столбцу или массив размером $(13, )$. Через аргумент `axis` мы указываем размерность, которую схлопнем до единицы. Для случая многомерных массивов, например с размером $(8, 3, 40, 20)$, указывая `axis=1`, мы получаем результат с размером $(8, 40, 20)$.\n",
    "\n",
    "> Такие возможности задания осей хороши тем, что не нужно писать циклы прохода по всем строкам, чтобы получить результат - это делает код более читаемым и производительным."
   ]
  },
  {
   "cell_type": "markdown",
   "metadata": {
    "colab_type": "text",
    "id": "pzurzVvuBCgi"
   },
   "source": [
    "## Задание\n",
    "\n",
    "Напишите операцию получения суммы элементов по всем стобцам:"
   ]
  },
  {
   "cell_type": "code",
   "execution_count": 68,
   "metadata": {
    "colab": {
     "base_uri": "https://localhost:8080/",
     "height": 68
    },
    "colab_type": "code",
    "executionInfo": {
     "elapsed": 10201,
     "status": "ok",
     "timestamp": 1598902936528,
     "user": {
      "displayName": "Alexey Devyatkin",
      "photoUrl": "https://lh3.googleusercontent.com/a-/AOh14GjZicdeEga0uI_adjvPG_ydk4aC9pHcJhRxHdlu=s64",
      "userId": "01450359895113891365"
     },
     "user_tz": -180
    },
    "id": "ut4bOSdcBP0v",
    "outputId": "7a8c3075-5469-4024-ee03-4df56a562d14"
   },
   "outputs": [
    {
     "name": "stdout",
     "output_type": "stream",
     "text": [
      "[[3 3 0 3 0 4]\n",
      " [3 1 0 4 0 2]\n",
      " [3 4 0 3 4 0]]\n",
      "[ 9  8  0 10  4  6]\n"
     ]
    }
   ],
   "source": [
    "data = np.random.randint(low=0, high=5, size=(3, 6))\n",
    "print(data)\n",
    "\n",
    "data_sum = np.sum(data, axis = 0)\n",
    "print(data_sum)"
   ]
  },
  {
   "cell_type": "markdown",
   "metadata": {
    "colab_type": "text",
    "id": "bcgRRkseBqzq"
   },
   "source": [
    "# Broadcasting (трансляция)"
   ]
  },
  {
   "cell_type": "markdown",
   "metadata": {
    "colab_type": "text",
    "id": "fgwB6980BuZ0"
   },
   "source": [
    "Тема достаточно \"широкая\" =)\n",
    "На деле механизм броадкастинга очень полезен и его понимание является одним из мощных инструментов библиотеки numpy.\n",
    "\n",
    "Зачем он нужен? Допустим, мы имеет вектор $(4,)$, матрицу $(3, 4)$ и хотим умножить этот вектор на каждую строку матрицы. Самый простой способ - пройти в цикле по строкам:"
   ]
  },
  {
   "cell_type": "code",
   "execution_count": 69,
   "metadata": {
    "colab": {
     "base_uri": "https://localhost:8080/",
     "height": 85
    },
    "colab_type": "code",
    "executionInfo": {
     "elapsed": 10152,
     "status": "ok",
     "timestamp": 1598902936531,
     "user": {
      "displayName": "Alexey Devyatkin",
      "photoUrl": "https://lh3.googleusercontent.com/a-/AOh14GjZicdeEga0uI_adjvPG_ydk4aC9pHcJhRxHdlu=s64",
      "userId": "01450359895113891365"
     },
     "user_tz": -180
    },
    "id": "PXEeaAmqHqp8",
    "outputId": "e9df1550-a4d7-4a0c-ad7a-72ca7b5fccbd"
   },
   "outputs": [
    {
     "name": "stdout",
     "output_type": "stream",
     "text": [
      "[0 1 2 3]\n",
      "[[1. 1. 1. 1.]\n",
      " [1. 1. 1. 1.]\n",
      " [1. 1. 1. 1.]]\n"
     ]
    }
   ],
   "source": [
    "vec = np.arange(4)\n",
    "mtrx = np.ones((3, 4))\n",
    "print(vec)\n",
    "print(mtrx)"
   ]
  },
  {
   "cell_type": "code",
   "execution_count": 70,
   "metadata": {
    "colab": {
     "base_uri": "https://localhost:8080/",
     "height": 68
    },
    "colab_type": "code",
    "executionInfo": {
     "elapsed": 10106,
     "status": "ok",
     "timestamp": 1598902936538,
     "user": {
      "displayName": "Alexey Devyatkin",
      "photoUrl": "https://lh3.googleusercontent.com/a-/AOh14GjZicdeEga0uI_adjvPG_ydk4aC9pHcJhRxHdlu=s64",
      "userId": "01450359895113891365"
     },
     "user_tz": -180
    },
    "id": "8xH_CXJoHrkr",
    "outputId": "8931243f-8edb-434b-a9e7-8f6c0ae23b2f"
   },
   "outputs": [
    {
     "name": "stdout",
     "output_type": "stream",
     "text": [
      "[[0. 1. 2. 3.]\n",
      " [0. 1. 2. 3.]\n",
      " [0. 1. 2. 3.]]\n"
     ]
    }
   ],
   "source": [
    "result = np.empty_like(mtrx)\n",
    "\n",
    "for i_row in range(mtrx.shape[0]):\n",
    "    result[i_row,:] = mtrx[i_row,:] * vec\n",
    "\n",
    "print(result)"
   ]
  },
  {
   "cell_type": "markdown",
   "metadata": {
    "colab_type": "text",
    "id": "UVbNFmqkIHL_"
   },
   "source": [
    "С другой стороны, можно склонировать вектор по размеру матрицы, чтобы затем просто перемножить поэлементно две матрицы."
   ]
  },
  {
   "cell_type": "code",
   "execution_count": 71,
   "metadata": {
    "colab": {
     "base_uri": "https://localhost:8080/",
     "height": 120
    },
    "colab_type": "code",
    "executionInfo": {
     "elapsed": 10053,
     "status": "ok",
     "timestamp": 1598902936540,
     "user": {
      "displayName": "Alexey Devyatkin",
      "photoUrl": "https://lh3.googleusercontent.com/a-/AOh14GjZicdeEga0uI_adjvPG_ydk4aC9pHcJhRxHdlu=s64",
      "userId": "01450359895113891365"
     },
     "user_tz": -180
    },
    "id": "P2aJ71qMIJIN",
    "outputId": "448c3bf1-80dc-4be5-f184-21676363c69d"
   },
   "outputs": [
    {
     "name": "stdout",
     "output_type": "stream",
     "text": [
      "[[0 1 2 3]\n",
      " [0 1 2 3]\n",
      " [0 1 2 3]]\n",
      "[[0. 1. 2. 3.]\n",
      " [0. 1. 2. 3.]\n",
      " [0. 1. 2. 3.]]\n"
     ]
    }
   ],
   "source": [
    "# Функция np.tile() повторяет массив то количество раз и по тем осям,\n",
    "#   который заданы в аргументе reps\n",
    "vec_m = np.tile(vec, reps=(3, 1))\n",
    "print(vec_m)\n",
    "print(vec_m * mtrx)"
   ]
  },
  {
   "cell_type": "markdown",
   "metadata": {
    "colab_type": "text",
    "id": "YIAATyxQHp6y"
   },
   "source": [
    "А можно вспомнить про броадкастинг и просто умножить вектор на матрицу:"
   ]
  },
  {
   "cell_type": "code",
   "execution_count": 72,
   "metadata": {
    "colab": {
     "base_uri": "https://localhost:8080/",
     "height": 68
    },
    "colab_type": "code",
    "executionInfo": {
     "elapsed": 10004,
     "status": "ok",
     "timestamp": 1598902936543,
     "user": {
      "displayName": "Alexey Devyatkin",
      "photoUrl": "https://lh3.googleusercontent.com/a-/AOh14GjZicdeEga0uI_adjvPG_ydk4aC9pHcJhRxHdlu=s64",
      "userId": "01450359895113891365"
     },
     "user_tz": -180
    },
    "id": "cvhGzlKyGPkk",
    "outputId": "2a95f876-650c-4208-a340-f1b8c916cb10"
   },
   "outputs": [
    {
     "name": "stdout",
     "output_type": "stream",
     "text": [
      "[[0. 1. 2. 3.]\n",
      " [0. 1. 2. 3.]\n",
      " [0. 1. 2. 3.]]\n"
     ]
    }
   ],
   "source": [
    "# Умножение, используя броадкастинг\n",
    "print(vec * mtrx)"
   ]
  },
  {
   "cell_type": "markdown",
   "metadata": {
    "colab_type": "text",
    "id": "m45myVWXInxI"
   },
   "source": [
    "Таким образом, броадкастинг - это механизм распространения элементов операций по разметностям, по которым количество элементов не соотносится с другим операндом. В последней ячейке вектор был продублирован на каждую строку так, что размерности соотносятся.\n",
    "\n",
    "> Обязательно прочитайте примеры броадкастинга в [статье](https://numpy.org/doc/stable/user/basics.broadcasting.html).\n",
    "\n",
    "Броадкастинг также работает и при умножении скаляра на массив:"
   ]
  },
  {
   "cell_type": "code",
   "execution_count": 73,
   "metadata": {
    "colab": {
     "base_uri": "https://localhost:8080/",
     "height": 68
    },
    "colab_type": "code",
    "executionInfo": {
     "elapsed": 9956,
     "status": "ok",
     "timestamp": 1598902936546,
     "user": {
      "displayName": "Alexey Devyatkin",
      "photoUrl": "https://lh3.googleusercontent.com/a-/AOh14GjZicdeEga0uI_adjvPG_ydk4aC9pHcJhRxHdlu=s64",
      "userId": "01450359895113891365"
     },
     "user_tz": -180
    },
    "id": "vyolr9OlHRx0",
    "outputId": "676d8e84-a8ef-4db7-d6b2-75ef17f78d28"
   },
   "outputs": [
    {
     "name": "stdout",
     "output_type": "stream",
     "text": [
      "[[2. 2. 2. 2.]\n",
      " [2. 2. 2. 2.]\n",
      " [2. 2. 2. 2.]]\n"
     ]
    }
   ],
   "source": [
    "print(2 * mtrx)"
   ]
  },
  {
   "cell_type": "markdown",
   "metadata": {
    "colab_type": "text",
    "id": "b5C9CLXvLy_X"
   },
   "source": [
    "Чтобы больше понять правила броадкастинга, посмотрим на результаты операций 3D матриц:"
   ]
  },
  {
   "cell_type": "code",
   "execution_count": 74,
   "metadata": {
    "colab": {
     "base_uri": "https://localhost:8080/",
     "height": 34
    },
    "colab_type": "code",
    "executionInfo": {
     "elapsed": 9906,
     "status": "ok",
     "timestamp": 1598902936548,
     "user": {
      "displayName": "Alexey Devyatkin",
      "photoUrl": "https://lh3.googleusercontent.com/a-/AOh14GjZicdeEga0uI_adjvPG_ydk4aC9pHcJhRxHdlu=s64",
      "userId": "01450359895113891365"
     },
     "user_tz": -180
    },
    "id": "p5gNIS1QLmTq",
    "outputId": "7fa00931-ba99-478c-ad75-3b78f4f5a7d2"
   },
   "outputs": [
    {
     "name": "stdout",
     "output_type": "stream",
     "text": [
      "(4, 3, 2)\n"
     ]
    }
   ],
   "source": [
    "x = np.ones((4, 1, 1))\n",
    "y = np.random.randint(0, 5, size=(4, 3, 2))\n",
    "\n",
    "print((x*y).shape)"
   ]
  },
  {
   "cell_type": "code",
   "execution_count": 75,
   "metadata": {
    "colab": {
     "base_uri": "https://localhost:8080/",
     "height": 34
    },
    "colab_type": "code",
    "executionInfo": {
     "elapsed": 9847,
     "status": "ok",
     "timestamp": 1598902936555,
     "user": {
      "displayName": "Alexey Devyatkin",
      "photoUrl": "https://lh3.googleusercontent.com/a-/AOh14GjZicdeEga0uI_adjvPG_ydk4aC9pHcJhRxHdlu=s64",
      "userId": "01450359895113891365"
     },
     "user_tz": -180
    },
    "id": "sXzWWxHnMS8E",
    "outputId": "25083e01-0bc9-4847-de27-43dfe21695bc"
   },
   "outputs": [
    {
     "name": "stdout",
     "output_type": "stream",
     "text": [
      "(4, 3, 2)\n"
     ]
    }
   ],
   "source": [
    "x = np.ones((3, 1))\n",
    "y = np.random.randint(0, 5, size=(4, 3, 2))\n",
    "\n",
    "print((x*y).shape)"
   ]
  },
  {
   "cell_type": "code",
   "execution_count": 76,
   "metadata": {
    "colab": {
     "base_uri": "https://localhost:8080/",
     "height": 34
    },
    "colab_type": "code",
    "executionInfo": {
     "elapsed": 9786,
     "status": "ok",
     "timestamp": 1598902936557,
     "user": {
      "displayName": "Alexey Devyatkin",
      "photoUrl": "https://lh3.googleusercontent.com/a-/AOh14GjZicdeEga0uI_adjvPG_ydk4aC9pHcJhRxHdlu=s64",
      "userId": "01450359895113891365"
     },
     "user_tz": -180
    },
    "id": "gCclW4LGMYUA",
    "outputId": "0eb46602-898b-4c67-899a-07ba5bfda2ba"
   },
   "outputs": [
    {
     "name": "stdout",
     "output_type": "stream",
     "text": [
      "(5, 3, 2)\n"
     ]
    }
   ],
   "source": [
    "x = np.ones((1, 3, 2))\n",
    "y = np.random.randint(0, 5, size=(5, 1, 2))\n",
    "\n",
    "print((x*y).shape)"
   ]
  },
  {
   "cell_type": "markdown",
   "metadata": {
    "colab_type": "text",
    "id": "V5BvOyFOMdyr"
   },
   "source": [
    "В последних примерах можно увидеть, что размерности должны быть соотносимы (количества размерностей равны). В случае неравенства количества размерностей новые размерности со значением 1 добавляются слева ($(3, 1) \\rightarrow (1, 3, 1)$ в одном из примеров).\n",
    "\n",
    "> Добавление размерности было и в случае умножения вектора на матрицу: $(4,)*(3, 4) \\rightarrow (1, 4)*(3, 4)$\n",
    "\n",
    "Броадкастинг делается по тем осям, которые у одного операнда имеют размерность 1 путем копирования.\n",
    "\n",
    "> В нашем случае $(1, 4)*(3, 4) \\rightarrow (3, 4)*(3, 4)$"
   ]
  },
  {
   "cell_type": "markdown",
   "metadata": {
    "colab_type": "text",
    "id": "7TwQwQt6OEA_"
   },
   "source": [
    "Осознать броадкастинг сразу не совсем просто, но главное не забывать, что такой инструмент есть и им нужно пользоваться во избежание лишнего кода."
   ]
  },
  {
   "cell_type": "markdown",
   "metadata": {
    "colab_type": "text",
    "id": "6Aece1s4OM7y"
   },
   "source": [
    "# Изменение размеров массива (Reshape)"
   ]
  },
  {
   "cell_type": "markdown",
   "metadata": {
    "colab_type": "text",
    "id": "AjcQO4NSOQtv"
   },
   "source": [
    "Еще одна интересная тема, которую стоит рассмотреть. Мы уже касались вопроса приведения массива к выпрямленному виду - это один из видов изменения размерности массива.\n",
    "\n",
    "По сути, размерность массива - это то, как выстроены элементы в нем. Изменение размерности - это изменение структуры **без изменения элементов или порядка**.\n",
    "\n",
    "Рассмотрим на примере:"
   ]
  },
  {
   "cell_type": "code",
   "execution_count": 77,
   "metadata": {
    "colab": {
     "base_uri": "https://localhost:8080/",
     "height": 34
    },
    "colab_type": "code",
    "executionInfo": {
     "elapsed": 9723,
     "status": "ok",
     "timestamp": 1598902936560,
     "user": {
      "displayName": "Alexey Devyatkin",
      "photoUrl": "https://lh3.googleusercontent.com/a-/AOh14GjZicdeEga0uI_adjvPG_ydk4aC9pHcJhRxHdlu=s64",
      "userId": "01450359895113891365"
     },
     "user_tz": -180
    },
    "id": "QaEqZf_aPoSp",
    "outputId": "a9211efe-3ced-4f4b-9911-28928173116a"
   },
   "outputs": [
    {
     "name": "stdout",
     "output_type": "stream",
     "text": [
      "[ 0  1  2  3  4  5  6  7  8  9 10 11 12 13 14 15 16 17 18 19]\n"
     ]
    }
   ],
   "source": [
    "arr = np.arange(20)\n",
    "print(arr)"
   ]
  },
  {
   "cell_type": "markdown",
   "metadata": {
    "colab_type": "text",
    "id": "y6rx0qLXPtKD"
   },
   "source": [
    "Вот мы имеем вектор из 20 элементов в порядке возрастания. Теперь, допустим, нам нужно сделать массив размером $(4, 5)$, в котором каждый ряд - это продолжение предыдущего по возрастанию чисел. Для начала сделаем руками: "
   ]
  },
  {
   "cell_type": "code",
   "execution_count": 78,
   "metadata": {
    "colab": {
     "base_uri": "https://localhost:8080/",
     "height": 85
    },
    "colab_type": "code",
    "executionInfo": {
     "elapsed": 9670,
     "status": "ok",
     "timestamp": 1598902936563,
     "user": {
      "displayName": "Alexey Devyatkin",
      "photoUrl": "https://lh3.googleusercontent.com/a-/AOh14GjZicdeEga0uI_adjvPG_ydk4aC9pHcJhRxHdlu=s64",
      "userId": "01450359895113891365"
     },
     "user_tz": -180
    },
    "id": "Kx9kBRe2QBR-",
    "outputId": "6bf6ddcb-dd11-44a3-eb09-ae00fc171748"
   },
   "outputs": [
    {
     "name": "stdout",
     "output_type": "stream",
     "text": [
      "[[ 0  1  2  3  4]\n",
      " [ 5  6  7  8  9]\n",
      " [10 11 12 13 14]\n",
      " [15 16 17 18 19]]\n"
     ]
    }
   ],
   "source": [
    "mtrx = np.ndarray((4, 5), dtype=np.int32)\n",
    "mtrx[0, :] = arr[:5]\n",
    "mtrx[1, :] = arr[5:10]\n",
    "mtrx[2, :] = arr[10:15]\n",
    "mtrx[3, :] = arr[15:]\n",
    "\n",
    "print(mtrx)"
   ]
  },
  {
   "cell_type": "markdown",
   "metadata": {
    "colab_type": "text",
    "id": "UPyGvrtWdPm-"
   },
   "source": [
    "Получилось как надо, но есть два недостатка:\n",
    "- Если элементов будет больше и нужен будет другой размер - код не универсален;\n",
    "- Приходится расставлять данные вручную.\n",
    "\n",
    "Теперь взглянем, как работает метод `ndarray.reshape()`:"
   ]
  },
  {
   "cell_type": "code",
   "execution_count": 79,
   "metadata": {
    "colab": {
     "base_uri": "https://localhost:8080/",
     "height": 85
    },
    "colab_type": "code",
    "executionInfo": {
     "elapsed": 9623,
     "status": "ok",
     "timestamp": 1598902936568,
     "user": {
      "displayName": "Alexey Devyatkin",
      "photoUrl": "https://lh3.googleusercontent.com/a-/AOh14GjZicdeEga0uI_adjvPG_ydk4aC9pHcJhRxHdlu=s64",
      "userId": "01450359895113891365"
     },
     "user_tz": -180
    },
    "id": "AFpqjOXAdOqD",
    "outputId": "056ca8d8-978f-4171-c897-5d6c83217f83"
   },
   "outputs": [
    {
     "name": "stdout",
     "output_type": "stream",
     "text": [
      "[[ 0  1  2  3  4]\n",
      " [ 5  6  7  8  9]\n",
      " [10 11 12 13 14]\n",
      " [15 16 17 18 19]]\n"
     ]
    }
   ],
   "source": [
    "print(arr.reshape((4, 5)))"
   ]
  },
  {
   "cell_type": "markdown",
   "metadata": {
    "colab_type": "text",
    "id": "rVRLk09SdrtT"
   },
   "source": [
    "В результате происходит тоже самое. То есть, элементы расположились в порядке размещения по размерностям: начиная с первой строки (нулевая размерность) заполняется по колонкам (первая размерность), а как только заполнение по колонкам закончено - переходим на следующий ряд.\n",
    "\n",
    "Таким образом, в какую бы размерность не происходило изменение размера - расположение будет придерживаться этого правила.\n",
    "\n",
    "Для лучшего понимания посмотрим на другие представления:"
   ]
  },
  {
   "cell_type": "code",
   "execution_count": 80,
   "metadata": {
    "colab": {
     "base_uri": "https://localhost:8080/",
     "height": 480
    },
    "colab_type": "code",
    "executionInfo": {
     "elapsed": 9575,
     "status": "ok",
     "timestamp": 1598902936572,
     "user": {
      "displayName": "Alexey Devyatkin",
      "photoUrl": "https://lh3.googleusercontent.com/a-/AOh14GjZicdeEga0uI_adjvPG_ydk4aC9pHcJhRxHdlu=s64",
      "userId": "01450359895113891365"
     },
     "user_tz": -180
    },
    "id": "ecjFNZPPebov",
    "outputId": "ff3f1582-fcfb-403e-b747-75cda254657a"
   },
   "outputs": [
    {
     "name": "stdout",
     "output_type": "stream",
     "text": [
      "[[ 0  1  2  3  4  5  6  7  8  9]\n",
      " [10 11 12 13 14 15 16 17 18 19]]\n",
      "[[ 0  1  2  3]\n",
      " [ 4  5  6  7]\n",
      " [ 8  9 10 11]\n",
      " [12 13 14 15]\n",
      " [16 17 18 19]]\n",
      "[[ 0]\n",
      " [ 1]\n",
      " [ 2]\n",
      " [ 3]\n",
      " [ 4]\n",
      " [ 5]\n",
      " [ 6]\n",
      " [ 7]\n",
      " [ 8]\n",
      " [ 9]\n",
      " [10]\n",
      " [11]\n",
      " [12]\n",
      " [13]\n",
      " [14]\n",
      " [15]\n",
      " [16]\n",
      " [17]\n",
      " [18]\n",
      " [19]]\n"
     ]
    }
   ],
   "source": [
    "print(arr.reshape((2, 10)))\n",
    "print(arr.reshape((5, 4)))\n",
    "print(arr.reshape((20, 1)))"
   ]
  },
  {
   "cell_type": "markdown",
   "metadata": {
    "colab_type": "text",
    "id": "VFh8-iyHeh6d"
   },
   "source": [
    "Таким образом, можно приводить к любой размерности с учетом правила:\n",
    "> Количество элементов должно сохраняться\n",
    "\n",
    "Но бывают ситуации, когда мы точно не знаем количество элементов, но нам нужно точно создать, например, 4 строки в матрице. В этом поможет неопределенная размерность, которая задается числом -1:"
   ]
  },
  {
   "cell_type": "code",
   "execution_count": 81,
   "metadata": {
    "colab": {
     "base_uri": "https://localhost:8080/",
     "height": 85
    },
    "colab_type": "code",
    "executionInfo": {
     "elapsed": 9527,
     "status": "ok",
     "timestamp": 1598902936575,
     "user": {
      "displayName": "Alexey Devyatkin",
      "photoUrl": "https://lh3.googleusercontent.com/a-/AOh14GjZicdeEga0uI_adjvPG_ydk4aC9pHcJhRxHdlu=s64",
      "userId": "01450359895113891365"
     },
     "user_tz": -180
    },
    "id": "-rioXaAse-Da",
    "outputId": "49fa1d64-c880-4c27-eed8-dad6e887d7a4"
   },
   "outputs": [
    {
     "name": "stdout",
     "output_type": "stream",
     "text": [
      "[[ 0  1  2  3  4]\n",
      " [ 5  6  7  8  9]\n",
      " [10 11 12 13 14]\n",
      " [15 16 17 18 19]]\n"
     ]
    }
   ],
   "source": [
    "print(arr.reshape((4, -1)))"
   ]
  },
  {
   "cell_type": "markdown",
   "metadata": {
    "colab_type": "text",
    "id": "m4DEV-Q0Pngj"
   },
   "source": [
    "Таким образом можно задать, что матрица должна быть 2D с фиксированным количеством строк, но без фиксации на количество столбцов. Конечно же, если в исходном будет 21 элемент, то такой трюк не сработает, потому что 21 не делится на 4 без остатка."
   ]
  },
  {
   "cell_type": "markdown",
   "metadata": {
    "colab_type": "text",
    "id": "53NWq6i_fe2W"
   },
   "source": [
    "# Объединение массивов"
   ]
  },
  {
   "cell_type": "markdown",
   "metadata": {
    "colab_type": "text",
    "id": "EDCNSihEfiVA"
   },
   "source": [
    "При работе с массивами бывают случаи, когда несколько массивов необходимо объединить в один. Для этого поможет функция `np.concatenate()` и понимание ее основных правил."
   ]
  },
  {
   "cell_type": "code",
   "execution_count": 82,
   "metadata": {
    "colab": {
     "base_uri": "https://localhost:8080/",
     "height": 102
    },
    "colab_type": "code",
    "executionInfo": {
     "elapsed": 9475,
     "status": "ok",
     "timestamp": 1598902936577,
     "user": {
      "displayName": "Alexey Devyatkin",
      "photoUrl": "https://lh3.googleusercontent.com/a-/AOh14GjZicdeEga0uI_adjvPG_ydk4aC9pHcJhRxHdlu=s64",
      "userId": "01450359895113891365"
     },
     "user_tz": -180
    },
    "id": "iiVzWooVfw-w",
    "outputId": "f7fa34a4-09ae-4a2a-e459-acdc3194c75b"
   },
   "outputs": [
    {
     "name": "stdout",
     "output_type": "stream",
     "text": [
      "[[0 1 2 3 4]\n",
      " [5 6 7 8 9]]\n",
      "[[ 0  1  2  3  4]\n",
      " [ 5  6  7  8  9]\n",
      " [10 11 12 13 14]]\n"
     ]
    }
   ],
   "source": [
    "x = np.arange(10).reshape((2, 5))\n",
    "y = np.arange(15).reshape((3, 5))\n",
    "\n",
    "print(x)\n",
    "print(y)"
   ]
  },
  {
   "cell_type": "markdown",
   "metadata": {
    "colab_type": "text",
    "id": "dpXU_P7TguD_"
   },
   "source": [
    "Для объединения массивов необходимо, чтобы одна из размерностей имела одинаковое количество элементов. Это достаточно логичное требование задается аргументом `axis` в функции:"
   ]
  },
  {
   "cell_type": "code",
   "execution_count": 83,
   "metadata": {
    "colab": {
     "base_uri": "https://localhost:8080/",
     "height": 102
    },
    "colab_type": "code",
    "executionInfo": {
     "elapsed": 9422,
     "status": "ok",
     "timestamp": 1598902936590,
     "user": {
      "displayName": "Alexey Devyatkin",
      "photoUrl": "https://lh3.googleusercontent.com/a-/AOh14GjZicdeEga0uI_adjvPG_ydk4aC9pHcJhRxHdlu=s64",
      "userId": "01450359895113891365"
     },
     "user_tz": -180
    },
    "id": "rX9FSi5Hg62I",
    "outputId": "ec9748b2-20e3-48c0-e4f5-b54327a70d2b"
   },
   "outputs": [
    {
     "name": "stdout",
     "output_type": "stream",
     "text": [
      "[[ 0  1  2  3  4]\n",
      " [ 5  6  7  8  9]\n",
      " [ 0  1  2  3  4]\n",
      " [ 5  6  7  8  9]\n",
      " [10 11 12 13 14]]\n"
     ]
    }
   ],
   "source": [
    "print(np.concatenate((x, y), axis=0))"
   ]
  },
  {
   "cell_type": "markdown",
   "metadata": {
    "colab_type": "text",
    "id": "In1g-miAg_vz"
   },
   "source": [
    "Обратите внимание, что массивы передаются в виде кортежа, что позволяет объединять два и более массивов."
   ]
  },
  {
   "cell_type": "markdown",
   "metadata": {
    "colab_type": "text",
    "id": "9zi8VK2HhHnw"
   },
   "source": [
    "## Задание\n",
    "\n",
    "Объедините три массива вдоль колонок:"
   ]
  },
  {
   "cell_type": "code",
   "execution_count": 84,
   "metadata": {
    "colab": {
     "base_uri": "https://localhost:8080/",
     "height": 171
    },
    "colab_type": "code",
    "executionInfo": {
     "elapsed": 9359,
     "status": "ok",
     "timestamp": 1598902936593,
     "user": {
      "displayName": "Alexey Devyatkin",
      "photoUrl": "https://lh3.googleusercontent.com/a-/AOh14GjZicdeEga0uI_adjvPG_ydk4aC9pHcJhRxHdlu=s64",
      "userId": "01450359895113891365"
     },
     "user_tz": -180
    },
    "id": "WroGVeHYhXYU",
    "outputId": "2f1f5be4-047a-420f-e344-f86d79ec09b0"
   },
   "outputs": [
    {
     "name": "stdout",
     "output_type": "stream",
     "text": [
      "[[0 1 2]\n",
      " [3 4 5]\n",
      " [6 7 8]]\n",
      "[[ 0  1  2  3]\n",
      " [ 4  5  6  7]\n",
      " [ 8  9 10 11]]\n",
      "[[ 0  1  2  3  4]\n",
      " [ 5  6  7  8  9]\n",
      " [10 11 12 13 14]]\n",
      "[[ 0  1  2  0  1  2  3  0  1  2  3  4]\n",
      " [ 3  4  5  4  5  6  7  5  6  7  8  9]\n",
      " [ 6  7  8  8  9 10 11 10 11 12 13 14]]\n"
     ]
    }
   ],
   "source": [
    "x = np.arange(9).reshape((3, 3))\n",
    "y = np.arange(12).reshape((3, 4))\n",
    "z = np.arange(15).reshape((3, 5))\n",
    "\n",
    "print(x)\n",
    "print(y)\n",
    "print(z)\n",
    "\n",
    "print(np.concatenate((x, y, z), axis = 1))"
   ]
  },
  {
   "cell_type": "markdown",
   "metadata": {
    "colab_type": "text",
    "id": "g1vMT1PZSpSs"
   },
   "source": [
    "## Задание\n",
    "\n",
    "Напишите реализацию добавления стобца единиц к матрице слева:"
   ]
  },
  {
   "cell_type": "code",
   "execution_count": 85,
   "metadata": {
    "colab": {
     "base_uri": "https://localhost:8080/",
     "height": 68
    },
    "colab_type": "code",
    "executionInfo": {
     "elapsed": 9281,
     "status": "ok",
     "timestamp": 1598902936596,
     "user": {
      "displayName": "Alexey Devyatkin",
      "photoUrl": "https://lh3.googleusercontent.com/a-/AOh14GjZicdeEga0uI_adjvPG_ydk4aC9pHcJhRxHdlu=s64",
      "userId": "01450359895113891365"
     },
     "user_tz": -180
    },
    "id": "uKMSNM0ySyQ2",
    "outputId": "3722835c-1805-4bd8-dcc1-d3685292e7d0"
   },
   "outputs": [
    {
     "name": "stdout",
     "output_type": "stream",
     "text": [
      "[[1 2 3]\n",
      " [4 5 6]\n",
      " [7 8 9]]\n",
      "[[1. 1. 2. 3.]\n",
      " [1. 4. 5. 6.]\n",
      " [1. 7. 8. 9.]]\n"
     ]
    }
   ],
   "source": [
    "x = np.arange(1, 10).reshape((3, 3))\n",
    "ones_vect = np.ones((x.shape[0], 1))\n",
    "print(x)\n",
    "print(np.concatenate((ones_vect, x), axis = 1))"
   ]
  },
  {
   "cell_type": "markdown",
   "metadata": {
    "colab_type": "text",
    "id": "Ylb4mK18hxpf"
   },
   "source": [
    "# Сортировка массива"
   ]
  },
  {
   "cell_type": "markdown",
   "metadata": {
    "colab_type": "text",
    "id": "pLIYlEd0h2fp"
   },
   "source": [
    "Numpy как серьезная библиотека работы с массивами имеет также и функционал сортировки. Для этого есть функция `np.sort()`, которая производит сортировку элементов и возвращает отсортированный массив:"
   ]
  },
  {
   "cell_type": "code",
   "execution_count": 86,
   "metadata": {
    "colab": {
     "base_uri": "https://localhost:8080/",
     "height": 51
    },
    "colab_type": "code",
    "executionInfo": {
     "elapsed": 9214,
     "status": "ok",
     "timestamp": 1598902936598,
     "user": {
      "displayName": "Alexey Devyatkin",
      "photoUrl": "https://lh3.googleusercontent.com/a-/AOh14GjZicdeEga0uI_adjvPG_ydk4aC9pHcJhRxHdlu=s64",
      "userId": "01450359895113891365"
     },
     "user_tz": -180
    },
    "id": "qeoYgI9Eilc6",
    "outputId": "bb414f6f-18e6-4961-f1a3-036c0447290a"
   },
   "outputs": [
    {
     "name": "stdout",
     "output_type": "stream",
     "text": [
      "[ 2  4  5  1  2  7  5  0 -1  3  5]\n",
      "[-1  0  1  2  2  3  4  5  5  5  7]\n"
     ]
    }
   ],
   "source": [
    "unsorted_arr = np.array([2, 4, 5, 1, 2, 7, 5, 0, -1, 3, 5])\n",
    "sorted_arr = np.sort(unsorted_arr)\n",
    "\n",
    "print(unsorted_arr)\n",
    "print(sorted_arr)"
   ]
  },
  {
   "cell_type": "markdown",
   "metadata": {
    "colab_type": "text",
    "id": "Bnck_27Bi0id"
   },
   "source": [
    "Помимо явной сортировки существует также функция `np.argsort()`, которая возвращает не отсортированный массив, а массив индексов исходного массива в порядке, который дает отсортированный исходный. Посмотрим:"
   ]
  },
  {
   "cell_type": "code",
   "execution_count": 87,
   "metadata": {
    "colab": {
     "base_uri": "https://localhost:8080/",
     "height": 51
    },
    "colab_type": "code",
    "executionInfo": {
     "elapsed": 9152,
     "status": "ok",
     "timestamp": 1598902936606,
     "user": {
      "displayName": "Alexey Devyatkin",
      "photoUrl": "https://lh3.googleusercontent.com/a-/AOh14GjZicdeEga0uI_adjvPG_ydk4aC9pHcJhRxHdlu=s64",
      "userId": "01450359895113891365"
     },
     "user_tz": -180
    },
    "id": "NPkO5wIkjvoN",
    "outputId": "af528fc2-8d42-4e22-ff1c-2d22c89fd48e"
   },
   "outputs": [
    {
     "name": "stdout",
     "output_type": "stream",
     "text": [
      "[ 8  7  3  0  4  9  1  2  6 10  5]\n",
      "[-1  0  1  2  2  3  4  5  5  5  7]\n"
     ]
    }
   ],
   "source": [
    "sorted_indices = np.argsort(unsorted_arr)\n",
    "print(sorted_indices)\n",
    "\n",
    "# А теперь воспользуемся индексами и отобразим исходный массив с индексацией\n",
    "print(unsorted_arr[sorted_indices])"
   ]
  },
  {
   "cell_type": "markdown",
   "metadata": {
    "colab_type": "text",
    "id": "unm24O5ukBIN"
   },
   "source": [
    "## Задание\n",
    "\n",
    "По такому же принципу именования найдите функцию, которая возвращает индекс максимального/минимального (в завимости от варианта) элемента в массиве.\n",
    "\n",
    "Воспользуйтесь найденной функцией и найдите индексы максимальных элементов в каждом столбце 2D матрицы: "
   ]
  },
  {
   "cell_type": "code",
   "execution_count": 88,
   "metadata": {
    "colab": {
     "base_uri": "https://localhost:8080/",
     "height": 85
    },
    "colab_type": "code",
    "executionInfo": {
     "elapsed": 9091,
     "status": "ok",
     "timestamp": 1598902936608,
     "user": {
      "displayName": "Alexey Devyatkin",
      "photoUrl": "https://lh3.googleusercontent.com/a-/AOh14GjZicdeEga0uI_adjvPG_ydk4aC9pHcJhRxHdlu=s64",
      "userId": "01450359895113891365"
     },
     "user_tz": -180
    },
    "id": "V8mS3lbMkzha",
    "outputId": "958fbb69-e2ee-47f0-dbf5-750da91b3616"
   },
   "outputs": [
    {
     "name": "stdout",
     "output_type": "stream",
     "text": [
      "[[11 -1  1  3  5]\n",
      " [ 6  1  0 -1 10]\n",
      " [ 1  3  2  3  6]\n",
      " [ 5  2  7  8  9]]\n",
      "[0, 2, 3, 3, 1]/[2, 0, 1, 1, 0]\n"
     ]
    }
   ],
   "source": [
    "arr = np.array([\n",
    "    [11, -1, 1, 3, 5],\n",
    "    [6, 1, 0, -1, 10],\n",
    "    [1, 3, 2, 3, 6],\n",
    "    [5, 2, 7, 8, 9],\n",
    "])\n",
    "\n",
    "arr_of_max_ind = [np.argmax(arr[:, i]) for i in range(arr.shape[1])]\n",
    "arr_of_min_ind = [np.argmin(arr[:, i]) for i in range(arr.shape[1])]\n",
    "\n",
    "print(arr)\n",
    "print(f\"{arr_of_max_ind}/{arr_of_min_ind}\")"
   ]
  },
  {
   "cell_type": "markdown",
   "metadata": {
    "colab_type": "text",
    "id": "B-BhMwTynb1c"
   },
   "source": [
    "## Задание\n",
    "\n",
    "Напишите код сортировки массива по столбцам:"
   ]
  },
  {
   "cell_type": "code",
   "execution_count": 89,
   "metadata": {
    "colab": {
     "base_uri": "https://localhost:8080/",
     "height": 85
    },
    "colab_type": "code",
    "executionInfo": {
     "elapsed": 9005,
     "status": "ok",
     "timestamp": 1598902936611,
     "user": {
      "displayName": "Alexey Devyatkin",
      "photoUrl": "https://lh3.googleusercontent.com/a-/AOh14GjZicdeEga0uI_adjvPG_ydk4aC9pHcJhRxHdlu=s64",
      "userId": "01450359895113891365"
     },
     "user_tz": -180
    },
    "id": "XeyGvnv9nha8",
    "outputId": "94c3c2d0-07c6-4b03-c75c-929789b1531a"
   },
   "outputs": [
    {
     "name": "stdout",
     "output_type": "stream",
     "text": [
      "[[11  2  1  3  5]\n",
      " [ 6  2  0 -1 10]\n",
      " [ 1  3  2  3  5]\n",
      " [ 5  2  7  8  9]]\n",
      "[[ 1  2  0 -1  5]\n",
      " [ 5  2  1  3  5]\n",
      " [ 6  2  2  3  9]\n",
      " [11  3  7  8 10]]\n"
     ]
    }
   ],
   "source": [
    "arr = np.array([\n",
    "    [11, 2, 1, 3, 5],\n",
    "    [6, 2, 0, -1, 10],\n",
    "    [1, 3, 2, 3, 5],\n",
    "    [5, 2, 7, 8, 9],\n",
    "])\n",
    "print(arr)\n",
    "print(np.sort(arr, axis = 0))"
   ]
  },
  {
   "cell_type": "markdown",
   "metadata": {
    "colab_type": "text",
    "id": "Q7HnQ1sydJy9"
   },
   "source": [
    "# Задачки"
   ]
  },
  {
   "cell_type": "markdown",
   "metadata": {
    "colab_type": "text",
    "id": "G9GZ6RxEFl4R"
   },
   "source": [
    "Создайте массив, состоящий из случайных элементов в диапазоне $[-10; 20]$ размером $(5, 7)$:"
   ]
  },
  {
   "cell_type": "code",
   "execution_count": 90,
   "metadata": {
    "colab": {},
    "colab_type": "code",
    "id": "nm7ygwgfF-2M"
   },
   "outputs": [],
   "source": [
    "data = np.random.randint(low = -10, high = 20, size = (5, 7))"
   ]
  },
  {
   "cell_type": "markdown",
   "metadata": {
    "colab_type": "text",
    "id": "N7RHO3OQmZAv"
   },
   "source": [
    "Добавьте границу в виде нулей со всех сторон 2D массива:"
   ]
  },
  {
   "cell_type": "code",
   "execution_count": 91,
   "metadata": {
    "colab": {
     "base_uri": "https://localhost:8080/",
     "height": 68
    },
    "colab_type": "code",
    "executionInfo": {
     "elapsed": 8930,
     "status": "ok",
     "timestamp": 1598902936614,
     "user": {
      "displayName": "Alexey Devyatkin",
      "photoUrl": "https://lh3.googleusercontent.com/a-/AOh14GjZicdeEga0uI_adjvPG_ydk4aC9pHcJhRxHdlu=s64",
      "userId": "01450359895113891365"
     },
     "user_tz": -180
    },
    "id": "3Eg9jmjLGief",
    "outputId": "be3c3a7f-b044-4ef9-fac2-673d2b638247"
   },
   "outputs": [
    {
     "name": "stdout",
     "output_type": "stream",
     "text": [
      "[[ 0.  0.  0.  0.  0.  0.  0.]\n",
      " [ 0.  1.  2.  3.  4.  5.  0.]\n",
      " [ 0.  6.  7.  8.  9. 10.  0.]\n",
      " [ 0. 11. 12. 13. 14. 15.  0.]\n",
      " [ 0.  0.  0.  0.  0.  0.  0.]]\n"
     ]
    }
   ],
   "source": [
    "data = np.arange(1, 16).reshape((3, 5))\n",
    "data_with_zero_borders = np.zeros((data.shape[0] + 2, data.shape[1] + 2))\n",
    "data_with_zero_borders[1:data_with_zero_borders.shape[0]-1, 1:data_with_zero_borders.shape[1]-1] = data\n",
    "print(data_with_zero_borders)"
   ]
  },
  {
   "cell_type": "markdown",
   "metadata": {
    "colab_type": "text",
    "id": "dZd4lWT7-A02"
   },
   "source": [
    "Разберитесь с функцией `np.clip()` и произведите ограничение массива, чтобы в нем значения были не более шести и не менее двух:"
   ]
  },
  {
   "cell_type": "code",
   "execution_count": 92,
   "metadata": {
    "colab": {
     "base_uri": "https://localhost:8080/",
     "height": 68
    },
    "colab_type": "code",
    "executionInfo": {
     "elapsed": 16662,
     "status": "ok",
     "timestamp": 1598902944420,
     "user": {
      "displayName": "Alexey Devyatkin",
      "photoUrl": "https://lh3.googleusercontent.com/a-/AOh14GjZicdeEga0uI_adjvPG_ydk4aC9pHcJhRxHdlu=s64",
      "userId": "01450359895113891365"
     },
     "user_tz": -180
    },
    "id": "ux991dZdmpS4",
    "outputId": "c31a7782-0131-4aa3-da4e-6038d2ab0c21"
   },
   "outputs": [
    {
     "name": "stdout",
     "output_type": "stream",
     "text": [
      "[[2 2 3 4 5]\n",
      " [6 6 6 6 6]\n",
      " [6 6 6 6 6]]\n"
     ]
    }
   ],
   "source": [
    "data = np.arange(1, 16).reshape((3, 5))\n",
    "data = np.clip(data, a_min = 2, a_max = 6)\n",
    "print(data)\n",
    "\n",
    "# TODO - ограничьте значения массива\n",
    "# [[2 2 3 4 5]\n",
    "#  [6 6 6 6 6]\n",
    "#  [6 6 6 6 6]]"
   ]
  },
  {
   "cell_type": "markdown",
   "metadata": {
    "colab_type": "text",
    "id": "GaK2Wjsc-ufd"
   },
   "source": [
    "Произведите модификацию массива так, чтобы значение в колонке результата соответствовало исходному значению, возведенному в степень индекса колонки:"
   ]
  },
  {
   "cell_type": "code",
   "execution_count": 93,
   "metadata": {
    "colab": {
     "base_uri": "https://localhost:8080/",
     "height": 68
    },
    "colab_type": "code",
    "executionInfo": {
     "elapsed": 16600,
     "status": "ok",
     "timestamp": 1598902944424,
     "user": {
      "displayName": "Alexey Devyatkin",
      "photoUrl": "https://lh3.googleusercontent.com/a-/AOh14GjZicdeEga0uI_adjvPG_ydk4aC9pHcJhRxHdlu=s64",
      "userId": "01450359895113891365"
     },
     "user_tz": -180
    },
    "id": "hL1yy-0b-Ned",
    "outputId": "77f45330-1fdc-4b29-acbf-0a579f5e3bc1"
   },
   "outputs": [
    {
     "name": "stdout",
     "output_type": "stream",
     "text": [
      "[[2 2 2 2 2]\n",
      " [2 2 2 2 2]\n",
      " [2 2 2 2 2]]\n",
      "[[ 1  2  4  8 16]\n",
      " [ 1  2  4  8 16]\n",
      " [ 1  2  4  8 16]]\n"
     ]
    }
   ],
   "source": [
    "data = np.full((3, 5), fill_value=2, dtype=np.int32)\n",
    "print(data)\n",
    "column_ind = range(0, data.shape[1])\n",
    "data[:, column_ind] **= column_ind\n",
    "print(data)"
   ]
  },
  {
   "cell_type": "markdown",
   "metadata": {
    "colab_type": "text",
    "id": "UvwJTfMQE2Eh"
   },
   "source": [
    "Умножьте каждую колонку на ее индекс:"
   ]
  },
  {
   "cell_type": "code",
   "execution_count": 94,
   "metadata": {
    "colab": {
     "base_uri": "https://localhost:8080/",
     "height": 68
    },
    "colab_type": "code",
    "executionInfo": {
     "elapsed": 967,
     "status": "ok",
     "timestamp": 1598903596456,
     "user": {
      "displayName": "Alexey Devyatkin",
      "photoUrl": "https://lh3.googleusercontent.com/a-/AOh14GjZicdeEga0uI_adjvPG_ydk4aC9pHcJhRxHdlu=s64",
      "userId": "01450359895113891365"
     },
     "user_tz": -180
    },
    "id": "hV5rEePyE1VH",
    "outputId": "ccfe58cf-436b-4bcd-ce76-af56010d9de8"
   },
   "outputs": [
    {
     "name": "stdout",
     "output_type": "stream",
     "text": [
      "[[2 2 2 2 2]\n",
      " [2 2 2 2 2]\n",
      " [2 2 2 2 2]]\n",
      "[[0 2 4 6 8]\n",
      " [0 2 4 6 8]\n",
      " [0 2 4 6 8]]\n"
     ]
    }
   ],
   "source": [
    "data = np.full((3, 5), fill_value=2, dtype=np.int32)\n",
    "print(data)\n",
    "column_ind = range(0, data.shape[1])\n",
    "data[:, column_ind] *= column_ind\n",
    "print(data)"
   ]
  },
  {
   "cell_type": "markdown",
   "metadata": {
    "colab_type": "text",
    "id": "VzMibei69GMQ"
   },
   "source": [
    "Умножьте каждый четный ряд в матрице на вектор:"
   ]
  },
  {
   "cell_type": "code",
   "execution_count": 95,
   "metadata": {
    "colab": {
     "base_uri": "https://localhost:8080/",
     "height": 137
    },
    "colab_type": "code",
    "executionInfo": {
     "elapsed": 16539,
     "status": "ok",
     "timestamp": 1598902944426,
     "user": {
      "displayName": "Alexey Devyatkin",
      "photoUrl": "https://lh3.googleusercontent.com/a-/AOh14GjZicdeEga0uI_adjvPG_ydk4aC9pHcJhRxHdlu=s64",
      "userId": "01450359895113891365"
     },
     "user_tz": -180
    },
    "id": "BWkmzzWq-O3d",
    "outputId": "54f1e723-68ce-4465-95eb-a9bfce9bb446"
   },
   "outputs": [
    {
     "name": "stdout",
     "output_type": "stream",
     "text": [
      "[[1 1 1 1]\n",
      " [2 2 2 2]\n",
      " [3 3 3 3]\n",
      " [4 4 4 4]\n",
      " [5 5 5 5]\n",
      " [6 6 6 6]\n",
      " [7 7 7 7]]\n",
      "[[ 1  2  1  2]\n",
      " [ 2  2  2  2]\n",
      " [ 3  6  3  6]\n",
      " [ 4  4  4  4]\n",
      " [ 5 10  5 10]\n",
      " [ 6  6  6  6]\n",
      " [ 7 14  7 14]]\n"
     ]
    }
   ],
   "source": [
    "data = np.repeat(np.arange(1, 8), 4).reshape(7, 4)\n",
    "print(data)\n",
    "vec = np.array([1, 2, 1, 2])\n",
    "row_ind = range(0, data.shape[0], 2)\n",
    "data[row_ind, :] *=  vec\n",
    "print(data)"
   ]
  },
  {
   "cell_type": "markdown",
   "metadata": {
    "colab_type": "text",
    "id": "HkNh2J_BCXgo"
   },
   "source": [
    "Определите индексы двух наибольших элементов в матрице по каждому ряду:"
   ]
  },
  {
   "cell_type": "code",
   "execution_count": 96,
   "metadata": {
    "colab": {
     "base_uri": "https://localhost:8080/",
     "height": 85
    },
    "colab_type": "code",
    "executionInfo": {
     "elapsed": 1214,
     "status": "ok",
     "timestamp": 1598903400336,
     "user": {
      "displayName": "Alexey Devyatkin",
      "photoUrl": "https://lh3.googleusercontent.com/a-/AOh14GjZicdeEga0uI_adjvPG_ydk4aC9pHcJhRxHdlu=s64",
      "userId": "01450359895113891365"
     },
     "user_tz": -180
    },
    "id": "oPta0_FI9phV",
    "outputId": "806f6c32-02de-4ffc-e736-672f2f005ea2"
   },
   "outputs": [
    {
     "name": "stdout",
     "output_type": "stream",
     "text": [
      "[[20 22  2 14 25  8]\n",
      " [ 7 25 23  3 22 15]\n",
      " [ 8 16  9 22  0  9]\n",
      " [ 4 24 24 28  3 40]]\n",
      "[[4 1]\n",
      " [1 2]\n",
      " [3 1]\n",
      " [5 3]]\n"
     ]
    }
   ],
   "source": [
    "data = np.array([[20, 22,  2, 14, 25,  8],\n",
    "                [ 7, 25, 23,  3, 22, 15],\n",
    "                [ 8, 16,  9, 22,  0,  9],\n",
    "                [ 4, 24, 24, 28,  3, 40]])\n",
    "print(data)\n",
    "print(np.argsort(-data, axis = 1)[:, 0:2])"
   ]
  },
  {
   "cell_type": "markdown",
   "metadata": {
    "colab_type": "text",
    "id": "dHWhvnrxGNbi"
   },
   "source": [
    "Выберите две случайные колонки из массива:\n",
    "\n",
    "<details>\n",
    "<summary>Подсказка 1</summary>\n",
    "\n",
    "Для случайного выбора полезно воспользоваться функцией `np.random.choice()`\n",
    "</details>\n",
    "\n",
    "<details>\n",
    "<summary>Подсказка 2</summary>\n",
    "\n",
    "`np.random.choice()` принимает на вход 1D массив, так что для выбора можно создать массив индексов колонок (`range()` с количеством колонок) и из него функция выберет два случайных индекса\n",
    "</details>"
   ]
  },
  {
   "cell_type": "code",
   "execution_count": 97,
   "metadata": {
    "colab": {
     "base_uri": "https://localhost:8080/",
     "height": 154
    },
    "colab_type": "code",
    "executionInfo": {
     "elapsed": 937,
     "status": "ok",
     "timestamp": 1598904075012,
     "user": {
      "displayName": "Alexey Devyatkin",
      "photoUrl": "https://lh3.googleusercontent.com/a-/AOh14GjZicdeEga0uI_adjvPG_ydk4aC9pHcJhRxHdlu=s64",
      "userId": "01450359895113891365"
     },
     "user_tz": -180
    },
    "id": "QyOXcEMSGWhJ",
    "outputId": "3eb31563-01bf-4a2d-fc8c-4d6c199759de"
   },
   "outputs": [
    {
     "name": "stdout",
     "output_type": "stream",
     "text": [
      "[[20  8]\n",
      " [ 7 15]\n",
      " [ 8  9]\n",
      " [ 4 40]]\n"
     ]
    }
   ],
   "source": [
    "data = np.array([[20, 22,  2, 14, 25,  8],\n",
    "                [ 7, 25, 23,  3, 22, 15],\n",
    "                [ 8, 16,  9, 22,  0,  9],\n",
    "                [ 4, 24, 24, 28,  3, 40]])\n",
    "print(data[:, np.random.choice(range(0, data.shape[1]), size = 2)])"
   ]
  },
  {
   "cell_type": "markdown",
   "metadata": {
    "colab_type": "text",
    "id": "2klcFh_wKeZl"
   },
   "source": [
    "Создайте массив размером $(10, 3)$, который состоит из повторяющихся рядов исходного массива:"
   ]
  },
  {
   "cell_type": "code",
   "execution_count": 98,
   "metadata": {
    "colab": {
     "base_uri": "https://localhost:8080/",
     "height": 68
    },
    "colab_type": "code",
    "executionInfo": {
     "elapsed": 998,
     "status": "ok",
     "timestamp": 1598905158514,
     "user": {
      "displayName": "Alexey Devyatkin",
      "photoUrl": "https://lh3.googleusercontent.com/a-/AOh14GjZicdeEga0uI_adjvPG_ydk4aC9pHcJhRxHdlu=s64",
      "userId": "01450359895113891365"
     },
     "user_tz": -180
    },
    "id": "V3iiVqlRKnlw",
    "outputId": "9f94b2f8-ee8a-4984-f31a-80035558dede"
   },
   "outputs": [
    {
     "name": "stdout",
     "output_type": "stream",
     "text": [
      "[[0 1 2]\n",
      " [3 4 5]\n",
      " [6 7 8]\n",
      " [0 1 2]\n",
      " [3 4 5]\n",
      " [6 7 8]\n",
      " [0 1 2]\n",
      " [3 4 5]\n",
      " [6 7 8]\n",
      " [0 1 2]]\n"
     ]
    }
   ],
   "source": [
    "data = np.arange(9).reshape(3, 3)\n",
    "print(np.resize(data, (10, 3)))"
   ]
  },
  {
   "cell_type": "markdown",
   "metadata": {
    "colab_type": "text",
    "id": "SH70EM7FIyqL"
   },
   "source": [
    "Соберите массив, состоящий из элементов 2й и 4й колонок и строк с 1й по 3ю:"
   ]
  },
  {
   "cell_type": "code",
   "execution_count": 99,
   "metadata": {
    "colab": {
     "base_uri": "https://localhost:8080/",
     "height": 102
    },
    "colab_type": "code",
    "executionInfo": {
     "elapsed": 1058,
     "status": "ok",
     "timestamp": 1598904898381,
     "user": {
      "displayName": "Alexey Devyatkin",
      "photoUrl": "https://lh3.googleusercontent.com/a-/AOh14GjZicdeEga0uI_adjvPG_ydk4aC9pHcJhRxHdlu=s64",
      "userId": "01450359895113891365"
     },
     "user_tz": -180
    },
    "id": "c6KbqmPBDYaJ",
    "outputId": "cbfbcf58-95fd-493e-bd52-3e54a532ae18"
   },
   "outputs": [
    {
     "name": "stdout",
     "output_type": "stream",
     "text": [
      "[[20 22  2 14 25  8]\n",
      " [ 7 25 23  3 22 15]\n",
      " [ 8 16  9 22  0  9]\n",
      " [14  9 33 21  7  6]\n",
      " [ 4 24 24 28  3 40]]\n",
      "[[23 22]\n",
      " [ 9  0]\n",
      " [33  7]]\n"
     ]
    }
   ],
   "source": [
    "data = np.array([[20, 22,  2, 14, 25,  8],\n",
    "                [ 7, 25, 23,  3, 22, 15],\n",
    "                [ 8, 16,  9, 22,  0,  9],\n",
    "                [ 14, 9,  33, 21,  7,  6],\n",
    "                [ 4, 24, 24, 28,  3, 40]])\n",
    "print(data)\n",
    "data_new = data[1:4, [2,4]]\n",
    "print(data_new)"
   ]
  },
  {
   "cell_type": "markdown",
   "metadata": {
    "colab_type": "text",
    "id": "vS3kwb59Jee2"
   },
   "source": [
    "Инвертируйте порядок элементов в последних двух колонках:"
   ]
  },
  {
   "cell_type": "code",
   "execution_count": 100,
   "metadata": {
    "colab": {
     "base_uri": "https://localhost:8080/",
     "height": 102
    },
    "colab_type": "code",
    "executionInfo": {
     "elapsed": 1137,
     "status": "ok",
     "timestamp": 1598904892862,
     "user": {
      "displayName": "Alexey Devyatkin",
      "photoUrl": "https://lh3.googleusercontent.com/a-/AOh14GjZicdeEga0uI_adjvPG_ydk4aC9pHcJhRxHdlu=s64",
      "userId": "01450359895113891365"
     },
     "user_tz": -180
    },
    "id": "wTKNzMf9Jd3g",
    "outputId": "c2c54e4c-40a2-4d78-b3cb-033aa6462bb3"
   },
   "outputs": [
    {
     "name": "stdout",
     "output_type": "stream",
     "text": [
      "[[20 22  2 14 25  8]\n",
      " [ 7 25 23  3 22 15]\n",
      " [ 8 16  9 22  0  9]\n",
      " [14  9 33 21  7  6]\n",
      " [ 4 24 24 28  3 40]]\n",
      "[[20 22  2 14  3 40]\n",
      " [ 7 25 23  3  7  6]\n",
      " [ 8 16  9 22  0  9]\n",
      " [14  9 33 21 22 15]\n",
      " [ 4 24 24 28 25  8]]\n"
     ]
    }
   ],
   "source": [
    "data = np.array([[20, 22,  2, 14, 25,  8],\n",
    "                [ 7, 25, 23,  3, 22, 15],\n",
    "                [ 8, 16,  9, 22,  0,  9],\n",
    "                [ 14, 9,  33, 21,  7,  6],\n",
    "                [ 4, 24, 24, 28,  3, 40]])\n",
    "print(data)\n",
    "data[:, [-1, -2]] = data[::-1, [-1, -2]]\n",
    "print(data)\n",
    "# TODO - инвертируйте порядок последних двух колонок\n",
    "# [[20 22  2 14  3 40]\n",
    "#  [ 7 25 23  3  7  6]\n",
    "#  [ 8 16  9 22  0  9]\n",
    "#  [14  9 33 21 22 15]\n",
    "#  [ 4 24 24 28 25  8]]"
   ]
  }
 ],
 "metadata": {
  "colab": {
   "collapsed_sections": [],
   "name": "Pr01_Numpy.ipynb",
   "provenance": [],
   "toc_visible": true
  },
  "kernelspec": {
   "display_name": "Python 3",
   "language": "python",
   "name": "python3"
  },
  "language_info": {
   "codemirror_mode": {
    "name": "ipython",
    "version": 3
   },
   "file_extension": ".py",
   "mimetype": "text/x-python",
   "name": "python",
   "nbconvert_exporter": "python",
   "pygments_lexer": "ipython3",
   "version": "3.8.3"
  }
 },
 "nbformat": 4,
 "nbformat_minor": 1
}
