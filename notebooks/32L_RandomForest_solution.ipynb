{
 "cells": [
  {
   "cell_type": "markdown",
   "metadata": {},
   "source": [
    "Импорт используемых библиотек:"
   ]
  },
  {
   "cell_type": "code",
   "execution_count": 1,
   "metadata": {},
   "outputs": [],
   "source": [
    "import matplotlib\n",
    "import seaborn as sns\n",
    "import matplotlib.pyplot as plt\n",
    "import numpy as np\n",
    "import pandas as pd\n",
    "from itertools import product"
   ]
  },
  {
   "cell_type": "markdown",
   "metadata": {},
   "source": [
    "Инициализация настроек ноутбука:"
   ]
  },
  {
   "cell_type": "code",
   "execution_count": 2,
   "metadata": {},
   "outputs": [],
   "source": [
    "import warnings\n",
    "warnings.filterwarnings('ignore')\n",
    "\n",
    "TEXT_COLOR = 'black'\n",
    "matplotlib.rcParams['text.color'] = 'black'\n",
    "matplotlib.rcParams['font.size'] = 14\n",
    "matplotlib.rcParams['axes.labelcolor'] = TEXT_COLOR\n",
    "matplotlib.rcParams['xtick.color'] = TEXT_COLOR\n",
    "matplotlib.rcParams['ytick.color'] = TEXT_COLOR\n",
    "\n",
    "# Зафиксируем состояние случайных чисел\n",
    "RANDOM_STATE = 42\n",
    "np.random.seed(RANDOM_STATE)"
   ]
  },
  {
   "cell_type": "markdown",
   "metadata": {},
   "source": [
    "# Базовый анализ данных, разбиение данных на обучение/тест, разработка baseline модели, оценка работы модели, отображение важности признаков"
   ]
  },
  {
   "cell_type": "markdown",
   "metadata": {},
   "source": [
    "Загрузка датасета о данных пассажиров с Титаника:"
   ]
  },
  {
   "cell_type": "code",
   "execution_count": 3,
   "metadata": {},
   "outputs": [
    {
     "data": {
      "text/html": [
       "<div>\n",
       "<style scoped>\n",
       "    .dataframe tbody tr th:only-of-type {\n",
       "        vertical-align: middle;\n",
       "    }\n",
       "\n",
       "    .dataframe tbody tr th {\n",
       "        vertical-align: top;\n",
       "    }\n",
       "\n",
       "    .dataframe thead th {\n",
       "        text-align: right;\n",
       "    }\n",
       "</style>\n",
       "<table border=\"1\" class=\"dataframe\">\n",
       "  <thead>\n",
       "    <tr style=\"text-align: right;\">\n",
       "      <th></th>\n",
       "      <th>PassengerId</th>\n",
       "      <th>Survived</th>\n",
       "      <th>Pclass</th>\n",
       "      <th>Name</th>\n",
       "      <th>Sex</th>\n",
       "      <th>Age</th>\n",
       "      <th>SibSp</th>\n",
       "      <th>Parch</th>\n",
       "      <th>Ticket</th>\n",
       "      <th>Fare</th>\n",
       "      <th>Cabin</th>\n",
       "      <th>Embarked</th>\n",
       "    </tr>\n",
       "  </thead>\n",
       "  <tbody>\n",
       "    <tr>\n",
       "      <th>0</th>\n",
       "      <td>1</td>\n",
       "      <td>0</td>\n",
       "      <td>3</td>\n",
       "      <td>Braund, Mr. Owen Harris</td>\n",
       "      <td>male</td>\n",
       "      <td>22.0</td>\n",
       "      <td>1</td>\n",
       "      <td>0</td>\n",
       "      <td>A/5 21171</td>\n",
       "      <td>7.2500</td>\n",
       "      <td>NaN</td>\n",
       "      <td>S</td>\n",
       "    </tr>\n",
       "    <tr>\n",
       "      <th>1</th>\n",
       "      <td>2</td>\n",
       "      <td>1</td>\n",
       "      <td>1</td>\n",
       "      <td>Cumings, Mrs. John Bradley (Florence Briggs Th...</td>\n",
       "      <td>female</td>\n",
       "      <td>38.0</td>\n",
       "      <td>1</td>\n",
       "      <td>0</td>\n",
       "      <td>PC 17599</td>\n",
       "      <td>71.2833</td>\n",
       "      <td>C85</td>\n",
       "      <td>C</td>\n",
       "    </tr>\n",
       "    <tr>\n",
       "      <th>2</th>\n",
       "      <td>3</td>\n",
       "      <td>1</td>\n",
       "      <td>3</td>\n",
       "      <td>Heikkinen, Miss. Laina</td>\n",
       "      <td>female</td>\n",
       "      <td>26.0</td>\n",
       "      <td>0</td>\n",
       "      <td>0</td>\n",
       "      <td>STON/O2. 3101282</td>\n",
       "      <td>7.9250</td>\n",
       "      <td>NaN</td>\n",
       "      <td>S</td>\n",
       "    </tr>\n",
       "    <tr>\n",
       "      <th>3</th>\n",
       "      <td>4</td>\n",
       "      <td>1</td>\n",
       "      <td>1</td>\n",
       "      <td>Futrelle, Mrs. Jacques Heath (Lily May Peel)</td>\n",
       "      <td>female</td>\n",
       "      <td>35.0</td>\n",
       "      <td>1</td>\n",
       "      <td>0</td>\n",
       "      <td>113803</td>\n",
       "      <td>53.1000</td>\n",
       "      <td>C123</td>\n",
       "      <td>S</td>\n",
       "    </tr>\n",
       "    <tr>\n",
       "      <th>4</th>\n",
       "      <td>5</td>\n",
       "      <td>0</td>\n",
       "      <td>3</td>\n",
       "      <td>Allen, Mr. William Henry</td>\n",
       "      <td>male</td>\n",
       "      <td>35.0</td>\n",
       "      <td>0</td>\n",
       "      <td>0</td>\n",
       "      <td>373450</td>\n",
       "      <td>8.0500</td>\n",
       "      <td>NaN</td>\n",
       "      <td>S</td>\n",
       "    </tr>\n",
       "  </tbody>\n",
       "</table>\n",
       "</div>"
      ],
      "text/plain": [
       "   PassengerId  Survived  Pclass  \\\n",
       "0            1         0       3   \n",
       "1            2         1       1   \n",
       "2            3         1       3   \n",
       "3            4         1       1   \n",
       "4            5         0       3   \n",
       "\n",
       "                                                Name     Sex   Age  SibSp  \\\n",
       "0                            Braund, Mr. Owen Harris    male  22.0      1   \n",
       "1  Cumings, Mrs. John Bradley (Florence Briggs Th...  female  38.0      1   \n",
       "2                             Heikkinen, Miss. Laina  female  26.0      0   \n",
       "3       Futrelle, Mrs. Jacques Heath (Lily May Peel)  female  35.0      1   \n",
       "4                           Allen, Mr. William Henry    male  35.0      0   \n",
       "\n",
       "   Parch            Ticket     Fare Cabin Embarked  \n",
       "0      0         A/5 21171   7.2500   NaN        S  \n",
       "1      0          PC 17599  71.2833   C85        C  \n",
       "2      0  STON/O2. 3101282   7.9250   NaN        S  \n",
       "3      0            113803  53.1000  C123        S  \n",
       "4      0            373450   8.0500   NaN        S  "
      ]
     },
     "execution_count": 3,
     "metadata": {},
     "output_type": "execute_result"
    }
   ],
   "source": [
    "URL = 'https://raw.githubusercontent.com/KaiL4eK/ml_edu/master/datasets/Titanic_train.csv'\n",
    "src_df = pd.read_csv(URL)\n",
    "src_df.head()"
   ]
  },
  {
   "cell_type": "markdown",
   "metadata": {},
   "source": [
    "Для базовой предобработки данных используем папйплайн и преобразователь колонок. Для категориальных признаков применим стратегию `most_frequent`, а для численных признаков стратегию `median`."
   ]
  },
  {
   "cell_type": "code",
   "execution_count": 4,
   "metadata": {},
   "outputs": [],
   "source": [
    "from sklearn.impute import SimpleImputer\n",
    "from sklearn.pipeline import Pipeline\n",
    "from sklearn.compose import ColumnTransformer\n",
    "from sklearn.preprocessing import OneHotEncoder\n",
    "\n",
    "df = src_df\n",
    "categorical_features = ['Sex', 'Embarked']\n",
    "numeric_features = ['Pclass','Age', 'Fare','SibSp',\t'Parch']\n",
    "categorical_transformer = Pipeline(\n",
    "    steps=[\n",
    "        ('imp', SimpleImputer(strategy='most_frequent')),\n",
    "        ('enc', OneHotEncoder(handle_unknown='error')),                   \n",
    "])\n",
    "numeric_transformer = SimpleImputer(strategy='median')\n",
    "preprocessor = ColumnTransformer(\n",
    "    transformers=[\n",
    "        ('cat', categorical_transformer, categorical_features),\n",
    "        ('num', numeric_transformer, numeric_features)\n",
    "    ],\n",
    "    remainder='drop'\n",
    ")\n",
    "\n",
    "preprocessor.fit(df)\n",
    "\n",
    "X_data = preprocessor.transform(df)"
   ]
  },
  {
   "cell_type": "markdown",
   "metadata": {},
   "source": [
    "Проведем разбиение выборки на тестовую и обучающую:"
   ]
  },
  {
   "cell_type": "code",
   "execution_count": 5,
   "metadata": {},
   "outputs": [],
   "source": [
    "from sklearn.model_selection import train_test_split\n",
    "\n",
    "TRAIN_RATIO = 0.8\n",
    "\n",
    "y_data = src_df['Survived']\n",
    "\n",
    "X_train, X_test, y_train, y_test = train_test_split(\n",
    "    X_data, y_data, \n",
    "    train_size=TRAIN_RATIO, \n",
    "    random_state=RANDOM_STATE,\n",
    "    stratify=y_data\n",
    ")"
   ]
  },
  {
   "cell_type": "markdown",
   "metadata": {},
   "source": [
    "Создадим baseline модель `DecisionTreeClassifier`:"
   ]
  },
  {
   "cell_type": "code",
   "execution_count": 6,
   "metadata": {},
   "outputs": [
    {
     "data": {
      "text/plain": [
       "DecisionTreeClassifier(random_state=42)"
      ]
     },
     "execution_count": 6,
     "metadata": {},
     "output_type": "execute_result"
    }
   ],
   "source": [
    "from sklearn.tree import DecisionTreeClassifier, plot_tree\n",
    "\n",
    "tree = DecisionTreeClassifier(random_state=RANDOM_STATE)\n",
    "tree.fit(X_train, y_train)"
   ]
  },
  {
   "cell_type": "markdown",
   "metadata": {},
   "source": [
    "Оценим работу baseline модели:"
   ]
  },
  {
   "cell_type": "code",
   "execution_count": 7,
   "metadata": {},
   "outputs": [],
   "source": [
    "from sklearn.metrics import f1_score\n",
    "\n",
    "def getF1results(X_test, y_test, model):\n",
    "    y_pred = model.predict(X_test)\n",
    "    f1 = f1_score(y_test, y_pred)\n",
    "    print(f'Model = {type(model).__name__}; F1 = {f1}')"
   ]
  },
  {
   "cell_type": "code",
   "execution_count": 8,
   "metadata": {},
   "outputs": [
    {
     "name": "stdout",
     "output_type": "stream",
     "text": [
      "Model = DecisionTreeClassifier; F1 = 0.7575757575757576\n"
     ]
    }
   ],
   "source": [
    "getF1results(X_test, y_test, tree)"
   ]
  },
  {
   "cell_type": "markdown",
   "metadata": {},
   "source": [
    "Оценим важность признаков:"
   ]
  },
  {
   "cell_type": "code",
   "execution_count": 9,
   "metadata": {},
   "outputs": [],
   "source": [
    "def show_importance(model, feature_names, X):\n",
    "    importances = model.feature_importances_\n",
    "    for feat_imp, feat_name in zip(importances, feature_names):\n",
    "        print(f'Feature: {feat_name} | {feat_imp}')\n",
    "    indices = np.argsort(importances)[::-1]\n",
    "    sorted_feat_names = [feature_names[ind] for ind in indices]\n",
    "    plt.figure()\n",
    "    plt.title(\"Feature importances\")\n",
    "    plt.bar(range(X.shape[1]), importances[indices], color=\"b\", align=\"center\")\n",
    "    plt.xticks(range(X.shape[1]), sorted_feat_names, rotation=70)\n",
    "    plt.xlim([-1, X.shape[1]])\n",
    "    plt.show()\n",
    "\n",
    "ohe_column_names = preprocessor \\\n",
    "    .named_transformers_['cat'] \\\n",
    "    .named_steps['enc'] \\\n",
    "    .get_feature_names(categorical_features)\n",
    "\n",
    "recovered_feat_names = \\\n",
    "    list(ohe_column_names) + \\\n",
    "    list(numeric_features)"
   ]
  },
  {
   "cell_type": "code",
   "execution_count": 10,
   "metadata": {},
   "outputs": [
    {
     "name": "stdout",
     "output_type": "stream",
     "text": [
      "Feature: Sex_female | 0.3166378392171992\n",
      "Feature: Sex_male | 0.0\n",
      "Feature: Embarked_C | 0.008557944899657112\n",
      "Feature: Embarked_Q | 0.0054576832441240114\n",
      "Feature: Embarked_S | 0.020944100506074308\n",
      "Feature: Pclass | 0.11024670351338307\n",
      "Feature: Age | 0.2771716363312113\n",
      "Feature: Fare | 0.22805585131800626\n",
      "Feature: SibSp | 0.02087202032740467\n",
      "Feature: Parch | 0.01205622064294014\n"
     ]
    },
    {
     "data": {
      "image/png": "[encoded data removed]",
      "text/plain": [
       "<Figure size 432x288 with 1 Axes>"
      ]
     },
     "metadata": {
      "needs_background": "light"
     },
     "output_type": "display_data"
    }
   ],
   "source": [
    "show_importance(tree, recovered_feat_names, X_train)"
   ]
  },
  {
   "cell_type": "markdown",
   "metadata": {},
   "source": [
    "Наиболее важными признаками оказались женский пол, класс обслуживания, возраст."
   ]
  },
  {
   "cell_type": "markdown",
   "metadata": {},
   "source": [
    "# Разработаем модель логистической регрессии, оценим и сравним ее с моделью дерева"
   ]
  },
  {
   "cell_type": "code",
   "execution_count": 11,
   "metadata": {},
   "outputs": [
    {
     "name": "stdout",
     "output_type": "stream",
     "text": [
      "Model = LogisticRegression; F1 = 0.7244094488188977\n"
     ]
    }
   ],
   "source": [
    "from sklearn.linear_model import LogisticRegression\n",
    "logreg = LogisticRegression()\n",
    "logreg.fit(X_train, y_train)\n",
    "getF1results(X_test, y_test, logreg)"
   ]
  },
  {
   "cell_type": "markdown",
   "metadata": {},
   "source": [
    "После базовой предобработки данных модель логистической регрессии показывает худшую метрику F1."
   ]
  },
  {
   "cell_type": "markdown",
   "metadata": {},
   "source": [
    "# Рассмотрим работу моделей при стандартизации численных признаков"
   ]
  },
  {
   "cell_type": "code",
   "execution_count": 12,
   "metadata": {},
   "outputs": [],
   "source": [
    "from sklearn.preprocessing import StandardScaler\n",
    "\n",
    "scaler = StandardScaler()\n",
    "X_train_scaled = X_train\n",
    "scaler.fit(X_train_scaled)\n",
    "X_train_scaled = scaler.transform(X_train_scaled)\n",
    "\n",
    "X_test_scaled = X_test\n",
    "scaler.fit(X_test_scaled)\n",
    "X_test_scaled = scaler.transform(X_test_scaled)"
   ]
  },
  {
   "cell_type": "code",
   "execution_count": 13,
   "metadata": {},
   "outputs": [
    {
     "name": "stdout",
     "output_type": "stream",
     "text": [
      "Model = LogisticRegression; F1 = 0.7131782945736433\n",
      "------------------------\n",
      "Model = DecisionTreeClassifier; F1 = 0.6562500000000001\n"
     ]
    }
   ],
   "source": [
    "logreg.fit(X_train_scaled, y_train)\n",
    "getF1results(X_test_scaled, y_test, logreg)\n",
    "print('------------------------')\n",
    "tree.fit(X_train_scaled, y_train)\n",
    "getF1results(X_test_scaled, y_test, tree)"
   ]
  },
  {
   "cell_type": "markdown",
   "metadata": {},
   "source": [
    "После нормализации показатели метрики F1 для обоих моделей ухудшились"
   ]
  },
  {
   "cell_type": "markdown",
   "metadata": {},
   "source": [
    "# Изучим влияние `max_depth` и `criterion` на показатели дерева на 5 разных значений для каждого критерия, оценим с помощью кросс-валидации на обучающей выборке"
   ]
  },
  {
   "cell_type": "code",
   "execution_count": 14,
   "metadata": {},
   "outputs": [],
   "source": [
    "from sklearn.model_selection import cross_val_score\n",
    "\n",
    "def getCrossValResults(X, y, model):\n",
    "    scores = cross_val_score(\n",
    "        model,     \n",
    "        X,          \n",
    "        y,          \n",
    "        cv=5,      \n",
    "        scoring='f1_macro'  \n",
    "    )\n",
    "    #print(f'Scores: {scores}')\n",
    "    #print(f'F1 (macro): {scores.mean(): 0.2f} (+/- {scores.std() * 2: 0.2f})')\n",
    "    return scores"
   ]
  },
  {
   "cell_type": "code",
   "execution_count": 15,
   "metadata": {},
   "outputs": [
    {
     "data": {
      "text/html": [
       "<div>\n",
       "<style scoped>\n",
       "    .dataframe tbody tr th:only-of-type {\n",
       "        vertical-align: middle;\n",
       "    }\n",
       "\n",
       "    .dataframe tbody tr th {\n",
       "        vertical-align: top;\n",
       "    }\n",
       "\n",
       "    .dataframe thead th {\n",
       "        text-align: right;\n",
       "    }\n",
       "</style>\n",
       "<table border=\"1\" class=\"dataframe\">\n",
       "  <thead>\n",
       "    <tr style=\"text-align: right;\">\n",
       "      <th></th>\n",
       "      <th>Param</th>\n",
       "      <th>F1-score</th>\n",
       "    </tr>\n",
       "  </thead>\n",
       "  <tbody>\n",
       "    <tr>\n",
       "      <th>0</th>\n",
       "      <td>max_depth = 1 &amp; criterion = gini</td>\n",
       "      <td>0.772913</td>\n",
       "    </tr>\n",
       "    <tr>\n",
       "      <th>1</th>\n",
       "      <td>max_depth = 3 &amp; criterion = gini</td>\n",
       "      <td>0.788038</td>\n",
       "    </tr>\n",
       "    <tr>\n",
       "      <th>2</th>\n",
       "      <td>max_depth = 5 &amp; criterion = gini</td>\n",
       "      <td>0.797413</td>\n",
       "    </tr>\n",
       "    <tr>\n",
       "      <th>3</th>\n",
       "      <td>max_depth = 7 &amp; criterion = gini</td>\n",
       "      <td>0.794431</td>\n",
       "    </tr>\n",
       "    <tr>\n",
       "      <th>4</th>\n",
       "      <td>max_depth = 9 &amp; criterion = gini</td>\n",
       "      <td>0.795463</td>\n",
       "    </tr>\n",
       "    <tr>\n",
       "      <th>5</th>\n",
       "      <td>max_depth = 1 &amp; criterion = entropy</td>\n",
       "      <td>0.772913</td>\n",
       "    </tr>\n",
       "    <tr>\n",
       "      <th>6</th>\n",
       "      <td>max_depth = 3 &amp; criterion = entropy</td>\n",
       "      <td>0.788038</td>\n",
       "    </tr>\n",
       "    <tr>\n",
       "      <th>7</th>\n",
       "      <td>max_depth = 5 &amp; criterion = entropy</td>\n",
       "      <td>0.783502</td>\n",
       "    </tr>\n",
       "    <tr>\n",
       "      <th>8</th>\n",
       "      <td>max_depth = 7 &amp; criterion = entropy</td>\n",
       "      <td>0.772829</td>\n",
       "    </tr>\n",
       "    <tr>\n",
       "      <th>9</th>\n",
       "      <td>max_depth = 9 &amp; criterion = entropy</td>\n",
       "      <td>0.776358</td>\n",
       "    </tr>\n",
       "  </tbody>\n",
       "</table>\n",
       "</div>"
      ],
      "text/plain": [
       "                                 Param  F1-score\n",
       "0     max_depth = 1 & criterion = gini  0.772913\n",
       "1     max_depth = 3 & criterion = gini  0.788038\n",
       "2     max_depth = 5 & criterion = gini  0.797413\n",
       "3     max_depth = 7 & criterion = gini  0.794431\n",
       "4     max_depth = 9 & criterion = gini  0.795463\n",
       "5  max_depth = 1 & criterion = entropy  0.772913\n",
       "6  max_depth = 3 & criterion = entropy  0.788038\n",
       "7  max_depth = 5 & criterion = entropy  0.783502\n",
       "8  max_depth = 7 & criterion = entropy  0.772829\n",
       "9  max_depth = 9 & criterion = entropy  0.776358"
      ]
     },
     "execution_count": 15,
     "metadata": {},
     "output_type": "execute_result"
    }
   ],
   "source": [
    "f1_dataframe = pd.DataFrame(columns=['Param', 'F1-score'])\n",
    "max_depth = range(1, 10, 2)\n",
    "criterion = ['gini', 'entropy']\n",
    "for crit in criterion:\n",
    "    for depth in max_depth:\n",
    "        tree = DecisionTreeClassifier(random_state=RANDOM_STATE,max_depth=depth,criterion=crit)\n",
    "        tree.fit(X_train, y_train)\n",
    "        scores = getCrossValResults(X_train, y_train, tree)\n",
    "        f1_dataframe = f1_dataframe.append({'Param': f'max_depth = {depth} & criterion = {crit}',\n",
    "                                            'F1-score': scores.mean()}, ignore_index = True)\n",
    "f1_dataframe"
   ]
  },
  {
   "cell_type": "markdown",
   "metadata": {},
   "source": [
    "Наилучшие показатели качества соответствуют параметрам `max_depth` = 9 и `criterion` = gini"
   ]
  },
  {
   "cell_type": "markdown",
   "metadata": {},
   "source": [
    "# Проведем расширенный анализ данных и оценим работу модели на преобразованных данных"
   ]
  },
  {
   "cell_type": "markdown",
   "metadata": {},
   "source": [
    "Создадим новые признаки:"
   ]
  },
  {
   "cell_type": "code",
   "execution_count": 16,
   "metadata": {},
   "outputs": [
    {
     "data": {
      "text/plain": [
       "DecisionTreeClassifier(random_state=42)"
      ]
     },
     "execution_count": 16,
     "metadata": {},
     "output_type": "execute_result"
    }
   ],
   "source": [
    "df = src_df\n",
    "df['FamilySize'] = df['Parch'] + df['SibSp'] + 1\n",
    "isAlone=list();\n",
    "for size in df['FamilySize']:\n",
    "    if size==1: isAlone.append(1);\n",
    "    else: isAlone.append(0);\n",
    "df['isAlone'] = isAlone\n",
    "categorical_features = ['Sex', 'isAlone']\n",
    "numeric_features = ['Pclass','Age', 'Fare','SibSp', 'Parch', 'FamilySize']\n",
    "categorical_transformer = Pipeline(\n",
    "    steps=[\n",
    "        ('imp', SimpleImputer(strategy='most_frequent')),\n",
    "        ('enc', OneHotEncoder(handle_unknown='error')),                   \n",
    "])\n",
    "numeric_transformer = SimpleImputer(strategy='median')\n",
    "preprocessor = ColumnTransformer(\n",
    "    transformers=[\n",
    "        ('cat', categorical_transformer, categorical_features),\n",
    "        ('num', numeric_transformer, numeric_features)\n",
    "    ],\n",
    "    remainder='drop'\n",
    ")\n",
    "\n",
    "preprocessor.fit(df)\n",
    "\n",
    "ohe_column_names = preprocessor \\\n",
    "    .named_transformers_['cat'] \\\n",
    "    .named_steps['enc'] \\\n",
    "    .get_feature_names(categorical_features)\n",
    "\n",
    "recovered_feat_names = \\\n",
    "    list(ohe_column_names) + \\\n",
    "    list(numeric_features)\n",
    "\n",
    "X_data = preprocessor.transform(df)\n",
    "y_data = df['Survived']\n",
    "\n",
    "\n",
    "X_train, X_test, y_train, y_test = train_test_split(\n",
    "    X_data, y_data, \n",
    "    train_size=TRAIN_RATIO, \n",
    "    random_state=RANDOM_STATE,\n",
    "    stratify=y_data\n",
    ")\n",
    "\n",
    "tree = DecisionTreeClassifier(random_state=RANDOM_STATE)\n",
    "tree.fit(X_train, y_train)"
   ]
  },
  {
   "cell_type": "code",
   "execution_count": 17,
   "metadata": {},
   "outputs": [
    {
     "name": "stdout",
     "output_type": "stream",
     "text": [
      "Model = DecisionTreeClassifier; F1 = 0.725925925925926\n",
      "Feature: Sex_female | 0.3166378392171992\n",
      "Feature: Sex_male | 0.0\n",
      "Feature: isAlone_0 | 0.0\n",
      "Feature: isAlone_1 | 0.004900776790641969\n",
      "Feature: Pclass | 0.10833687645334286\n",
      "Feature: Age | 0.24118454373986625\n",
      "Feature: Fare | 0.25688603932394505\n",
      "Feature: SibSp | 0.01592466590610784\n",
      "Feature: Parch | 0.005747064529563154\n",
      "Feature: FamilySize | 0.05038219403933371\n"
     ]
    },
    {
     "data": {
      "image/png": "[encoded data removed]",
      "text/plain": [
       "<Figure size 432x288 with 1 Axes>"
      ]
     },
     "metadata": {
      "needs_background": "light"
     },
     "output_type": "display_data"
    }
   ],
   "source": [
    "getF1results(X_test, y_test, tree)\n",
    "show_importance(tree, recovered_feat_names, X_train)"
   ]
  },
  {
   "cell_type": "markdown",
   "metadata": {},
   "source": [
    "Как видно, наиболее важным признакми являются пол, стоимость билета, возраст, класс обслуживания, размер семьи. Добавим группировку признаков `age` и `fare`:"
   ]
  },
  {
   "cell_type": "code",
   "execution_count": 18,
   "metadata": {},
   "outputs": [
    {
     "data": {
      "text/plain": [
       "DecisionTreeClassifier(random_state=42)"
      ]
     },
     "execution_count": 18,
     "metadata": {},
     "output_type": "execute_result"
    }
   ],
   "source": [
    "df = src_df\n",
    "df['FamilySize'] = df['Parch'] + df['SibSp'] + 1\n",
    "isAlone=list();\n",
    "for size in df['FamilySize']:\n",
    "    if size==1: isAlone.append(1);\n",
    "    else: isAlone.append(0);\n",
    "df['isAlone'] = isAlone\n",
    "categorical_features = ['Sex']\n",
    "numeric_features = ['Pclass','Age', 'Fare', 'FamilySize']\n",
    "categorical_transformer = Pipeline(\n",
    "    steps=[\n",
    "        ('imp', SimpleImputer(strategy='most_frequent')),\n",
    "        ('enc', OneHotEncoder(handle_unknown='error')),                   \n",
    "])\n",
    "numeric_transformer = SimpleImputer(strategy='median')\n",
    "preprocessor = ColumnTransformer(\n",
    "    transformers=[\n",
    "        ('cat', categorical_transformer, categorical_features),\n",
    "        ('num', numeric_transformer, numeric_features)\n",
    "    ],\n",
    "    remainder='drop'\n",
    ")\n",
    "\n",
    "preprocessor.fit(df)\n",
    "\n",
    "ohe_column_names = preprocessor \\\n",
    "    .named_transformers_['cat'] \\\n",
    "    .named_steps['enc'] \\\n",
    "    .get_feature_names(categorical_features)\n",
    "\n",
    "recovered_feat_names = \\\n",
    "    list(ohe_column_names) + \\\n",
    "    list(numeric_features)\n",
    "\n",
    "X_data = preprocessor.transform(df)\n",
    "y_data = df['Survived']\n",
    "\n",
    "from sklearn.preprocessing import KBinsDiscretizer\n",
    "\n",
    "df_enc = pd.DataFrame(X_data, columns=recovered_feat_names)\n",
    "discr1 = KBinsDiscretizer(\n",
    "    n_bins=10,\n",
    "    encode='ordinal',\n",
    ")\n",
    "\n",
    "df_enc['Fare'] = discr1.fit_transform(df_enc[['Fare']])\n",
    "discr2 = KBinsDiscretizer(\n",
    "    n_bins=10,\n",
    "    encode='ordinal',\n",
    ")\n",
    "\n",
    "df_enc['Age'] = discr2.fit_transform(df_enc[['Age']])\n",
    "\n",
    "y_data = df['Survived']\n",
    "X_data=df_enc[df_enc.columns]\n",
    "\n",
    "X_train, X_test, y_train, y_test = train_test_split(\n",
    "    X_data, y_data, \n",
    "    train_size=TRAIN_RATIO, \n",
    "    random_state=RANDOM_STATE,\n",
    "    stratify=y_data\n",
    ")\n",
    "\n",
    "ohe_column_names = preprocessor \\\n",
    "    .named_transformers_['cat'] \\\n",
    "    .named_steps['enc'] \\\n",
    "    .get_feature_names(categorical_features)\n",
    "\n",
    "recovered_feat_names = \\\n",
    "    list(ohe_column_names) + \\\n",
    "    list(numeric_features)\n",
    "\n",
    "tree = DecisionTreeClassifier(random_state=RANDOM_STATE)\n",
    "tree.fit(X_train, y_train)"
   ]
  },
  {
   "cell_type": "code",
   "execution_count": 19,
   "metadata": {},
   "outputs": [
    {
     "name": "stdout",
     "output_type": "stream",
     "text": [
      "Model = DecisionTreeClassifier; F1 = 0.7142857142857143\n",
      "Feature: Sex_female | 0.41584552310669815\n",
      "Feature: Sex_male | 0.0\n",
      "Feature: Pclass | 0.1465900744734563\n",
      "Feature: Age | 0.15416500121634893\n",
      "Feature: Fare | 0.14526320187757474\n",
      "Feature: FamilySize | 0.13813619932592178\n"
     ]
    },
    {
     "data": {
      "image/png": "[encoded data removed]",
      "text/plain": [
       "<Figure size 432x288 with 1 Axes>"
      ]
     },
     "metadata": {
      "needs_background": "light"
     },
     "output_type": "display_data"
    }
   ],
   "source": [
    "getF1results(X_test, y_test, tree)\n",
    "show_importance(tree, recovered_feat_names, X_train)"
   ]
  },
  {
   "cell_type": "markdown",
   "metadata": {},
   "source": [
    "# По подготовленным данным обучим модель леса `RandomForesterClassifier`"
   ]
  },
  {
   "cell_type": "code",
   "execution_count": 20,
   "metadata": {},
   "outputs": [
    {
     "name": "stdout",
     "output_type": "stream",
     "text": [
      "Model = RandomForestClassifier; F1 = 0.7384615384615385\n",
      "Feature: Sex_female | 0.19526498499636158\n",
      "Feature: Sex_male | 0.16957701480579643\n",
      "Feature: Pclass | 0.1154553720482841\n",
      "Feature: Age | 0.1943857920741551\n",
      "Feature: Fare | 0.1987801894316111\n",
      "Feature: FamilySize | 0.12653664664379172\n"
     ]
    },
    {
     "data": {
      "image/png": "[encoded data removed]",
      "text/plain": [
       "<Figure size 432x288 with 1 Axes>"
      ]
     },
     "metadata": {
      "needs_background": "light"
     },
     "output_type": "display_data"
    }
   ],
   "source": [
    "from sklearn.ensemble import RandomForestClassifier\n",
    "\n",
    "rf_clf = RandomForestClassifier()\n",
    "rf_clf.fit(X_train, y_train)\n",
    "getF1results(X_test, y_test, rf_clf)\n",
    "show_importance(rf_clf, recovered_feat_names, X_train)"
   ]
  },
  {
   "cell_type": "markdown",
   "metadata": {},
   "source": [
    "Модель случайного леса на подготовленных данных показывает лучшее значение метрики F1."
   ]
  },
  {
   "cell_type": "code",
   "execution_count": 21,
   "metadata": {},
   "outputs": [
    {
     "data": {
      "text/html": [
       "<div>\n",
       "<style scoped>\n",
       "    .dataframe tbody tr th:only-of-type {\n",
       "        vertical-align: middle;\n",
       "    }\n",
       "\n",
       "    .dataframe tbody tr th {\n",
       "        vertical-align: top;\n",
       "    }\n",
       "\n",
       "    .dataframe thead th {\n",
       "        text-align: right;\n",
       "    }\n",
       "</style>\n",
       "<table border=\"1\" class=\"dataframe\">\n",
       "  <thead>\n",
       "    <tr style=\"text-align: right;\">\n",
       "      <th></th>\n",
       "      <th>Param</th>\n",
       "      <th>F1-score</th>\n",
       "    </tr>\n",
       "  </thead>\n",
       "  <tbody>\n",
       "    <tr>\n",
       "      <th>0</th>\n",
       "      <td>max_depth = 1 &amp; n_estimators = 1</td>\n",
       "      <td>0.745942</td>\n",
       "    </tr>\n",
       "    <tr>\n",
       "      <th>1</th>\n",
       "      <td>max_depth = 1 &amp; n_estimators = 21</td>\n",
       "      <td>0.772913</td>\n",
       "    </tr>\n",
       "    <tr>\n",
       "      <th>2</th>\n",
       "      <td>max_depth = 1 &amp; n_estimators = 41</td>\n",
       "      <td>0.767724</td>\n",
       "    </tr>\n",
       "    <tr>\n",
       "      <th>3</th>\n",
       "      <td>max_depth = 1 &amp; n_estimators = 61</td>\n",
       "      <td>0.772913</td>\n",
       "    </tr>\n",
       "    <tr>\n",
       "      <th>4</th>\n",
       "      <td>max_depth = 1 &amp; n_estimators = 81</td>\n",
       "      <td>0.772913</td>\n",
       "    </tr>\n",
       "    <tr>\n",
       "      <th>5</th>\n",
       "      <td>max_depth = 6 &amp; n_estimators = 1</td>\n",
       "      <td>0.796311</td>\n",
       "    </tr>\n",
       "    <tr>\n",
       "      <th>6</th>\n",
       "      <td>max_depth = 6 &amp; n_estimators = 21</td>\n",
       "      <td>0.806211</td>\n",
       "    </tr>\n",
       "    <tr>\n",
       "      <th>7</th>\n",
       "      <td>max_depth = 6 &amp; n_estimators = 41</td>\n",
       "      <td>0.809962</td>\n",
       "    </tr>\n",
       "    <tr>\n",
       "      <th>8</th>\n",
       "      <td>max_depth = 6 &amp; n_estimators = 61</td>\n",
       "      <td>0.799232</td>\n",
       "    </tr>\n",
       "    <tr>\n",
       "      <th>9</th>\n",
       "      <td>max_depth = 6 &amp; n_estimators = 81</td>\n",
       "      <td>0.806135</td>\n",
       "    </tr>\n",
       "    <tr>\n",
       "      <th>10</th>\n",
       "      <td>max_depth = 11 &amp; n_estimators = 1</td>\n",
       "      <td>0.764773</td>\n",
       "    </tr>\n",
       "    <tr>\n",
       "      <th>11</th>\n",
       "      <td>max_depth = 11 &amp; n_estimators = 21</td>\n",
       "      <td>0.804506</td>\n",
       "    </tr>\n",
       "    <tr>\n",
       "      <th>12</th>\n",
       "      <td>max_depth = 11 &amp; n_estimators = 41</td>\n",
       "      <td>0.792793</td>\n",
       "    </tr>\n",
       "    <tr>\n",
       "      <th>13</th>\n",
       "      <td>max_depth = 11 &amp; n_estimators = 61</td>\n",
       "      <td>0.809976</td>\n",
       "    </tr>\n",
       "    <tr>\n",
       "      <th>14</th>\n",
       "      <td>max_depth = 11 &amp; n_estimators = 81</td>\n",
       "      <td>0.795412</td>\n",
       "    </tr>\n",
       "    <tr>\n",
       "      <th>15</th>\n",
       "      <td>max_depth = 16 &amp; n_estimators = 1</td>\n",
       "      <td>0.757820</td>\n",
       "    </tr>\n",
       "    <tr>\n",
       "      <th>16</th>\n",
       "      <td>max_depth = 16 &amp; n_estimators = 21</td>\n",
       "      <td>0.805217</td>\n",
       "    </tr>\n",
       "    <tr>\n",
       "      <th>17</th>\n",
       "      <td>max_depth = 16 &amp; n_estimators = 41</td>\n",
       "      <td>0.797534</td>\n",
       "    </tr>\n",
       "    <tr>\n",
       "      <th>18</th>\n",
       "      <td>max_depth = 16 &amp; n_estimators = 61</td>\n",
       "      <td>0.794187</td>\n",
       "    </tr>\n",
       "    <tr>\n",
       "      <th>19</th>\n",
       "      <td>max_depth = 16 &amp; n_estimators = 81</td>\n",
       "      <td>0.797810</td>\n",
       "    </tr>\n",
       "    <tr>\n",
       "      <th>20</th>\n",
       "      <td>max_depth = 21 &amp; n_estimators = 1</td>\n",
       "      <td>0.760901</td>\n",
       "    </tr>\n",
       "    <tr>\n",
       "      <th>21</th>\n",
       "      <td>max_depth = 21 &amp; n_estimators = 21</td>\n",
       "      <td>0.785658</td>\n",
       "    </tr>\n",
       "    <tr>\n",
       "      <th>22</th>\n",
       "      <td>max_depth = 21 &amp; n_estimators = 41</td>\n",
       "      <td>0.787741</td>\n",
       "    </tr>\n",
       "    <tr>\n",
       "      <th>23</th>\n",
       "      <td>max_depth = 21 &amp; n_estimators = 61</td>\n",
       "      <td>0.798229</td>\n",
       "    </tr>\n",
       "    <tr>\n",
       "      <th>24</th>\n",
       "      <td>max_depth = 21 &amp; n_estimators = 81</td>\n",
       "      <td>0.786636</td>\n",
       "    </tr>\n",
       "  </tbody>\n",
       "</table>\n",
       "</div>"
      ],
      "text/plain": [
       "                                 Param  F1-score\n",
       "0     max_depth = 1 & n_estimators = 1  0.745942\n",
       "1    max_depth = 1 & n_estimators = 21  0.772913\n",
       "2    max_depth = 1 & n_estimators = 41  0.767724\n",
       "3    max_depth = 1 & n_estimators = 61  0.772913\n",
       "4    max_depth = 1 & n_estimators = 81  0.772913\n",
       "5     max_depth = 6 & n_estimators = 1  0.796311\n",
       "6    max_depth = 6 & n_estimators = 21  0.806211\n",
       "7    max_depth = 6 & n_estimators = 41  0.809962\n",
       "8    max_depth = 6 & n_estimators = 61  0.799232\n",
       "9    max_depth = 6 & n_estimators = 81  0.806135\n",
       "10   max_depth = 11 & n_estimators = 1  0.764773\n",
       "11  max_depth = 11 & n_estimators = 21  0.804506\n",
       "12  max_depth = 11 & n_estimators = 41  0.792793\n",
       "13  max_depth = 11 & n_estimators = 61  0.809976\n",
       "14  max_depth = 11 & n_estimators = 81  0.795412\n",
       "15   max_depth = 16 & n_estimators = 1  0.757820\n",
       "16  max_depth = 16 & n_estimators = 21  0.805217\n",
       "17  max_depth = 16 & n_estimators = 41  0.797534\n",
       "18  max_depth = 16 & n_estimators = 61  0.794187\n",
       "19  max_depth = 16 & n_estimators = 81  0.797810\n",
       "20   max_depth = 21 & n_estimators = 1  0.760901\n",
       "21  max_depth = 21 & n_estimators = 21  0.785658\n",
       "22  max_depth = 21 & n_estimators = 41  0.787741\n",
       "23  max_depth = 21 & n_estimators = 61  0.798229\n",
       "24  max_depth = 21 & n_estimators = 81  0.786636"
      ]
     },
     "execution_count": 21,
     "metadata": {},
     "output_type": "execute_result"
    }
   ],
   "source": [
    "f1_dataframe = pd.DataFrame(columns=['Param', 'F1-score'])\n",
    "max_depth = range(1, 25, 5)\n",
    "n_estimators = range(1, 100, 20)\n",
    "for depth in max_depth:\n",
    "    for est in n_estimators:\n",
    "        rf_clf = RandomForestClassifier(max_depth=depth, n_estimators = est)\n",
    "        rf_clf.fit(X_train, y_train)\n",
    "        scores = getCrossValResults(X_train, y_train, rf_clf)\n",
    "        f1_dataframe = f1_dataframe.append({'Param': f'max_depth = {depth} & n_estimators = {est}',\n",
    "                                            'F1-score': scores.mean()}, ignore_index = True)\n",
    "f1_dataframe"
   ]
  },
  {
   "cell_type": "markdown",
   "metadata": {},
   "source": [
    "Наилучшие показатели метрики обеспечиваются при `max_depth` = 6 и `n_estimators` = 61. Определим наилучшие параметры с использование `GridSearchCV`:"
   ]
  },
  {
   "cell_type": "code",
   "execution_count": 22,
   "metadata": {},
   "outputs": [
    {
     "data": {
      "text/plain": [
       "GridSearchCV(cv=5, estimator=RandomForestClassifier(),\n",
       "             param_grid={'criterion': ['gini', 'entropy'],\n",
       "                         'max_depth': range(1, 20),\n",
       "                         'n_estimators': range(1, 100, 5)},\n",
       "             scoring='f1_macro')"
      ]
     },
     "execution_count": 22,
     "metadata": {},
     "output_type": "execute_result"
    }
   ],
   "source": [
    "from sklearn.model_selection import GridSearchCV\n",
    "rf_clf = RandomForestClassifier( )\n",
    "parameters = {\n",
    "    'max_depth': range(1, 20, 1),\n",
    "    'n_estimators': range(1, 100, 5),\n",
    "    'criterion': ['gini','entropy'],\n",
    "}\n",
    "\n",
    "grid_search = GridSearchCV(\n",
    "    estimator=rf_clf,                   \n",
    "    param_grid=parameters,              \n",
    "    cv=5,                               \n",
    "    scoring='f1_macro',   \n",
    ")\n",
    "\n",
    "grid_search.fit(X_train, y_train)"
   ]
  },
  {
   "cell_type": "code",
   "execution_count": 23,
   "metadata": {},
   "outputs": [
    {
     "name": "stdout",
     "output_type": "stream",
     "text": [
      "{'criterion': 'entropy', 'max_depth': 8, 'n_estimators': 81}\n",
      "0.8244165030200268\n"
     ]
    }
   ],
   "source": [
    "print(grid_search.best_params_)\n",
    "print(grid_search.best_score_)"
   ]
  },
  {
   "cell_type": "markdown",
   "metadata": {},
   "source": [
    "`GridSearchCV` определил параметры `max_depth` = 7; `n_estimators` = 36, что обеспечилов лучшую метреку `F1`, чем при определении с использованием кросс - валидации"
   ]
  },
  {
   "cell_type": "markdown",
   "metadata": {},
   "source": [
    "Определим наилучшие параметры с использование `RandomizedSearchCV`:"
   ]
  },
  {
   "cell_type": "code",
   "execution_count": 24,
   "metadata": {},
   "outputs": [
    {
     "data": {
      "text/plain": [
       "RandomizedSearchCV(cv=5, estimator=RandomForestClassifier(),\n",
       "                   param_distributions={'criterion': ['gini', 'entropy'],\n",
       "                                        'max_depth': range(1, 20),\n",
       "                                        'n_estimators': range(1, 100, 5)},\n",
       "                   scoring='f1_macro')"
      ]
     },
     "execution_count": 24,
     "metadata": {},
     "output_type": "execute_result"
    }
   ],
   "source": [
    "from sklearn.model_selection import RandomizedSearchCV\n",
    "rf_clf = RandomForestClassifier( )\n",
    "parameters = {\n",
    "    'max_depth': range(1, 20, 1),\n",
    "    'n_estimators': range(1, 100, 5),\n",
    "    'criterion': ['gini','entropy'],\n",
    "}\n",
    "\n",
    "rand_search = RandomizedSearchCV(\n",
    "    estimator=rf_clf,                   \n",
    "    param_distributions=parameters,              \n",
    "    cv=5,                               \n",
    "    scoring='f1_macro',   \n",
    ")\n",
    "\n",
    "rand_search.fit(X_train, y_train)"
   ]
  },
  {
   "cell_type": "code",
   "execution_count": 25,
   "metadata": {},
   "outputs": [
    {
     "name": "stdout",
     "output_type": "stream",
     "text": [
      "{'n_estimators': 41, 'max_depth': 7, 'criterion': 'entropy'}\n",
      "0.8183283635218757\n"
     ]
    }
   ],
   "source": [
    "print(rand_search.best_params_)\n",
    "print(rand_search.best_score_)"
   ]
  },
  {
   "cell_type": "markdown",
   "metadata": {},
   "source": [
    "`RandomizedSearchCV` определил параметры `max_depth` = 9; `n_estimators` = 96, что обеспечивает несколько худшие показатели `F1`, чем в прыдущем пункте"
   ]
  },
  {
   "cell_type": "code",
   "execution_count": 26,
   "metadata": {},
   "outputs": [
    {
     "name": "stdout",
     "output_type": "stream",
     "text": [
      "Model = RandomForestClassifier; F1 = 0.7441860465116279\n",
      "Model = DecisionTreeClassifier; F1 = 0.6991869918699186\n"
     ]
    }
   ],
   "source": [
    "rf_clf = RandomForestClassifier(max_depth = 7, n_estimators = 36, criterion = 'entropy')\n",
    "rf_clf.fit(X_train, y_train)\n",
    "getF1results(X_test, y_test, rf_clf)\n",
    "tree = DecisionTreeClassifier(max_depth = 9, criterion = 'gini')\n",
    "tree.fit(X_train, y_train)\n",
    "getF1results(X_test, y_test, tree)"
   ]
  },
  {
   "cell_type": "markdown",
   "metadata": {},
   "source": [
    "На тестовой выборке `RandomForestClassifier` показывает лучшие показатели метрики `F1`"
   ]
  },
  {
   "cell_type": "markdown",
   "metadata": {},
   "source": [
    "# Примените подход Recursive Feature Elimination на лучшую модель случайного леса."
   ]
  },
  {
   "cell_type": "markdown",
   "metadata": {},
   "source": [
    "Восстановим исходный набор данных с добавлением дополнительных признаков:"
   ]
  },
  {
   "cell_type": "code",
   "execution_count": 27,
   "metadata": {},
   "outputs": [],
   "source": [
    "from sklearn.impute import SimpleImputer\n",
    "from sklearn.pipeline import Pipeline\n",
    "from sklearn.compose import ColumnTransformer\n",
    "from sklearn.preprocessing import OneHotEncoder\n",
    "\n",
    "df = src_df\n",
    "df['FamilySize'] = df['Parch'] + df['SibSp'] + 1\n",
    "isAlone=list();\n",
    "for size in df['FamilySize']:\n",
    "    if size==1: isAlone.append(1);\n",
    "    else: isAlone.append(0);\n",
    "df['isAlone'] = isAlone\n",
    "categorical_features = ['Sex', 'Embarked', 'isAlone']\n",
    "numeric_features = ['Pclass','Age', 'Fare','SibSp','Parch', 'FamilySize']\n",
    "categorical_transformer = Pipeline(\n",
    "    steps=[\n",
    "        ('imp', SimpleImputer(strategy='most_frequent')),\n",
    "        ('enc', OneHotEncoder(handle_unknown='error')),                   \n",
    "])\n",
    "numeric_transformer = SimpleImputer(strategy='median')\n",
    "preprocessor = ColumnTransformer(\n",
    "    transformers=[\n",
    "        ('cat', categorical_transformer, categorical_features),\n",
    "        ('num', numeric_transformer, numeric_features)\n",
    "    ],\n",
    "    remainder='drop'\n",
    ")\n",
    "\n",
    "preprocessor.fit(df)\n",
    "\n",
    "X_data = preprocessor.transform(df)"
   ]
  },
  {
   "cell_type": "code",
   "execution_count": 28,
   "metadata": {},
   "outputs": [
    {
     "name": "stdout",
     "output_type": "stream",
     "text": [
      "['Sex_female' 'Sex_male' 'Pclass' 'Age' 'Fare']\n",
      "['Sex_female' 'Sex_male' 'Pclass' 'Age' 'Fare' 'SibSp' 'FamilySize']\n",
      "['Sex_female', 'Sex_male', 'Embarked_C', 'Embarked_Q', 'Embarked_S', 'isAlone_0', 'isAlone_1', 'Pclass', 'Age', 'Fare', 'SibSp', 'Parch', 'FamilySize']\n"
     ]
    }
   ],
   "source": [
    "from sklearn.datasets import make_friedman1\n",
    "from sklearn.feature_selection import RFE\n",
    "estimator = RandomForestClassifier(max_depth = 7, n_estimators = 36, criterion = 'entropy')\n",
    "selector = RFE(estimator=estimator,n_features_to_select=7, step=1)\n",
    "selector = selector.fit(X_data, y_data)\n",
    "top7=selector.support_\n",
    "selector = RFE(estimator=estimator,n_features_to_select=5, step=1)\n",
    "selector = selector.fit(X_data, y_data)\n",
    "top5=selector.support_\n",
    "ohe_column_names = preprocessor \\\n",
    "    .named_transformers_['cat'] \\\n",
    "    .named_steps['enc'] \\\n",
    "    .get_feature_names(categorical_features)\n",
    "recovered_feat_names = \\\n",
    "    list(ohe_column_names) + \\\n",
    "    list(numeric_features)\n",
    "print(np.array(recovered_feat_names)[top5])\n",
    "print(np.array(recovered_feat_names)[top7])\n",
    "print(recovered_feat_names)"
   ]
  },
  {
   "cell_type": "markdown",
   "metadata": {},
   "source": [
    "Выше представленны лучшие признаки полученные с использованием `RFE` (1 строка - 5 признаков, 2 строка - 7 признаков, 3 строка - все признаки)"
   ]
  },
  {
   "cell_type": "markdown",
   "metadata": {},
   "source": [
    "Построим ROC - кривые моделей:"
   ]
  },
  {
   "cell_type": "code",
   "execution_count": 29,
   "metadata": {},
   "outputs": [
    {
     "data": {
      "image/png": "[encoded data removed]",
      "text/plain": [
       "<Figure size 1080x288 with 3 Axes>"
      ]
     },
     "metadata": {
      "needs_background": "light"
     },
     "output_type": "display_data"
    }
   ],
   "source": [
    "TRAIN_RATIO = 0.7\n",
    "X_train, X_test, y_train, y_test = train_test_split(\n",
    "    X_data, y_data, \n",
    "    train_size=TRAIN_RATIO, \n",
    "    random_state=RANDOM_STATE,\n",
    "    stratify=y_data\n",
    ")\n",
    "X_test7=X_test[:,top7]\n",
    "X_test5=X_test[:,top5]\n",
    "X_train7=X_train[:,top7]\n",
    "X_train5=X_train[:,top5]\n",
    "\n",
    "from sklearn.metrics import roc_curve\n",
    "from sklearn.metrics import roc_auc_score\n",
    "\n",
    "diag_values = np.array([\n",
    "        [0, 0],\n",
    "        [1, 1],\n",
    "    ])\n",
    "\n",
    "rf_clf=RandomForestClassifier()\n",
    "rf_clf.fit(X_train,y_train)\n",
    "y_pred_proba = rf_clf.predict_proba(X_test)\n",
    "\n",
    "fig, axes = plt.subplots(nrows=1, ncols=3, figsize=(15,4))\n",
    "plt.subplot(131)\n",
    "\n",
    "for i in range (2):\n",
    "    fpr, tpr, thresholds = roc_curve(y_test, y_pred_proba[:,i],pos_label=i)\n",
    "    plt.plot(fpr, tpr)\n",
    "    plt.plot(diag_values[:,0], diag_values[:,1], 'b--')\n",
    "    plt.xlabel('FPR')\n",
    "    plt.ylabel('TPR')\n",
    "    plt.grid(True)\n",
    "    \n",
    "rf_clf=RandomForestClassifier()\n",
    "rf_clf.fit(X_train7,y_train)\n",
    "\n",
    "y_pred_proba = rf_clf.predict_proba(X_test7)\n",
    "plt.subplot(132)\n",
    "\n",
    "for i in range (2):\n",
    "    fpr, tpr, thresholds = roc_curve(y_test, y_pred_proba[:,i],pos_label=i)\n",
    "    plt.plot(fpr, tpr)\n",
    "    plt.plot(diag_values[:,0], diag_values[:,1], 'b--')\n",
    "    plt.xlabel('FPR')\n",
    "    plt.ylabel('TPR')\n",
    "    plt.grid(True)\n",
    "    \n",
    "rf_clf=RandomForestClassifier()\n",
    "rf_clf.fit(X_train5,y_train)\n",
    "\n",
    "y_pred_proba = rf_clf.predict_proba(X_test5)\n",
    "plt.subplot(133)\n",
    "\n",
    "for i in range (2):\n",
    "    fpr, tpr, thresholds = roc_curve(y_test, y_pred_proba[:,i],pos_label=i)\n",
    "    plt.plot(fpr, tpr)\n",
    "    plt.plot(diag_values[:,0], diag_values[:,1], 'b--')\n",
    "    plt.xlabel('FPR')\n",
    "    plt.ylabel('TPR')\n",
    "    plt.grid(True)\n",
    "    \n",
    "fig.tight_layout()"
   ]
  },
  {
   "cell_type": "markdown",
   "metadata": {},
   "source": [
    "Вывод: при выполнении лабораторной работы был проведен базовый анализ данных, а также влияние параметров на модели `DecisionTreeClassifier`, `RandomForestClassifier`. Также была проведена работа с признаками данных, добавлены новые признаки, оценено влияние аргументов моделей на итоговую точность. Найдены оптимальные параметры моделей через использоввание `GridSearchCV` и `RandomizedSearchCV`"
   ]
  }
 ],
 "metadata": {
  "kernelspec": {
   "display_name": "Python 3",
   "language": "python",
   "name": "python3"
  },
  "language_info": {
   "codemirror_mode": {
    "name": "ipython",
    "version": 3
   },
   "file_extension": ".py",
   "mimetype": "text/x-python",
   "name": "python",
   "nbconvert_exporter": "python",
   "pygments_lexer": "ipython3",
   "version": "3.8.3"
  }
 },
 "nbformat": 4,
 "nbformat_minor": 4
}
