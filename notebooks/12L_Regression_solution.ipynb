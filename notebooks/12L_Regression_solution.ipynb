{
 "cells": [
  {
   "cell_type": "markdown",
   "metadata": {},
   "source": [
    "Импорт используемых библиотек:"
   ]
  },
  {
   "cell_type": "code",
   "execution_count": 1,
   "metadata": {},
   "outputs": [],
   "source": [
    "import matplotlib\n",
    "import seaborn as sns\n",
    "import matplotlib.pyplot as plt\n",
    "import numpy as np\n",
    "import pandas as pd"
   ]
  },
  {
   "cell_type": "markdown",
   "metadata": {},
   "source": [
    "Инициализация настроек ноутбука:"
   ]
  },
  {
   "cell_type": "code",
   "execution_count": 2,
   "metadata": {},
   "outputs": [],
   "source": [
    "import warnings\n",
    "warnings.filterwarnings('ignore')\n",
    "\n",
    "TEXT_COLOR = 'black'\n",
    "matplotlib.rcParams['text.color'] = 'black'\n",
    "matplotlib.rcParams['font.size'] = 14\n",
    "matplotlib.rcParams['axes.labelcolor'] = TEXT_COLOR\n",
    "matplotlib.rcParams['xtick.color'] = TEXT_COLOR\n",
    "matplotlib.rcParams['ytick.color'] = TEXT_COLOR\n",
    "\n",
    "# Зафиксируем состояние случайных чисел\n",
    "RANDOM_STATE = 42\n",
    "np.random.seed(RANDOM_STATE)"
   ]
  },
  {
   "cell_type": "markdown",
   "metadata": {},
   "source": [
    "# Базовая подготовка данных"
   ]
  },
  {
   "cell_type": "markdown",
   "metadata": {},
   "source": [
    "Загрузка датасета Boston House-Price, представленного в библиотеке sckit-learn:"
   ]
  },
  {
   "cell_type": "code",
   "execution_count": 3,
   "metadata": {},
   "outputs": [
    {
     "name": "stdout",
     "output_type": "stream",
     "text": [
      ".. _boston_dataset:\n",
      "\n",
      "Boston house prices dataset\n",
      "---------------------------\n",
      "\n",
      "**Data Set Characteristics:**  \n",
      "\n",
      "    :Number of Instances: 506 \n",
      "\n",
      "    :Number of Attributes: 13 numeric/categorical predictive. Median Value (attribute 14) is usually the target.\n",
      "\n",
      "    :Attribute Information (in order):\n",
      "        - CRIM     per capita crime rate by town\n",
      "        - ZN       proportion of residential land zoned for lots over 25,000 sq.ft.\n",
      "        - INDUS    proportion of non-retail business acres per town\n",
      "        - CHAS     Charles River dummy variable (= 1 if tract bounds river; 0 otherwise)\n",
      "        - NOX      nitric oxides concentration (parts per 10 million)\n",
      "        - RM       average number of rooms per dwelling\n",
      "        - AGE      proportion of owner-occupied units built prior to 1940\n",
      "        - DIS      weighted distances to five Boston employment centres\n",
      "        - RAD      index of accessibility to radial highways\n",
      "        - TAX      full-value property-tax rate per $10,000\n",
      "        - PTRATIO  pupil-teacher ratio by town\n",
      "        - B        1000(Bk - 0.63)^2 where Bk is the proportion of blacks by town\n",
      "        - LSTAT    % lower status of the population\n",
      "        - MEDV     Median value of owner-occupied homes in $1000's\n",
      "\n",
      "    :Missing Attribute Values: None\n",
      "\n",
      "    :Creator: Harrison, D. and Rubinfeld, D.L.\n",
      "\n",
      "This is a copy of UCI ML housing dataset.\n",
      "https://archive.ics.uci.edu/ml/machine-learning-databases/housing/\n",
      "\n",
      "\n",
      "This dataset was taken from the StatLib library which is maintained at Carnegie Mellon University.\n",
      "\n",
      "The Boston house-price data of Harrison, D. and Rubinfeld, D.L. 'Hedonic\n",
      "prices and the demand for clean air', J. Environ. Economics & Management,\n",
      "vol.5, 81-102, 1978.   Used in Belsley, Kuh & Welsch, 'Regression diagnostics\n",
      "...', Wiley, 1980.   N.B. Various transformations are used in the table on\n",
      "pages 244-261 of the latter.\n",
      "\n",
      "The Boston house-price data has been used in many machine learning papers that address regression\n",
      "problems.   \n",
      "     \n",
      ".. topic:: References\n",
      "\n",
      "   - Belsley, Kuh & Welsch, 'Regression diagnostics: Identifying Influential Data and Sources of Collinearity', Wiley, 1980. 244-261.\n",
      "   - Quinlan,R. (1993). Combining Instance-Based and Model-Based Learning. In Proceedings on the Tenth International Conference of Machine Learning, 236-243, University of Massachusetts, Amherst. Morgan Kaufmann.\n",
      "\n"
     ]
    }
   ],
   "source": [
    "from sklearn.datasets import load_boston\n",
    "\n",
    "#Загрузка датасета из sckit-learn\n",
    "boston_data = load_boston()\n",
    "print(boston_data['DESCR'])"
   ]
  },
  {
   "cell_type": "markdown",
   "metadata": {},
   "source": [
    "Из первоначального описания признаков в датасете можно сделать вывод, что все признаки являются численными, при этом явные неинформативные признаки (ФИО, индексы и пр.) отсутствуют.\n",
    "Для дальнейшего анализа целесообразно преобразовать исходный датасет в формат dataFrame:"
   ]
  },
  {
   "cell_type": "code",
   "execution_count": 4,
   "metadata": {},
   "outputs": [
    {
     "data": {
      "text/html": [
       "<div>\n",
       "<style scoped>\n",
       "    .dataframe tbody tr th:only-of-type {\n",
       "        vertical-align: middle;\n",
       "    }\n",
       "\n",
       "    .dataframe tbody tr th {\n",
       "        vertical-align: top;\n",
       "    }\n",
       "\n",
       "    .dataframe thead th {\n",
       "        text-align: right;\n",
       "    }\n",
       "</style>\n",
       "<table border=\"1\" class=\"dataframe\">\n",
       "  <thead>\n",
       "    <tr style=\"text-align: right;\">\n",
       "      <th></th>\n",
       "      <th>CRIM</th>\n",
       "      <th>ZN</th>\n",
       "      <th>INDUS</th>\n",
       "      <th>CHAS</th>\n",
       "      <th>NOX</th>\n",
       "      <th>RM</th>\n",
       "      <th>AGE</th>\n",
       "      <th>DIS</th>\n",
       "      <th>RAD</th>\n",
       "      <th>TAX</th>\n",
       "      <th>PTRATIO</th>\n",
       "      <th>B</th>\n",
       "      <th>LSTAT</th>\n",
       "      <th>PRICE</th>\n",
       "    </tr>\n",
       "  </thead>\n",
       "  <tbody>\n",
       "    <tr>\n",
       "      <th>0</th>\n",
       "      <td>0.00632</td>\n",
       "      <td>18.0</td>\n",
       "      <td>2.31</td>\n",
       "      <td>0.0</td>\n",
       "      <td>0.538</td>\n",
       "      <td>6.575</td>\n",
       "      <td>65.2</td>\n",
       "      <td>4.0900</td>\n",
       "      <td>1.0</td>\n",
       "      <td>296.0</td>\n",
       "      <td>15.3</td>\n",
       "      <td>396.90</td>\n",
       "      <td>4.98</td>\n",
       "      <td>24.0</td>\n",
       "    </tr>\n",
       "    <tr>\n",
       "      <th>1</th>\n",
       "      <td>0.02731</td>\n",
       "      <td>0.0</td>\n",
       "      <td>7.07</td>\n",
       "      <td>0.0</td>\n",
       "      <td>0.469</td>\n",
       "      <td>6.421</td>\n",
       "      <td>78.9</td>\n",
       "      <td>4.9671</td>\n",
       "      <td>2.0</td>\n",
       "      <td>242.0</td>\n",
       "      <td>17.8</td>\n",
       "      <td>396.90</td>\n",
       "      <td>9.14</td>\n",
       "      <td>21.6</td>\n",
       "    </tr>\n",
       "    <tr>\n",
       "      <th>2</th>\n",
       "      <td>0.02729</td>\n",
       "      <td>0.0</td>\n",
       "      <td>7.07</td>\n",
       "      <td>0.0</td>\n",
       "      <td>0.469</td>\n",
       "      <td>7.185</td>\n",
       "      <td>61.1</td>\n",
       "      <td>4.9671</td>\n",
       "      <td>2.0</td>\n",
       "      <td>242.0</td>\n",
       "      <td>17.8</td>\n",
       "      <td>392.83</td>\n",
       "      <td>4.03</td>\n",
       "      <td>34.7</td>\n",
       "    </tr>\n",
       "    <tr>\n",
       "      <th>3</th>\n",
       "      <td>0.03237</td>\n",
       "      <td>0.0</td>\n",
       "      <td>2.18</td>\n",
       "      <td>0.0</td>\n",
       "      <td>0.458</td>\n",
       "      <td>6.998</td>\n",
       "      <td>45.8</td>\n",
       "      <td>6.0622</td>\n",
       "      <td>3.0</td>\n",
       "      <td>222.0</td>\n",
       "      <td>18.7</td>\n",
       "      <td>394.63</td>\n",
       "      <td>2.94</td>\n",
       "      <td>33.4</td>\n",
       "    </tr>\n",
       "    <tr>\n",
       "      <th>4</th>\n",
       "      <td>0.06905</td>\n",
       "      <td>0.0</td>\n",
       "      <td>2.18</td>\n",
       "      <td>0.0</td>\n",
       "      <td>0.458</td>\n",
       "      <td>7.147</td>\n",
       "      <td>54.2</td>\n",
       "      <td>6.0622</td>\n",
       "      <td>3.0</td>\n",
       "      <td>222.0</td>\n",
       "      <td>18.7</td>\n",
       "      <td>396.90</td>\n",
       "      <td>5.33</td>\n",
       "      <td>36.2</td>\n",
       "    </tr>\n",
       "  </tbody>\n",
       "</table>\n",
       "</div>"
      ],
      "text/plain": [
       "      CRIM    ZN  INDUS  CHAS    NOX     RM   AGE     DIS  RAD    TAX  \\\n",
       "0  0.00632  18.0   2.31   0.0  0.538  6.575  65.2  4.0900  1.0  296.0   \n",
       "1  0.02731   0.0   7.07   0.0  0.469  6.421  78.9  4.9671  2.0  242.0   \n",
       "2  0.02729   0.0   7.07   0.0  0.469  7.185  61.1  4.9671  2.0  242.0   \n",
       "3  0.03237   0.0   2.18   0.0  0.458  6.998  45.8  6.0622  3.0  222.0   \n",
       "4  0.06905   0.0   2.18   0.0  0.458  7.147  54.2  6.0622  3.0  222.0   \n",
       "\n",
       "   PTRATIO       B  LSTAT  PRICE  \n",
       "0     15.3  396.90   4.98   24.0  \n",
       "1     17.8  396.90   9.14   21.6  \n",
       "2     17.8  392.83   4.03   34.7  \n",
       "3     18.7  394.63   2.94   33.4  \n",
       "4     18.7  396.90   5.33   36.2  "
      ]
     },
     "execution_count": 4,
     "metadata": {},
     "output_type": "execute_result"
    }
   ],
   "source": [
    "#Преобразование в dataFrame\n",
    "df = pd.DataFrame(boston_data['data'], columns=boston_data['feature_names'])\n",
    "df['PRICE'] = boston_data['target']\n",
    "df.head()"
   ]
  },
  {
   "cell_type": "markdown",
   "metadata": {},
   "source": [
    "Проверка датасета на наличие \"null\" полей:"
   ]
  },
  {
   "cell_type": "code",
   "execution_count": 5,
   "metadata": {},
   "outputs": [
    {
     "name": "stdout",
     "output_type": "stream",
     "text": [
      "<class 'pandas.core.frame.DataFrame'>\n",
      "RangeIndex: 506 entries, 0 to 505\n",
      "Data columns (total 14 columns):\n",
      " #   Column   Non-Null Count  Dtype  \n",
      "---  ------   --------------  -----  \n",
      " 0   CRIM     506 non-null    float64\n",
      " 1   ZN       506 non-null    float64\n",
      " 2   INDUS    506 non-null    float64\n",
      " 3   CHAS     506 non-null    float64\n",
      " 4   NOX      506 non-null    float64\n",
      " 5   RM       506 non-null    float64\n",
      " 6   AGE      506 non-null    float64\n",
      " 7   DIS      506 non-null    float64\n",
      " 8   RAD      506 non-null    float64\n",
      " 9   TAX      506 non-null    float64\n",
      " 10  PTRATIO  506 non-null    float64\n",
      " 11  B        506 non-null    float64\n",
      " 12  LSTAT    506 non-null    float64\n",
      " 13  PRICE    506 non-null    float64\n",
      "dtypes: float64(14)\n",
      "memory usage: 55.5 KB\n"
     ]
    }
   ],
   "source": [
    "df.info()"
   ]
  },
  {
   "cell_type": "markdown",
   "metadata": {},
   "source": [
    "Как видно выше, данные не имеют null значений в признаках, таким образом попытаемся выделить категориальные признаки путем рассмотрения кол-ва различных значений каждого признака:"
   ]
  },
  {
   "cell_type": "code",
   "execution_count": 6,
   "metadata": {},
   "outputs": [
    {
     "data": {
      "text/plain": [
       "CRIM       504\n",
       "ZN          26\n",
       "INDUS       76\n",
       "CHAS         2\n",
       "NOX         81\n",
       "RM         446\n",
       "AGE        356\n",
       "DIS        412\n",
       "RAD          9\n",
       "TAX         66\n",
       "PTRATIO     46\n",
       "B          357\n",
       "LSTAT      455\n",
       "PRICE      229\n",
       "dtype: int64"
      ]
     },
     "execution_count": 6,
     "metadata": {},
     "output_type": "execute_result"
    }
   ],
   "source": [
    "df.nunique()"
   ]
  },
  {
   "cell_type": "code",
   "execution_count": 7,
   "metadata": {},
   "outputs": [
    {
     "data": {
      "text/plain": [
       "0.0    471\n",
       "1.0     35\n",
       "Name: CHAS, dtype: int64"
      ]
     },
     "execution_count": 7,
     "metadata": {},
     "output_type": "execute_result"
    }
   ],
   "source": [
    "df['CHAS'].value_counts()"
   ]
  },
  {
   "cell_type": "markdown",
   "metadata": {},
   "source": [
    "Признак `CHAS` имеет два значения `1` и `0`, т.е. целесообразно рассматривать данный признак, как категориальный"
   ]
  },
  {
   "cell_type": "code",
   "execution_count": 8,
   "metadata": {},
   "outputs": [],
   "source": [
    "df['CHAS'] = df['CHAS'].astype(int).astype(dtype='category')"
   ]
  },
  {
   "cell_type": "markdown",
   "metadata": {},
   "source": [
    "# Создание baseline модели линейной регрессии"
   ]
  },
  {
   "cell_type": "markdown",
   "metadata": {},
   "source": [
    "Для создания baseline модели разобьем исходную выборку в соотношении 70/30 (обучающая/тестовая):"
   ]
  },
  {
   "cell_type": "code",
   "execution_count": 9,
   "metadata": {},
   "outputs": [],
   "source": [
    "from sklearn.model_selection import train_test_split\n",
    "\n",
    "TRAIN_RATIO = 0.7\n",
    "\n",
    "X = df[boston_data['feature_names']]\n",
    "y = df['PRICE']\n",
    "\n",
    "X_train, X_test, y_train, y_test = train_test_split(X, y, train_size = TRAIN_RATIO, random_state = RANDOM_STATE)"
   ]
  },
  {
   "cell_type": "markdown",
   "metadata": {},
   "source": [
    "Создадим первоначальную модель линейной регрессии и проведем ее обучение:"
   ]
  },
  {
   "cell_type": "code",
   "execution_count": 10,
   "metadata": {},
   "outputs": [
    {
     "data": {
      "text/plain": [
       "LinearRegression()"
      ]
     },
     "execution_count": 10,
     "metadata": {},
     "output_type": "execute_result"
    }
   ],
   "source": [
    "from sklearn.linear_model import LinearRegression\n",
    "\n",
    "reg = LinearRegression()\n",
    "reg.fit(X_train, y_train)"
   ]
  },
  {
   "cell_type": "markdown",
   "metadata": {},
   "source": [
    "Рассмотрим график предсказаний и численные критерии (R2, RMSE, MAE):"
   ]
  },
  {
   "cell_type": "code",
   "execution_count": 11,
   "metadata": {},
   "outputs": [
    {
     "name": "stdout",
     "output_type": "stream",
     "text": [
      "\n",
      "----- Evaluation for train -----\n",
      "  R2: 0.7434997532004697\n",
      "  RMSE: 4.748208239685938\n",
      "  MAE: 3.356826782168201\n",
      "\n",
      "----- Evaluation for test -----\n",
      "  R2: 0.7112260057484903\n",
      "  RMSE: 4.6386899261728445\n",
      "  MAE: 3.162709871457426\n"
     ]
    },
    {
     "data": {
      "image/png": "[encoded data removed]",
      "text/plain": [
       "<Figure size 432x288 with 1 Axes>"
      ]
     },
     "metadata": {
      "needs_background": "light"
     },
     "output_type": "display_data"
    }
   ],
   "source": [
    "from sklearn.metrics import mean_squared_error, mean_absolute_error, r2_score\n",
    "\n",
    "def draw_predictions_plot(y_pred, y_true):\n",
    "    plt.scatter(y_pred, y_true)\n",
    "    line_pnts = np.linspace(np.amin(y_pred)-0.1, np.amax(y_pred)+0.1, 1000)\n",
    "    plt.plot(line_pnts, line_pnts, 'k--', lw=2)\n",
    "    plt.xlabel('Predicted')\n",
    "    plt.ylabel('True')\n",
    "    plt.grid()\n",
    "    \n",
    "def evaluate_regressor(reg, X, y, mode):\n",
    "    y_pred = reg.predict(X)\n",
    "    r2_score_value = r2_score(y, y_pred)\n",
    "    rmse_score = np.sqrt(mean_squared_error(y, y_pred))\n",
    "    mae_score = mean_absolute_error(y, y_pred)\n",
    "\n",
    "    print(f'\\n----- Evaluation for {mode} -----')\n",
    "    print(f'  R2: {r2_score_value}')\n",
    "    print(f'  RMSE: {rmse_score}')\n",
    "    print(f'  MAE: {mae_score}')    \n",
    "\n",
    "y_pred = reg.predict(X_test)\n",
    "draw_predictions_plot(y_pred, y_test)\n",
    "\n",
    "evaluate_regressor(reg, X_train, y_train, 'train')\n",
    "evaluate_regressor(reg, X_test, y_test, 'test')"
   ]
  },
  {
   "cell_type": "markdown",
   "metadata": {},
   "source": [
    "Также оценим распределение ошибок:"
   ]
  },
  {
   "cell_type": "code",
   "execution_count": 12,
   "metadata": {},
   "outputs": [
    {
     "data": {
      "image/png": "[encoded data removed]",
      "text/plain": [
       "<Figure size 432x288 with 1 Axes>"
      ]
     },
     "metadata": {
      "needs_background": "light"
     },
     "output_type": "display_data"
    }
   ],
   "source": [
    "y_residuals = y_pred-y_test\n",
    "sns.distplot(y_residuals, bins=50)\n",
    "plt.grid()"
   ]
  },
  {
   "cell_type": "markdown",
   "metadata": {},
   "source": [
    "Как видно из графика, наблюдается общая распределенность действительных значений вокруг прямой, полученной с использованием baseline модели. Распределение имеет нормальный характер и центр распределения располагается возле 0. Единичные отклонения могут быть обусловлены выбросами данных. Дальнейшие исследование нацелены на улучшения численных показателей R2, RMSE, MAE."
   ]
  },
  {
   "cell_type": "markdown",
   "metadata": {},
   "source": [
    "\n",
    "# Расширенный анализ данных"
   ]
  },
  {
   "cell_type": "markdown",
   "metadata": {},
   "source": [
    "В ходе данного анализа будут проведены следующие исследования:\n",
    "- Оценка корреляции признаков;\n",
    "- Оценка распределения признаков;\n",
    "- Оценка характер зависимости целевой переменной от каждого признака;\n",
    "- Выводы по результатам анализа."
   ]
  },
  {
   "cell_type": "markdown",
   "metadata": {},
   "source": [
    "Рассмотрим корреляцию признаков, приведенных в исходном датасете"
   ]
  },
  {
   "cell_type": "code",
   "execution_count": 13,
   "metadata": {},
   "outputs": [
    {
     "name": "stdout",
     "output_type": "stream",
     "text": [
      "<class 'numpy.ndarray'>\n"
     ]
    },
    {
     "data": {
      "text/html": [
       "<div>\n",
       "<style scoped>\n",
       "    .dataframe tbody tr th:only-of-type {\n",
       "        vertical-align: middle;\n",
       "    }\n",
       "\n",
       "    .dataframe tbody tr th {\n",
       "        vertical-align: top;\n",
       "    }\n",
       "\n",
       "    .dataframe thead th {\n",
       "        text-align: right;\n",
       "    }\n",
       "</style>\n",
       "<table border=\"1\" class=\"dataframe\">\n",
       "  <thead>\n",
       "    <tr style=\"text-align: right;\">\n",
       "      <th></th>\n",
       "      <th>CRIM</th>\n",
       "      <th>ZN</th>\n",
       "      <th>INDUS</th>\n",
       "      <th>NOX</th>\n",
       "      <th>RM</th>\n",
       "      <th>AGE</th>\n",
       "      <th>DIS</th>\n",
       "      <th>RAD</th>\n",
       "      <th>TAX</th>\n",
       "      <th>PTRATIO</th>\n",
       "      <th>B</th>\n",
       "      <th>LSTAT</th>\n",
       "      <th>PRICE</th>\n",
       "    </tr>\n",
       "  </thead>\n",
       "  <tbody>\n",
       "    <tr>\n",
       "      <th>CRIM</th>\n",
       "      <td>1.000000</td>\n",
       "      <td>-0.200469</td>\n",
       "      <td>0.406583</td>\n",
       "      <td>0.420972</td>\n",
       "      <td>-0.219247</td>\n",
       "      <td>0.352734</td>\n",
       "      <td>-0.379670</td>\n",
       "      <td>0.625505</td>\n",
       "      <td>0.582764</td>\n",
       "      <td>0.289946</td>\n",
       "      <td>-0.385064</td>\n",
       "      <td>0.455621</td>\n",
       "      <td>-0.388305</td>\n",
       "    </tr>\n",
       "    <tr>\n",
       "      <th>ZN</th>\n",
       "      <td>-0.200469</td>\n",
       "      <td>1.000000</td>\n",
       "      <td>-0.533828</td>\n",
       "      <td>-0.516604</td>\n",
       "      <td>0.311991</td>\n",
       "      <td>-0.569537</td>\n",
       "      <td>0.664408</td>\n",
       "      <td>-0.311948</td>\n",
       "      <td>-0.314563</td>\n",
       "      <td>-0.391679</td>\n",
       "      <td>0.175520</td>\n",
       "      <td>-0.412995</td>\n",
       "      <td>0.360445</td>\n",
       "    </tr>\n",
       "    <tr>\n",
       "      <th>INDUS</th>\n",
       "      <td>0.406583</td>\n",
       "      <td>-0.533828</td>\n",
       "      <td>1.000000</td>\n",
       "      <td>0.763651</td>\n",
       "      <td>-0.391676</td>\n",
       "      <td>0.644779</td>\n",
       "      <td>-0.708027</td>\n",
       "      <td>0.595129</td>\n",
       "      <td>0.720760</td>\n",
       "      <td>0.383248</td>\n",
       "      <td>-0.356977</td>\n",
       "      <td>0.603800</td>\n",
       "      <td>-0.483725</td>\n",
       "    </tr>\n",
       "    <tr>\n",
       "      <th>NOX</th>\n",
       "      <td>0.420972</td>\n",
       "      <td>-0.516604</td>\n",
       "      <td>0.763651</td>\n",
       "      <td>1.000000</td>\n",
       "      <td>-0.302188</td>\n",
       "      <td>0.731470</td>\n",
       "      <td>-0.769230</td>\n",
       "      <td>0.611441</td>\n",
       "      <td>0.668023</td>\n",
       "      <td>0.188933</td>\n",
       "      <td>-0.380051</td>\n",
       "      <td>0.590879</td>\n",
       "      <td>-0.427321</td>\n",
       "    </tr>\n",
       "    <tr>\n",
       "      <th>RM</th>\n",
       "      <td>-0.219247</td>\n",
       "      <td>0.311991</td>\n",
       "      <td>-0.391676</td>\n",
       "      <td>-0.302188</td>\n",
       "      <td>1.000000</td>\n",
       "      <td>-0.240265</td>\n",
       "      <td>0.205246</td>\n",
       "      <td>-0.209847</td>\n",
       "      <td>-0.292048</td>\n",
       "      <td>-0.355501</td>\n",
       "      <td>0.128069</td>\n",
       "      <td>-0.613808</td>\n",
       "      <td>0.695360</td>\n",
       "    </tr>\n",
       "    <tr>\n",
       "      <th>AGE</th>\n",
       "      <td>0.352734</td>\n",
       "      <td>-0.569537</td>\n",
       "      <td>0.644779</td>\n",
       "      <td>0.731470</td>\n",
       "      <td>-0.240265</td>\n",
       "      <td>1.000000</td>\n",
       "      <td>-0.747881</td>\n",
       "      <td>0.456022</td>\n",
       "      <td>0.506456</td>\n",
       "      <td>0.261515</td>\n",
       "      <td>-0.273534</td>\n",
       "      <td>0.602339</td>\n",
       "      <td>-0.376955</td>\n",
       "    </tr>\n",
       "    <tr>\n",
       "      <th>DIS</th>\n",
       "      <td>-0.379670</td>\n",
       "      <td>0.664408</td>\n",
       "      <td>-0.708027</td>\n",
       "      <td>-0.769230</td>\n",
       "      <td>0.205246</td>\n",
       "      <td>-0.747881</td>\n",
       "      <td>1.000000</td>\n",
       "      <td>-0.494588</td>\n",
       "      <td>-0.534432</td>\n",
       "      <td>-0.232471</td>\n",
       "      <td>0.291512</td>\n",
       "      <td>-0.496996</td>\n",
       "      <td>0.249929</td>\n",
       "    </tr>\n",
       "    <tr>\n",
       "      <th>RAD</th>\n",
       "      <td>0.625505</td>\n",
       "      <td>-0.311948</td>\n",
       "      <td>0.595129</td>\n",
       "      <td>0.611441</td>\n",
       "      <td>-0.209847</td>\n",
       "      <td>0.456022</td>\n",
       "      <td>-0.494588</td>\n",
       "      <td>1.000000</td>\n",
       "      <td>0.910228</td>\n",
       "      <td>0.464741</td>\n",
       "      <td>-0.444413</td>\n",
       "      <td>0.488676</td>\n",
       "      <td>-0.381626</td>\n",
       "    </tr>\n",
       "    <tr>\n",
       "      <th>TAX</th>\n",
       "      <td>0.582764</td>\n",
       "      <td>-0.314563</td>\n",
       "      <td>0.720760</td>\n",
       "      <td>0.668023</td>\n",
       "      <td>-0.292048</td>\n",
       "      <td>0.506456</td>\n",
       "      <td>-0.534432</td>\n",
       "      <td>0.910228</td>\n",
       "      <td>1.000000</td>\n",
       "      <td>0.460853</td>\n",
       "      <td>-0.441808</td>\n",
       "      <td>0.543993</td>\n",
       "      <td>-0.468536</td>\n",
       "    </tr>\n",
       "    <tr>\n",
       "      <th>PTRATIO</th>\n",
       "      <td>0.289946</td>\n",
       "      <td>-0.391679</td>\n",
       "      <td>0.383248</td>\n",
       "      <td>0.188933</td>\n",
       "      <td>-0.355501</td>\n",
       "      <td>0.261515</td>\n",
       "      <td>-0.232471</td>\n",
       "      <td>0.464741</td>\n",
       "      <td>0.460853</td>\n",
       "      <td>1.000000</td>\n",
       "      <td>-0.177383</td>\n",
       "      <td>0.374044</td>\n",
       "      <td>-0.507787</td>\n",
       "    </tr>\n",
       "    <tr>\n",
       "      <th>B</th>\n",
       "      <td>-0.385064</td>\n",
       "      <td>0.175520</td>\n",
       "      <td>-0.356977</td>\n",
       "      <td>-0.380051</td>\n",
       "      <td>0.128069</td>\n",
       "      <td>-0.273534</td>\n",
       "      <td>0.291512</td>\n",
       "      <td>-0.444413</td>\n",
       "      <td>-0.441808</td>\n",
       "      <td>-0.177383</td>\n",
       "      <td>1.000000</td>\n",
       "      <td>-0.366087</td>\n",
       "      <td>0.333461</td>\n",
       "    </tr>\n",
       "    <tr>\n",
       "      <th>LSTAT</th>\n",
       "      <td>0.455621</td>\n",
       "      <td>-0.412995</td>\n",
       "      <td>0.603800</td>\n",
       "      <td>0.590879</td>\n",
       "      <td>-0.613808</td>\n",
       "      <td>0.602339</td>\n",
       "      <td>-0.496996</td>\n",
       "      <td>0.488676</td>\n",
       "      <td>0.543993</td>\n",
       "      <td>0.374044</td>\n",
       "      <td>-0.366087</td>\n",
       "      <td>1.000000</td>\n",
       "      <td>-0.737663</td>\n",
       "    </tr>\n",
       "    <tr>\n",
       "      <th>PRICE</th>\n",
       "      <td>-0.388305</td>\n",
       "      <td>0.360445</td>\n",
       "      <td>-0.483725</td>\n",
       "      <td>-0.427321</td>\n",
       "      <td>0.695360</td>\n",
       "      <td>-0.376955</td>\n",
       "      <td>0.249929</td>\n",
       "      <td>-0.381626</td>\n",
       "      <td>-0.468536</td>\n",
       "      <td>-0.507787</td>\n",
       "      <td>0.333461</td>\n",
       "      <td>-0.737663</td>\n",
       "      <td>1.000000</td>\n",
       "    </tr>\n",
       "  </tbody>\n",
       "</table>\n",
       "</div>"
      ],
      "text/plain": [
       "             CRIM        ZN     INDUS       NOX        RM       AGE       DIS  \\\n",
       "CRIM     1.000000 -0.200469  0.406583  0.420972 -0.219247  0.352734 -0.379670   \n",
       "ZN      -0.200469  1.000000 -0.533828 -0.516604  0.311991 -0.569537  0.664408   \n",
       "INDUS    0.406583 -0.533828  1.000000  0.763651 -0.391676  0.644779 -0.708027   \n",
       "NOX      0.420972 -0.516604  0.763651  1.000000 -0.302188  0.731470 -0.769230   \n",
       "RM      -0.219247  0.311991 -0.391676 -0.302188  1.000000 -0.240265  0.205246   \n",
       "AGE      0.352734 -0.569537  0.644779  0.731470 -0.240265  1.000000 -0.747881   \n",
       "DIS     -0.379670  0.664408 -0.708027 -0.769230  0.205246 -0.747881  1.000000   \n",
       "RAD      0.625505 -0.311948  0.595129  0.611441 -0.209847  0.456022 -0.494588   \n",
       "TAX      0.582764 -0.314563  0.720760  0.668023 -0.292048  0.506456 -0.534432   \n",
       "PTRATIO  0.289946 -0.391679  0.383248  0.188933 -0.355501  0.261515 -0.232471   \n",
       "B       -0.385064  0.175520 -0.356977 -0.380051  0.128069 -0.273534  0.291512   \n",
       "LSTAT    0.455621 -0.412995  0.603800  0.590879 -0.613808  0.602339 -0.496996   \n",
       "PRICE   -0.388305  0.360445 -0.483725 -0.427321  0.695360 -0.376955  0.249929   \n",
       "\n",
       "              RAD       TAX   PTRATIO         B     LSTAT     PRICE  \n",
       "CRIM     0.625505  0.582764  0.289946 -0.385064  0.455621 -0.388305  \n",
       "ZN      -0.311948 -0.314563 -0.391679  0.175520 -0.412995  0.360445  \n",
       "INDUS    0.595129  0.720760  0.383248 -0.356977  0.603800 -0.483725  \n",
       "NOX      0.611441  0.668023  0.188933 -0.380051  0.590879 -0.427321  \n",
       "RM      -0.209847 -0.292048 -0.355501  0.128069 -0.613808  0.695360  \n",
       "AGE      0.456022  0.506456  0.261515 -0.273534  0.602339 -0.376955  \n",
       "DIS     -0.494588 -0.534432 -0.232471  0.291512 -0.496996  0.249929  \n",
       "RAD      1.000000  0.910228  0.464741 -0.444413  0.488676 -0.381626  \n",
       "TAX      0.910228  1.000000  0.460853 -0.441808  0.543993 -0.468536  \n",
       "PTRATIO  0.464741  0.460853  1.000000 -0.177383  0.374044 -0.507787  \n",
       "B       -0.444413 -0.441808 -0.177383  1.000000 -0.366087  0.333461  \n",
       "LSTAT    0.488676  0.543993  0.374044 -0.366087  1.000000 -0.737663  \n",
       "PRICE   -0.381626 -0.468536 -0.507787  0.333461 -0.737663  1.000000  "
      ]
     },
     "execution_count": 13,
     "metadata": {},
     "output_type": "execute_result"
    }
   ],
   "source": [
    "features = boston_data['feature_names']\n",
    "print(type(features))\n",
    "correlation_mtrx = df[np.append(features, 'PRICE')].corr()\n",
    "correlation_mtrx"
   ]
  },
  {
   "cell_type": "markdown",
   "metadata": {},
   "source": [
    "Как видно, наибольшкую кореляцую с целевым значением показывает параметр `RM` (средне кол-во комнат в доме) - 0.69.\n",
    "Рассмотрим распределение наиболее коррелирующих признаков: `RM`, `ZN`, `B`"
   ]
  },
  {
   "cell_type": "code",
   "execution_count": 14,
   "metadata": {},
   "outputs": [
    {
     "data": {
      "image/png": "[encoded data removed]",
      "text/plain": [
       "<Figure size 1080x432 with 3 Axes>"
      ]
     },
     "metadata": {
      "needs_background": "light"
     },
     "output_type": "display_data"
    }
   ],
   "source": [
    "f, axes = plt.subplots(1, 3, figsize = (15, 6))\n",
    "sns.distplot(df['RM'], ax=axes[0])\n",
    "sns.distplot(df['ZN'], ax=axes[1])\n",
    "sns.distplot(df['B'], ax=axes[2])\n",
    "plt.tight_layout()"
   ]
  },
  {
   "cell_type": "markdown",
   "metadata": {},
   "source": [
    "Признак `RM` - нормальное распределение;\n",
    "Признак `ZN` - нормальное распределение с левым смещением;\n",
    "Признак `B` - нормальное распределение с правым смещением.\n",
    "В дальнейшем целесообразно использовать трансформеры из библиотеки `sklearn` для коррекции этих признаков, т.к. модель линейной регресии чувствительная к распределению данных, таким образом коррекция смещений может улучшить работу модели"
   ]
  },
  {
   "cell_type": "code",
   "execution_count": 15,
   "metadata": {},
   "outputs": [
    {
     "data": {
      "image/png": "[encoded data removed]",
      "text/plain": [
       "<Figure size 1080x432 with 3 Axes>"
      ]
     },
     "metadata": {
      "needs_background": "light"
     },
     "output_type": "display_data"
    }
   ],
   "source": [
    "f, axes = plt.subplots(1, 3, figsize = (15, 6))\n",
    "features_to_exp = ['RM', 'ZN', 'B']\n",
    "for i in range (0, len(features_to_exp)):\n",
    "    plt.subplot(131 + i)\n",
    "    plt.scatter(df[features_to_exp[i]], df['PRICE'])\n",
    "    plt.xlabel(features_to_exp[i])\n",
    "    plt.ylabel('PRICE')"
   ]
  },
  {
   "cell_type": "markdown",
   "metadata": {},
   "source": [
    "Из графика №1 видно, что целевое значение линейно зависимо от признака `RM`. Для графиков №2 и №3 видно, что явная линейная зависимость не присутствует."
   ]
  },
  {
   "cell_type": "markdown",
   "metadata": {},
   "source": [
    "Вывод: явная линейная зависимость характерна только для признака `RM`, который имеет нормальное распределение. Распределения признаков `ZN` и `B` имеют левыие и правые смешения соответственно, таким образом целесообразно применения трансформеров из библиотеки `sklearn`"
   ]
  },
  {
   "cell_type": "markdown",
   "metadata": {},
   "source": [
    "# Изучение работы инструментов нормализации данных"
   ]
  },
  {
   "cell_type": "markdown",
   "metadata": {},
   "source": [
    "Применим следующие инструменты для нормализации данных:\n",
    "- Применение трансформера `sklearn.preprocessing.StandardScaler`\n",
    "- Применение трансформера `sklearn.preprocessing.MinMaxScaler`\n",
    "- Сравним результаты моделей после нормализации"
   ]
  },
  {
   "cell_type": "code",
   "execution_count": 16,
   "metadata": {},
   "outputs": [],
   "source": [
    "def getEvaluationResults(reg, X_train, X_test, y_train, y_test):\n",
    "    y_pred = reg.predict(X_test)\n",
    "    evaluate_regressor(reg, X_train, y_train, 'train')\n",
    "    evaluate_regressor(reg, X_test, y_test, 'test') "
   ]
  },
  {
   "cell_type": "code",
   "execution_count": 17,
   "metadata": {},
   "outputs": [
    {
     "name": "stdout",
     "output_type": "stream",
     "text": [
      "Without Scaler\n",
      "\n",
      "----- Evaluation for train -----\n",
      "  R2: 0.7434997532004697\n",
      "  RMSE: 4.748208239685938\n",
      "  MAE: 3.356826782168201\n",
      "\n",
      "----- Evaluation for test -----\n",
      "  R2: 0.7112260057484903\n",
      "  RMSE: 4.6386899261728445\n",
      "  MAE: 3.162709871457426\n",
      "\n",
      "Standard Scaler: \n",
      "\n",
      "----- Evaluation for train -----\n",
      "  R2: 0.7434997532004697\n",
      "  RMSE: 4.748208239685937\n",
      "  MAE: 3.3568267821682056\n",
      "\n",
      "----- Evaluation for test -----\n",
      "  R2: 0.7112260057484932\n",
      "  RMSE: 4.6386899261728205\n",
      "  MAE: 3.1627098714574053\n",
      "\n",
      "MinMax Scaler: \n",
      "\n",
      "----- Evaluation for train -----\n",
      "  R2: 0.7434997532004697\n",
      "  RMSE: 4.748208239685937\n",
      "  MAE: 3.3568267821682034\n",
      "\n",
      "----- Evaluation for test -----\n",
      "  R2: 0.7112260057484926\n",
      "  RMSE: 4.638689926172826\n",
      "  MAE: 3.1627098714574076\n"
     ]
    }
   ],
   "source": [
    "from sklearn.preprocessing import StandardScaler, MinMaxScaler\n",
    "\n",
    "print(\"Without Scaler\")\n",
    "\n",
    "reg.fit(X_train, y_train)\n",
    "getEvaluationResults(reg, X_train, X_test, y_train, y_test)\n",
    "\n",
    "print()\n",
    "print(\"Standard Scaler: \")\n",
    "                   \n",
    "standardScaler = StandardScaler()\n",
    "standardScaler.fit(X_train)\n",
    "X_train_scaled = standardScaler.transform(X_train)\n",
    "X_test_scaled = standardScaler.transform(X_test)\n",
    "\n",
    "reg.fit(X_train_scaled, y_train)\n",
    "\n",
    "getEvaluationResults(reg, X_train_scaled, X_test_scaled, y_train, y_test)\n",
    "\n",
    "print()\n",
    "print(\"MinMax Scaler: \")\n",
    "\n",
    "minMaxScaler = MinMaxScaler()\n",
    "minMaxScaler.fit(X_train)\n",
    "X_train_scaled_minmax = minMaxScaler.transform(X_train)\n",
    "X_test_scaled_minmax = minMaxScaler.transform(X_test)\n",
    "\n",
    "reg.fit(X_train_scaled_minmax, y_train)\n",
    "\n",
    "getEvaluationResults(reg, X_train_scaled_minmax, X_test_scaled_minmax, y_train, y_test)"
   ]
  },
  {
   "cell_type": "markdown",
   "metadata": {},
   "source": [
    "Вывод: применение `StandardScaler` дает крайне незначительное улучшения в точности на 16-ом знаке"
   ]
  },
  {
   "cell_type": "markdown",
   "metadata": {},
   "source": [
    "# Изучение работы инструментов выравнивания распределений"
   ]
  },
  {
   "cell_type": "markdown",
   "metadata": {},
   "source": [
    "Применим следующие инструменты для нормализации данных:\n",
    "- Применение трансформера `sklearn.preprocessing.PowerTransformer`\n",
    "- Применение трансформера `sklearn.preprocessing.QuantileTransformer(output_distribution='normal')`\n",
    "- Сравним результаты моделей"
   ]
  },
  {
   "cell_type": "code",
   "execution_count": 18,
   "metadata": {},
   "outputs": [
    {
     "data": {
      "image/png": "[encoded data removed]",
      "text/plain": [
       "<Figure size 1080x432 with 3 Axes>"
      ]
     },
     "metadata": {
      "needs_background": "light"
     },
     "output_type": "display_data"
    }
   ],
   "source": [
    "from sklearn.preprocessing import PowerTransformer, QuantileTransformer\n",
    "\n",
    "powerTransofrmer = PowerTransformer()\n",
    "powerTransofrmer.fit(X_train)\n",
    "X_train_power_transformed = powerTransofrmer.transform(X_train)\n",
    "X_train_power_transformed = pd.DataFrame(X_train_power_transformed, columns=boston_data['feature_names'])\n",
    "X_test_power_transformed = powerTransofrmer.transform(X_test)\n",
    "X_test_power_transformed = pd.DataFrame(X_test_power_transformed, columns=boston_data['feature_names'])\n",
    "f, axes = plt.subplots(1, 3, figsize = (15, 6))\n",
    "sns.distplot(X_train_power_transformed['RM'], ax=axes[0])\n",
    "sns.distplot(X_train_power_transformed['ZN'], ax=axes[1])\n",
    "sns.distplot(X_train_power_transformed['B'], ax=axes[2])\n",
    "plt.tight_layout()"
   ]
  },
  {
   "cell_type": "code",
   "execution_count": 19,
   "metadata": {},
   "outputs": [
    {
     "data": {
      "image/png": "[encoded data removed]",
      "text/plain": [
       "<Figure size 1080x432 with 3 Axes>"
      ]
     },
     "metadata": {
      "needs_background": "light"
     },
     "output_type": "display_data"
    }
   ],
   "source": [
    "quantileTransformer = QuantileTransformer(output_distribution='normal')\n",
    "quantileTransformer.fit(X_train)\n",
    "X_train_quantile_transformed = quantileTransformer.transform(X_train)\n",
    "X_train_quantile_transformed = pd.DataFrame(X_train_quantile_transformed, columns=boston_data['feature_names'])\n",
    "X_test_quantile_transformed = quantileTransformer.transform(X_test)\n",
    "X_test_quantile_transformed = pd.DataFrame(X_test_quantile_transformed, columns=boston_data['feature_names'])\n",
    "f, axes = plt.subplots(1, 3, figsize = (15, 6))\n",
    "sns.distplot(X_train_quantile_transformed['RM'], ax=axes[0])\n",
    "sns.distplot(X_train_quantile_transformed['ZN'], ax=axes[1])\n",
    "sns.distplot(X_train_quantile_transformed['B'], ax=axes[2])\n",
    "plt.tight_layout()"
   ]
  },
  {
   "cell_type": "code",
   "execution_count": 20,
   "metadata": {},
   "outputs": [
    {
     "name": "stdout",
     "output_type": "stream",
     "text": [
      "Without Transformer: \n",
      "\n",
      "----- Evaluation for train -----\n",
      "  R2: 0.7434997532004697\n",
      "  RMSE: 4.748208239685938\n",
      "  MAE: 3.356826782168201\n",
      "\n",
      "----- Evaluation for test -----\n",
      "  R2: 0.7112260057484903\n",
      "  RMSE: 4.6386899261728445\n",
      "  MAE: 3.162709871457426\n",
      "\n",
      "Power Transformer: \n",
      "\n",
      "----- Evaluation for train -----\n",
      "  R2: 0.7671674226821155\n",
      "  RMSE: 4.523845209628152\n",
      "  MAE: 3.3452541600761636\n",
      "\n",
      "----- Evaluation for test -----\n",
      "  R2: 0.7412232713454907\n",
      "  RMSE: 4.391156466464551\n",
      "  MAE: 3.1620670158148187\n",
      "\n",
      "Quantile Transformer: \n",
      "\n",
      "----- Evaluation for train -----\n",
      "  R2: 0.755417254043121\n",
      "  RMSE: 4.636590829916763\n",
      "  MAE: 3.459400069969045\n",
      "\n",
      "----- Evaluation for test -----\n",
      "  R2: 0.7464716005585341\n",
      "  RMSE: 4.346399182858187\n",
      "  MAE: 3.1830447298707445\n"
     ]
    }
   ],
   "source": [
    "print(\"Without Transformer: \")\n",
    "reg.fit(X_train, y_train)\n",
    "getEvaluationResults(reg, X_train, X_test, y_train, y_test)\n",
    "print()\n",
    "print(\"Power Transformer: \")\n",
    "reg.fit(X_train_power_transformed, y_train)\n",
    "getEvaluationResults(reg, X_train_power_transformed, X_test_power_transformed, y_train, y_test)\n",
    "print()\n",
    "print(\"Quantile Transformer: \")\n",
    "reg.fit(X_train_quantile_transformed, y_train)\n",
    "getEvaluationResults(reg, X_train_quantile_transformed, X_test_quantile_transformed, y_train, y_test)"
   ]
  },
  {
   "cell_type": "markdown",
   "metadata": {},
   "source": [
    "Как видно из вышеприведенных графиков распределений, при использовании `PowerTransformer` и `QuantileTransformer` произошло смещение распределений. При обучении модели после использований инструментов выравниваия, наилучшие показатели оказались при использовании интсрумента `PowerTransformer`."
   ]
  },
  {
   "cell_type": "markdown",
   "metadata": {},
   "source": [
    "# Исключим выбросы на уровне PRICE == 50"
   ]
  },
  {
   "cell_type": "code",
   "execution_count": 21,
   "metadata": {},
   "outputs": [],
   "source": [
    "df_excl = df[df['PRICE'] != 50]"
   ]
  },
  {
   "cell_type": "code",
   "execution_count": 22,
   "metadata": {},
   "outputs": [],
   "source": [
    "X_excl = df_excl[boston_data['feature_names']]\n",
    "y_excl = df_excl['PRICE']\n",
    "X_train_excl, X_test_excl, y_train_excl, y_test_excl = train_test_split(X_excl, y_excl, train_size = TRAIN_RATIO, random_state = RANDOM_STATE)"
   ]
  },
  {
   "cell_type": "code",
   "execution_count": 23,
   "metadata": {},
   "outputs": [
    {
     "name": "stdout",
     "output_type": "stream",
     "text": [
      "Without excluded data: \n",
      "\n",
      "----- Evaluation for train -----\n",
      "  R2: 0.7434997532004697\n",
      "  RMSE: 4.748208239685938\n",
      "  MAE: 3.356826782168201\n",
      "\n",
      "----- Evaluation for test -----\n",
      "  R2: 0.7112260057484903\n",
      "  RMSE: 4.6386899261728445\n",
      "  MAE: 3.162709871457426\n",
      "\n",
      "With PRICE == 50 excluded: \n",
      "\n",
      "----- Evaluation for train -----\n",
      "  R2: 0.7798306337503477\n",
      "  RMSE: 3.778282589754244\n",
      "  MAE: 2.7961504147140697\n",
      "\n",
      "----- Evaluation for test -----\n",
      "  R2: 0.7538446825846036\n",
      "  RMSE: 3.595140579269922\n",
      "  MAE: 2.7775138468973406\n"
     ]
    }
   ],
   "source": [
    "print(\"Without excluded data: \")\n",
    "reg.fit(X_train, y_train)\n",
    "getEvaluationResults(reg, X_train, X_test, y_train, y_test)\n",
    "print()\n",
    "print(\"With PRICE == 50 excluded: \")\n",
    "reg.fit(X_train_excl, y_train_excl)\n",
    "getEvaluationResults(reg, X_train_excl, X_test_excl, y_train_excl, y_test_excl)"
   ]
  },
  {
   "cell_type": "markdown",
   "metadata": {},
   "source": [
    "При исключении выбросов на уровне PRICE == 50 существенно улучшается точность работы модели."
   ]
  },
  {
   "cell_type": "markdown",
   "metadata": {},
   "source": [
    "# Изучение работы модели при исключении каждого из 13-и признаков"
   ]
  },
  {
   "cell_type": "code",
   "execution_count": 24,
   "metadata": {},
   "outputs": [],
   "source": [
    "def get_scores(reg, X, y):\n",
    "    y_pred = reg.predict(X)\n",
    "    r2_score_value = r2_score(y, y_pred)\n",
    "    rmse_score = np.sqrt(mean_squared_error(y, y_pred))\n",
    "    mae_score = mean_absolute_error(y, y_pred)\n",
    "    return [r2_score_value, rmse_score, mae_score]"
   ]
  },
  {
   "cell_type": "code",
   "execution_count": 25,
   "metadata": {},
   "outputs": [],
   "source": [
    "def fill_data_to_append(data, r2, rmse, mae, test = False):\n",
    "    if test:\n",
    "        data['R2_test'] = r2\n",
    "        data['RMSE_test'] = rmse\n",
    "        data['MAE_test'] = mae\n",
    "    else:\n",
    "        data['R2_train'] = r2\n",
    "        data['RMSE_train'] = rmse\n",
    "        data['MAE_train'] = mae"
   ]
  },
  {
   "cell_type": "code",
   "execution_count": 26,
   "metadata": {},
   "outputs": [
    {
     "data": {
      "text/html": [
       "<div>\n",
       "<style scoped>\n",
       "    .dataframe tbody tr th:only-of-type {\n",
       "        vertical-align: middle;\n",
       "    }\n",
       "\n",
       "    .dataframe tbody tr th {\n",
       "        vertical-align: top;\n",
       "    }\n",
       "\n",
       "    .dataframe thead th {\n",
       "        text-align: right;\n",
       "    }\n",
       "</style>\n",
       "<table border=\"1\" class=\"dataframe\">\n",
       "  <thead>\n",
       "    <tr style=\"text-align: right;\">\n",
       "      <th></th>\n",
       "      <th>Feature</th>\n",
       "      <th>R2_train</th>\n",
       "      <th>RMSE_train</th>\n",
       "      <th>MAE_train</th>\n",
       "      <th>R2_test</th>\n",
       "      <th>RMSE_test</th>\n",
       "      <th>MAE_test</th>\n",
       "    </tr>\n",
       "  </thead>\n",
       "  <tbody>\n",
       "    <tr>\n",
       "      <th>0</th>\n",
       "      <td>CRIM</td>\n",
       "      <td>0.735429</td>\n",
       "      <td>4.822334</td>\n",
       "      <td>3.395196</td>\n",
       "      <td>0.715061</td>\n",
       "      <td>4.607782</td>\n",
       "      <td>3.137339</td>\n",
       "    </tr>\n",
       "    <tr>\n",
       "      <th>1</th>\n",
       "      <td>ZN</td>\n",
       "      <td>0.740394</td>\n",
       "      <td>4.776865</td>\n",
       "      <td>3.392172</td>\n",
       "      <td>0.697831</td>\n",
       "      <td>4.745054</td>\n",
       "      <td>3.249952</td>\n",
       "    </tr>\n",
       "    <tr>\n",
       "      <th>2</th>\n",
       "      <td>INDUS</td>\n",
       "      <td>0.743151</td>\n",
       "      <td>4.751439</td>\n",
       "      <td>3.361499</td>\n",
       "      <td>0.712410</td>\n",
       "      <td>4.629169</td>\n",
       "      <td>3.144223</td>\n",
       "    </tr>\n",
       "    <tr>\n",
       "      <th>3</th>\n",
       "      <td>CHAS</td>\n",
       "      <td>0.736665</td>\n",
       "      <td>4.811050</td>\n",
       "      <td>3.378966</td>\n",
       "      <td>0.708814</td>\n",
       "      <td>4.658021</td>\n",
       "      <td>3.204326</td>\n",
       "    </tr>\n",
       "    <tr>\n",
       "      <th>4</th>\n",
       "      <td>NOX</td>\n",
       "      <td>0.735551</td>\n",
       "      <td>4.821220</td>\n",
       "      <td>3.363016</td>\n",
       "      <td>0.690537</td>\n",
       "      <td>4.801982</td>\n",
       "      <td>3.236874</td>\n",
       "    </tr>\n",
       "    <tr>\n",
       "      <th>5</th>\n",
       "      <td>RM</td>\n",
       "      <td>0.693006</td>\n",
       "      <td>5.194584</td>\n",
       "      <td>3.723812</td>\n",
       "      <td>0.683052</td>\n",
       "      <td>4.859707</td>\n",
       "      <td>3.499859</td>\n",
       "    </tr>\n",
       "    <tr>\n",
       "      <th>6</th>\n",
       "      <td>AGE</td>\n",
       "      <td>0.743160</td>\n",
       "      <td>4.751348</td>\n",
       "      <td>3.360370</td>\n",
       "      <td>0.713868</td>\n",
       "      <td>4.617424</td>\n",
       "      <td>3.129113</td>\n",
       "    </tr>\n",
       "    <tr>\n",
       "      <th>7</th>\n",
       "      <td>DIS</td>\n",
       "      <td>0.718693</td>\n",
       "      <td>4.972511</td>\n",
       "      <td>3.493454</td>\n",
       "      <td>0.670199</td>\n",
       "      <td>4.957263</td>\n",
       "      <td>3.331987</td>\n",
       "    </tr>\n",
       "    <tr>\n",
       "      <th>8</th>\n",
       "      <td>RAD</td>\n",
       "      <td>0.736878</td>\n",
       "      <td>4.809110</td>\n",
       "      <td>3.363050</td>\n",
       "      <td>0.688301</td>\n",
       "      <td>4.819300</td>\n",
       "      <td>3.285644</td>\n",
       "    </tr>\n",
       "    <tr>\n",
       "      <th>9</th>\n",
       "      <td>TAX</td>\n",
       "      <td>0.740817</td>\n",
       "      <td>4.772977</td>\n",
       "      <td>3.364382</td>\n",
       "      <td>0.698385</td>\n",
       "      <td>4.740703</td>\n",
       "      <td>3.241291</td>\n",
       "    </tr>\n",
       "    <tr>\n",
       "      <th>10</th>\n",
       "      <td>PTRATIO</td>\n",
       "      <td>0.717197</td>\n",
       "      <td>4.985719</td>\n",
       "      <td>3.526185</td>\n",
       "      <td>0.676421</td>\n",
       "      <td>4.910281</td>\n",
       "      <td>3.503691</td>\n",
       "    </tr>\n",
       "    <tr>\n",
       "      <th>11</th>\n",
       "      <td>B</td>\n",
       "      <td>0.734078</td>\n",
       "      <td>4.834630</td>\n",
       "      <td>3.453604</td>\n",
       "      <td>0.716621</td>\n",
       "      <td>4.595155</td>\n",
       "      <td>3.188662</td>\n",
       "    </tr>\n",
       "    <tr>\n",
       "      <th>12</th>\n",
       "      <td>LSTAT</td>\n",
       "      <td>0.679385</td>\n",
       "      <td>5.308576</td>\n",
       "      <td>3.551571</td>\n",
       "      <td>0.675248</td>\n",
       "      <td>4.919176</td>\n",
       "      <td>3.219308</td>\n",
       "    </tr>\n",
       "  </tbody>\n",
       "</table>\n",
       "</div>"
      ],
      "text/plain": [
       "    Feature  R2_train  RMSE_train  MAE_train   R2_test  RMSE_test  MAE_test\n",
       "0      CRIM  0.735429    4.822334   3.395196  0.715061   4.607782  3.137339\n",
       "1        ZN  0.740394    4.776865   3.392172  0.697831   4.745054  3.249952\n",
       "2     INDUS  0.743151    4.751439   3.361499  0.712410   4.629169  3.144223\n",
       "3      CHAS  0.736665    4.811050   3.378966  0.708814   4.658021  3.204326\n",
       "4       NOX  0.735551    4.821220   3.363016  0.690537   4.801982  3.236874\n",
       "5        RM  0.693006    5.194584   3.723812  0.683052   4.859707  3.499859\n",
       "6       AGE  0.743160    4.751348   3.360370  0.713868   4.617424  3.129113\n",
       "7       DIS  0.718693    4.972511   3.493454  0.670199   4.957263  3.331987\n",
       "8       RAD  0.736878    4.809110   3.363050  0.688301   4.819300  3.285644\n",
       "9       TAX  0.740817    4.772977   3.364382  0.698385   4.740703  3.241291\n",
       "10  PTRATIO  0.717197    4.985719   3.526185  0.676421   4.910281  3.503691\n",
       "11        B  0.734078    4.834630   3.453604  0.716621   4.595155  3.188662\n",
       "12    LSTAT  0.679385    5.308576   3.551571  0.675248   4.919176  3.219308"
      ]
     },
     "execution_count": 26,
     "metadata": {},
     "output_type": "execute_result"
    }
   ],
   "source": [
    "result = pd.DataFrame(columns = [\"Feature\", \"R2_train\", \"RMSE_train\", \"MAE_train\",\n",
    "                                 \"R2_test\", \"RMSE_test\", \"MAE_test\"])\n",
    "data_to_append = dict()\n",
    "for feature in features:\n",
    "    temp = np.delete(features, np.where(features == feature))\n",
    "    data_to_append['Feature'] = feature\n",
    "    reg.fit(X_train[temp], y_train)\n",
    "    fill_data_to_append(data_to_append, *get_scores(reg, X_train[temp], y_train))\n",
    "    fill_data_to_append(data_to_append, *get_scores(reg, X_test[temp], y_test), test = True)\n",
    "    result = result.append(data_to_append, ignore_index=True)\n",
    "result"
   ]
  },
  {
   "cell_type": "markdown",
   "metadata": {},
   "source": [
    "Согласно таблицы, хуже всего модель работает при исключении признака `LSTAT`, а лучшие показатели соответствуют исключению признака `AGE`."
   ]
  },
  {
   "cell_type": "markdown",
   "metadata": {},
   "source": [
    "# Использование трансформера `PolynomialFeatrues`"
   ]
  },
  {
   "cell_type": "markdown",
   "metadata": {},
   "source": [
    "Сгинерируем признак `LSTAT` в квадрате с помощью трансформера `sklearn.preprocessing.PolynomialFeatures`."
   ]
  },
  {
   "cell_type": "code",
   "execution_count": 27,
   "metadata": {},
   "outputs": [
    {
     "data": {
      "text/html": [
       "<div>\n",
       "<style scoped>\n",
       "    .dataframe tbody tr th:only-of-type {\n",
       "        vertical-align: middle;\n",
       "    }\n",
       "\n",
       "    .dataframe tbody tr th {\n",
       "        vertical-align: top;\n",
       "    }\n",
       "\n",
       "    .dataframe thead th {\n",
       "        text-align: right;\n",
       "    }\n",
       "</style>\n",
       "<table border=\"1\" class=\"dataframe\">\n",
       "  <thead>\n",
       "    <tr style=\"text-align: right;\">\n",
       "      <th></th>\n",
       "      <th>CRIM</th>\n",
       "      <th>ZN</th>\n",
       "      <th>INDUS</th>\n",
       "      <th>CHAS</th>\n",
       "      <th>NOX</th>\n",
       "      <th>RM</th>\n",
       "      <th>AGE</th>\n",
       "      <th>DIS</th>\n",
       "      <th>RAD</th>\n",
       "      <th>TAX</th>\n",
       "      <th>PTRATIO</th>\n",
       "      <th>B</th>\n",
       "      <th>LSTAT</th>\n",
       "      <th>LSAT^2</th>\n",
       "    </tr>\n",
       "  </thead>\n",
       "  <tbody>\n",
       "    <tr>\n",
       "      <th>5</th>\n",
       "      <td>0.02985</td>\n",
       "      <td>0.0</td>\n",
       "      <td>2.18</td>\n",
       "      <td>0</td>\n",
       "      <td>0.458</td>\n",
       "      <td>6.430</td>\n",
       "      <td>58.7</td>\n",
       "      <td>6.0622</td>\n",
       "      <td>3.0</td>\n",
       "      <td>222.0</td>\n",
       "      <td>18.7</td>\n",
       "      <td>394.12</td>\n",
       "      <td>5.21</td>\n",
       "      <td>27.1441</td>\n",
       "    </tr>\n",
       "    <tr>\n",
       "      <th>116</th>\n",
       "      <td>0.13158</td>\n",
       "      <td>0.0</td>\n",
       "      <td>10.01</td>\n",
       "      <td>0</td>\n",
       "      <td>0.547</td>\n",
       "      <td>6.176</td>\n",
       "      <td>72.5</td>\n",
       "      <td>2.7301</td>\n",
       "      <td>6.0</td>\n",
       "      <td>432.0</td>\n",
       "      <td>17.8</td>\n",
       "      <td>393.30</td>\n",
       "      <td>12.04</td>\n",
       "      <td>144.9616</td>\n",
       "    </tr>\n",
       "    <tr>\n",
       "      <th>45</th>\n",
       "      <td>0.17142</td>\n",
       "      <td>0.0</td>\n",
       "      <td>6.91</td>\n",
       "      <td>0</td>\n",
       "      <td>0.448</td>\n",
       "      <td>5.682</td>\n",
       "      <td>33.8</td>\n",
       "      <td>5.1004</td>\n",
       "      <td>3.0</td>\n",
       "      <td>233.0</td>\n",
       "      <td>17.9</td>\n",
       "      <td>396.90</td>\n",
       "      <td>10.21</td>\n",
       "      <td>104.2441</td>\n",
       "    </tr>\n",
       "    <tr>\n",
       "      <th>16</th>\n",
       "      <td>1.05393</td>\n",
       "      <td>0.0</td>\n",
       "      <td>8.14</td>\n",
       "      <td>0</td>\n",
       "      <td>0.538</td>\n",
       "      <td>5.935</td>\n",
       "      <td>29.3</td>\n",
       "      <td>4.4986</td>\n",
       "      <td>4.0</td>\n",
       "      <td>307.0</td>\n",
       "      <td>21.0</td>\n",
       "      <td>386.85</td>\n",
       "      <td>6.58</td>\n",
       "      <td>43.2964</td>\n",
       "    </tr>\n",
       "    <tr>\n",
       "      <th>468</th>\n",
       "      <td>15.57570</td>\n",
       "      <td>0.0</td>\n",
       "      <td>18.10</td>\n",
       "      <td>0</td>\n",
       "      <td>0.580</td>\n",
       "      <td>5.926</td>\n",
       "      <td>71.0</td>\n",
       "      <td>2.9084</td>\n",
       "      <td>24.0</td>\n",
       "      <td>666.0</td>\n",
       "      <td>20.2</td>\n",
       "      <td>368.74</td>\n",
       "      <td>18.13</td>\n",
       "      <td>328.6969</td>\n",
       "    </tr>\n",
       "  </tbody>\n",
       "</table>\n",
       "</div>"
      ],
      "text/plain": [
       "         CRIM   ZN  INDUS CHAS    NOX     RM   AGE     DIS   RAD    TAX  \\\n",
       "5     0.02985  0.0   2.18    0  0.458  6.430  58.7  6.0622   3.0  222.0   \n",
       "116   0.13158  0.0  10.01    0  0.547  6.176  72.5  2.7301   6.0  432.0   \n",
       "45    0.17142  0.0   6.91    0  0.448  5.682  33.8  5.1004   3.0  233.0   \n",
       "16    1.05393  0.0   8.14    0  0.538  5.935  29.3  4.4986   4.0  307.0   \n",
       "468  15.57570  0.0  18.10    0  0.580  5.926  71.0  2.9084  24.0  666.0   \n",
       "\n",
       "     PTRATIO       B  LSTAT    LSAT^2  \n",
       "5       18.7  394.12   5.21   27.1441  \n",
       "116     17.8  393.30  12.04  144.9616  \n",
       "45      17.9  396.90  10.21  104.2441  \n",
       "16      21.0  386.85   6.58   43.2964  \n",
       "468     20.2  368.74  18.13  328.6969  "
      ]
     },
     "execution_count": 27,
     "metadata": {},
     "output_type": "execute_result"
    }
   ],
   "source": [
    "from sklearn.preprocessing import PolynomialFeatures\n",
    "\n",
    "X_train_squared = X_train.copy()\n",
    "X_test_squared = X_test.copy()\n",
    "\n",
    "poly = PolynomialFeatures(2, include_bias=False)\n",
    "\n",
    "LSTAT_train_squared = poly.fit_transform(np.array(X_train['LSTAT']).reshape((-1, 1)))\n",
    "LSTAT_test_squared = poly.fit_transform(np.array(X_test['LSTAT']).reshape((-1, 1)))\n",
    "\n",
    "X_train_squared['LSAT^2'] = LSTAT_train_squared[:, 1]\n",
    "X_test_squared['LSAT^2'] = LSTAT_test_squared[:, 1]\n",
    "X_train_squared.head()"
   ]
  },
  {
   "cell_type": "code",
   "execution_count": 28,
   "metadata": {},
   "outputs": [
    {
     "name": "stdout",
     "output_type": "stream",
     "text": [
      "Without LSTAT^2: \n",
      "\n",
      "----- Evaluation for train -----\n",
      "  R2: 0.7434997532004697\n",
      "  RMSE: 4.748208239685938\n",
      "  MAE: 3.356826782168201\n",
      "\n",
      "----- Evaluation for test -----\n",
      "  R2: 0.7112260057484903\n",
      "  RMSE: 4.6386899261728445\n",
      "  MAE: 3.162709871457426\n",
      "\n",
      "With LSTAT^2: \n",
      "\n",
      "----- Evaluation for train -----\n",
      "  R2: 0.7900154484992744\n",
      "  RMSE: 4.296150987499627\n",
      "  MAE: 3.103043927750796\n",
      "\n",
      "----- Evaluation for test -----\n",
      "  R2: 0.7734457360506524\n",
      "  RMSE: 4.108680995278839\n",
      "  MAE: 2.952772487893091\n"
     ]
    }
   ],
   "source": [
    "print('Without LSTAT^2: ')\n",
    "reg.fit(X_train, y_train)\n",
    "getEvaluationResults(reg, X_train, X_test, y_train, y_test)\n",
    "print()\n",
    "print('With LSTAT^2: ')\n",
    "reg.fit(X_train_squared, y_train)\n",
    "getEvaluationResults(reg, X_train_squared, X_test_squared, y_train, y_test)"
   ]
  },
  {
   "cell_type": "markdown",
   "metadata": {},
   "source": [
    "При добавлении признака `LSTAT^2` существенно улучшились все показатели качества модели."
   ]
  },
  {
   "cell_type": "markdown",
   "metadata": {},
   "source": [
    "# Создание базовой модели Ридж регрессии"
   ]
  },
  {
   "cell_type": "markdown",
   "metadata": {},
   "source": [
    "Создадим базовую модель Ридж регрессии и исследуем ее работу при использовании:\n",
    "- Различных методов нормализации\n",
    "- Выравнивания распределений\n",
    "- Различных параметров a (не меньше 7)"
   ]
  },
  {
   "cell_type": "code",
   "execution_count": 29,
   "metadata": {},
   "outputs": [],
   "source": [
    "def get_experiment_result(modification_type, X_train, X_test, y_train, y_test):\n",
    "    single_result = dict()\n",
    "    single_result['Modification type'] = modification_type\n",
    "    ridge.fit(X_train, y_train)\n",
    "    fill_data_to_append(single_result, *get_scores(ridge, X_train, y_train))\n",
    "    fill_data_to_append(single_result, *get_scores(ridge, X_test, y_test), test=True)\n",
    "    return single_result"
   ]
  },
  {
   "cell_type": "code",
   "execution_count": 30,
   "metadata": {},
   "outputs": [
    {
     "data": {
      "text/html": [
       "<div>\n",
       "<style scoped>\n",
       "    .dataframe tbody tr th:only-of-type {\n",
       "        vertical-align: middle;\n",
       "    }\n",
       "\n",
       "    .dataframe tbody tr th {\n",
       "        vertical-align: top;\n",
       "    }\n",
       "\n",
       "    .dataframe thead th {\n",
       "        text-align: right;\n",
       "    }\n",
       "</style>\n",
       "<table border=\"1\" class=\"dataframe\">\n",
       "  <thead>\n",
       "    <tr style=\"text-align: right;\">\n",
       "      <th></th>\n",
       "      <th>Modification type</th>\n",
       "      <th>R2_train</th>\n",
       "      <th>RMSE_train</th>\n",
       "      <th>MAE_train</th>\n",
       "      <th>R2_test</th>\n",
       "      <th>RMSE_test</th>\n",
       "      <th>MAE_test</th>\n",
       "    </tr>\n",
       "  </thead>\n",
       "  <tbody>\n",
       "    <tr>\n",
       "      <th>0</th>\n",
       "      <td>No modification</td>\n",
       "      <td>0.741567</td>\n",
       "      <td>4.766063</td>\n",
       "      <td>3.341936</td>\n",
       "      <td>0.704159</td>\n",
       "      <td>4.695109</td>\n",
       "      <td>3.178539</td>\n",
       "    </tr>\n",
       "    <tr>\n",
       "      <th>1</th>\n",
       "      <td>Standard Scaler</td>\n",
       "      <td>0.743482</td>\n",
       "      <td>4.748369</td>\n",
       "      <td>3.352064</td>\n",
       "      <td>0.710807</td>\n",
       "      <td>4.642053</td>\n",
       "      <td>3.161027</td>\n",
       "    </tr>\n",
       "    <tr>\n",
       "      <th>2</th>\n",
       "      <td>MinMax Scaler</td>\n",
       "      <td>0.738725</td>\n",
       "      <td>4.792197</td>\n",
       "      <td>3.349165</td>\n",
       "      <td>0.711021</td>\n",
       "      <td>4.640336</td>\n",
       "      <td>3.108732</td>\n",
       "    </tr>\n",
       "    <tr>\n",
       "      <th>3</th>\n",
       "      <td>Power Transformer</td>\n",
       "      <td>0.767154</td>\n",
       "      <td>4.523977</td>\n",
       "      <td>3.342412</td>\n",
       "      <td>0.740795</td>\n",
       "      <td>4.394785</td>\n",
       "      <td>3.157434</td>\n",
       "    </tr>\n",
       "    <tr>\n",
       "      <th>4</th>\n",
       "      <td>Quantile Transformer</td>\n",
       "      <td>0.755409</td>\n",
       "      <td>4.636672</td>\n",
       "      <td>3.457930</td>\n",
       "      <td>0.746491</td>\n",
       "      <td>4.346231</td>\n",
       "      <td>3.178893</td>\n",
       "    </tr>\n",
       "  </tbody>\n",
       "</table>\n",
       "</div>"
      ],
      "text/plain": [
       "      Modification type  R2_train  RMSE_train  MAE_train   R2_test  RMSE_test  \\\n",
       "0       No modification  0.741567    4.766063   3.341936  0.704159   4.695109   \n",
       "1       Standard Scaler  0.743482    4.748369   3.352064  0.710807   4.642053   \n",
       "2         MinMax Scaler  0.738725    4.792197   3.349165  0.711021   4.640336   \n",
       "3     Power Transformer  0.767154    4.523977   3.342412  0.740795   4.394785   \n",
       "4  Quantile Transformer  0.755409    4.636672   3.457930  0.746491   4.346231   \n",
       "\n",
       "   MAE_test  \n",
       "0  3.178539  \n",
       "1  3.161027  \n",
       "2  3.108732  \n",
       "3  3.157434  \n",
       "4  3.178893  "
      ]
     },
     "execution_count": 30,
     "metadata": {},
     "output_type": "execute_result"
    }
   ],
   "source": [
    "from sklearn.linear_model import Ridge\n",
    "\n",
    "ridge_result = pd.DataFrame(columns = ['Modification type', \n",
    "                                       'R2_train', 'RMSE_train', 'MAE_train', \n",
    "                                       'R2_test', 'RMSE_test', 'MAE_test'])\n",
    "\n",
    "ridge = Ridge()\n",
    "\n",
    "#no modifications\n",
    "single_result = get_experiment_result('No modification', X_train, X_test, y_train, y_test)\n",
    "ridge_result = ridge_result.append(single_result, ignore_index = True)\n",
    "\n",
    "#StandardScaler\n",
    "single_result = get_experiment_result('Standard Scaler', X_train_scaled, X_test_scaled, y_train, y_test)\n",
    "ridge_result = ridge_result.append(single_result, ignore_index = True)\n",
    "\n",
    "#MinMaxScaler\n",
    "single_result = get_experiment_result('MinMax Scaler', X_train_scaled_minmax, X_test_scaled_minmax, y_train, y_test)\n",
    "ridge_result = ridge_result.append(single_result, ignore_index = True)\n",
    "\n",
    "#PowerTransformer\n",
    "single_result = get_experiment_result('Power Transformer', X_train_power_transformed, X_test_power_transformed, y_train, y_test)\n",
    "ridge_result = ridge_result.append(single_result, ignore_index = True)\n",
    "\n",
    "#QuantileTransformeabsr\n",
    "single_result = get_experiment_result('Quantile Transformer', X_train_quantile_transformed, X_test_quantile_transformed, y_train, y_test)\n",
    "ridge_result = ridge_result.append(single_result, ignore_index = True)    \n",
    "\n",
    "ridge_result"
   ]
  },
  {
   "cell_type": "markdown",
   "metadata": {},
   "source": [
    "Как видно за таблицы, наилучшие показатели точности модели получаются при использовании `Standard Scaler` и `PowerTransformer`, в отличии от модели линейной регрессии, применение `Standard Scaler` дает значительное улучшение в показателях качества. В целом, показатели качества модели Ридж регресии выше, чем у модели линейной регресии."
   ]
  },
  {
   "cell_type": "code",
   "execution_count": 31,
   "metadata": {},
   "outputs": [
    {
     "data": {
      "text/html": [
       "<div>\n",
       "<style scoped>\n",
       "    .dataframe tbody tr th:only-of-type {\n",
       "        vertical-align: middle;\n",
       "    }\n",
       "\n",
       "    .dataframe tbody tr th {\n",
       "        vertical-align: top;\n",
       "    }\n",
       "\n",
       "    .dataframe thead th {\n",
       "        text-align: right;\n",
       "    }\n",
       "</style>\n",
       "<table border=\"1\" class=\"dataframe\">\n",
       "  <thead>\n",
       "    <tr style=\"text-align: right;\">\n",
       "      <th></th>\n",
       "      <th>Modification type</th>\n",
       "      <th>R2_train</th>\n",
       "      <th>RMSE_train</th>\n",
       "      <th>MAE_train</th>\n",
       "      <th>R2_test</th>\n",
       "      <th>RMSE_test</th>\n",
       "      <th>MAE_test</th>\n",
       "    </tr>\n",
       "  </thead>\n",
       "  <tbody>\n",
       "    <tr>\n",
       "      <th>0</th>\n",
       "      <td>A = 0.01</td>\n",
       "      <td>0.743499</td>\n",
       "      <td>4.748215</td>\n",
       "      <td>3.356165</td>\n",
       "      <td>0.711135</td>\n",
       "      <td>4.639419</td>\n",
       "      <td>3.162624</td>\n",
       "    </tr>\n",
       "    <tr>\n",
       "      <th>1</th>\n",
       "      <td>A = 0.01</td>\n",
       "      <td>0.743499</td>\n",
       "      <td>4.748215</td>\n",
       "      <td>3.356165</td>\n",
       "      <td>0.711135</td>\n",
       "      <td>4.639419</td>\n",
       "      <td>3.162624</td>\n",
       "    </tr>\n",
       "    <tr>\n",
       "      <th>2</th>\n",
       "      <td>A = 0.1</td>\n",
       "      <td>0.743438</td>\n",
       "      <td>4.748778</td>\n",
       "      <td>3.351278</td>\n",
       "      <td>0.710318</td>\n",
       "      <td>4.645978</td>\n",
       "      <td>3.162397</td>\n",
       "    </tr>\n",
       "    <tr>\n",
       "      <th>3</th>\n",
       "      <td>A = 1</td>\n",
       "      <td>0.741567</td>\n",
       "      <td>4.766063</td>\n",
       "      <td>3.341936</td>\n",
       "      <td>0.704159</td>\n",
       "      <td>4.695109</td>\n",
       "      <td>3.178539</td>\n",
       "    </tr>\n",
       "    <tr>\n",
       "      <th>4</th>\n",
       "      <td>A = 10</td>\n",
       "      <td>0.735933</td>\n",
       "      <td>4.817738</td>\n",
       "      <td>3.365554</td>\n",
       "      <td>0.695418</td>\n",
       "      <td>4.763962</td>\n",
       "      <td>3.249170</td>\n",
       "    </tr>\n",
       "    <tr>\n",
       "      <th>5</th>\n",
       "      <td>A = 100</td>\n",
       "      <td>0.717518</td>\n",
       "      <td>4.982889</td>\n",
       "      <td>3.497774</td>\n",
       "      <td>0.685044</td>\n",
       "      <td>4.844416</td>\n",
       "      <td>3.420958</td>\n",
       "    </tr>\n",
       "    <tr>\n",
       "      <th>6</th>\n",
       "      <td>A = 1000</td>\n",
       "      <td>0.664255</td>\n",
       "      <td>5.432386</td>\n",
       "      <td>3.793080</td>\n",
       "      <td>0.636300</td>\n",
       "      <td>5.205802</td>\n",
       "      <td>3.802084</td>\n",
       "    </tr>\n",
       "  </tbody>\n",
       "</table>\n",
       "</div>"
      ],
      "text/plain": [
       "  Modification type  R2_train  RMSE_train  MAE_train   R2_test  RMSE_test  \\\n",
       "0          A = 0.01  0.743499    4.748215   3.356165  0.711135   4.639419   \n",
       "1          A = 0.01  0.743499    4.748215   3.356165  0.711135   4.639419   \n",
       "2           A = 0.1  0.743438    4.748778   3.351278  0.710318   4.645978   \n",
       "3             A = 1  0.741567    4.766063   3.341936  0.704159   4.695109   \n",
       "4            A = 10  0.735933    4.817738   3.365554  0.695418   4.763962   \n",
       "5           A = 100  0.717518    4.982889   3.497774  0.685044   4.844416   \n",
       "6          A = 1000  0.664255    5.432386   3.793080  0.636300   5.205802   \n",
       "\n",
       "   MAE_test  \n",
       "0  3.162624  \n",
       "1  3.162624  \n",
       "2  3.162397  \n",
       "3  3.178539  \n",
       "4  3.249170  \n",
       "5  3.420958  \n",
       "6  3.802084  "
      ]
     },
     "execution_count": 31,
     "metadata": {},
     "output_type": "execute_result"
    }
   ],
   "source": [
    "ridge_a_result = pd.DataFrame(columns = ['Modification type', \n",
    "                                       'R2_train', 'RMSE_train', 'MAE_train', \n",
    "                                       'R2_test', 'RMSE_test', 'MAE_test'])\n",
    "a_list = [0.01, 0.01, 0.1, 1, 10, 100, 1000]\n",
    "for a in a_list:\n",
    "    ridge = Ridge(alpha = a)\n",
    "    single_result = get_experiment_result(f' A = {a}', X_train, X_test, y_train, y_test)\n",
    "    ridge_a_result = ridge_a_result.append(single_result, ignore_index = True)\n",
    "ridge_a_result"
   ]
  },
  {
   "cell_type": "markdown",
   "metadata": {},
   "source": [
    "В качестве исследования был выбран диапозон а от 0.01 до 1000. Наилучшие показатели качества обеспечиваются при малом а = 0.01. Проверим данное утверждение с помощью модели Ридж регресии с кандитами значений альфа."
   ]
  },
  {
   "cell_type": "code",
   "execution_count": 32,
   "metadata": {},
   "outputs": [
    {
     "data": {
      "text/plain": [
       "0.01"
      ]
     },
     "execution_count": 32,
     "metadata": {},
     "output_type": "execute_result"
    }
   ],
   "source": [
    "from sklearn.linear_model import RidgeCV\n",
    "\n",
    "regr_cv = RidgeCV(alphas = [0.001, 0.01, 0.1, 1.0, 10.0, 100.0, 1000.0])\n",
    "model_cv = regr_cv.fit(X_train, y_train)\n",
    "model_cv.alpha_"
   ]
  },
  {
   "cell_type": "markdown",
   "metadata": {},
   "source": [
    "Как видно, значение а = 0.01 совпадает с ранее приведенным утверждением."
   ]
  },
  {
   "cell_type": "markdown",
   "metadata": {},
   "source": [
    "Построим график вида y-axis ~ R2, x-axis ~ log(alpha):"
   ]
  },
  {
   "cell_type": "code",
   "execution_count": 33,
   "metadata": {},
   "outputs": [
    {
     "data": {
      "text/plain": [
       "Text(0, 0.5, 'R2_test')"
      ]
     },
     "execution_count": 33,
     "metadata": {},
     "output_type": "execute_result"
    },
    {
     "data": {
      "image/png": "[encoded data removed]",
      "text/plain": [
       "<Figure size 432x288 with 1 Axes>"
      ]
     },
     "metadata": {
      "needs_background": "light"
     },
     "output_type": "display_data"
    }
   ],
   "source": [
    "a_range = np.arange(0.01, 100, 0.1)\n",
    "r2_list = list()\n",
    "for a in a_range:\n",
    "    ridge = Ridge(alpha = a)\n",
    "    single_result = get_experiment_result(f' A = {a}', X_train, X_test, y_train, y_test)\n",
    "    r2_list.append(single_result['R2_test'])\n",
    "plt.plot(np.log(a_range), r2_list)\n",
    "plt.grid(True)\n",
    "plt.xlabel(\"log(a)\")\n",
    "plt.ylabel(\"R2_test\")"
   ]
  },
  {
   "cell_type": "markdown",
   "metadata": {},
   "source": [
    "# Разработка лучшей модели для решения исходной задачи"
   ]
  },
  {
   "cell_type": "markdown",
   "metadata": {},
   "source": [
    "Из проведенных выше исследования можно сделать вывод, что наивысшая ожидаемая точность соответствует модели Ридж регресии c а = 0.01."
   ]
  },
  {
   "cell_type": "code",
   "execution_count": 34,
   "metadata": {},
   "outputs": [],
   "source": [
    "ridge = Ridge(alpha = 0.01)"
   ]
  },
  {
   "cell_type": "markdown",
   "metadata": {},
   "source": [
    "Проведем предобработку данных, на основе выводов проведенных ранее исследований:\n",
    "- Преобразуем признак CHAS в категориальный\n",
    "- Исключим выбросы на уровне PRICE == 50\n",
    "- Добавим признак LSTAT^2\n",
    "- Используем трансформер PowerTransformer для выравнивания распределения"
   ]
  },
  {
   "cell_type": "code",
   "execution_count": 35,
   "metadata": {},
   "outputs": [],
   "source": [
    "df['CHAS'] = df['CHAS'].astype(int).astype(dtype='category')\n",
    "df = df[df['PRICE'] != 50]\n",
    "df['LSTAT^2'] = df['LSTAT'] ** 2\n",
    "powerTransofrmer = PowerTransformer()\n",
    "powerTransofrmer.fit(df[features])\n",
    "df[features] = powerTransofrmer.transform(df[features])"
   ]
  },
  {
   "cell_type": "markdown",
   "metadata": {},
   "source": [
    "Разобьем выборку на обучающую/тестовую в соотнолении 70/30. Создадим и обучим модель Ридж регрессии."
   ]
  },
  {
   "cell_type": "code",
   "execution_count": 36,
   "metadata": {},
   "outputs": [
    {
     "name": "stdout",
     "output_type": "stream",
     "text": [
      "\n",
      "----- Evaluation for train -----\n",
      "  R2: 0.7821759022701822\n",
      "  RMSE: 3.7581053707049707\n",
      "  MAE: 2.83290332096673\n",
      "\n",
      "----- Evaluation for test -----\n",
      "  R2: 0.7867339943927638\n",
      "  RMSE: 3.3463555560731573\n",
      "  MAE: 2.5759441103772063\n"
     ]
    },
    {
     "data": {
      "image/png": "[encoded data removed]",
      "text/plain": [
       "<Figure size 432x288 with 1 Axes>"
      ]
     },
     "metadata": {
      "needs_background": "light"
     },
     "output_type": "display_data"
    }
   ],
   "source": [
    "X_train, X_test, y_train, y_test = train_test_split(df[features], df['PRICE'], train_size = TRAIN_RATIO, random_state = RANDOM_STATE)\n",
    "\n",
    "ridge.fit(X_train, y_train)\n",
    "\n",
    "getEvaluationResults(ridge, X_train, X_test, y_train, y_test)\n",
    "\n",
    "y_pred = ridge.predict(X_test)\n",
    "draw_predictions_plot(y_pred, y_test)"
   ]
  },
  {
   "cell_type": "markdown",
   "metadata": {},
   "source": [
    "Вывод: с учетом применения предобработки данных, а также настроек модели Ридж регрессии, на основе проведенных ранее исследований, удалось обеспечить высокие показатели качества модели."
   ]
  }
 ],
 "metadata": {
  "kernelspec": {
   "display_name": "Python 3",
   "language": "python",
   "name": "python3"
  },
  "language_info": {
   "codemirror_mode": {
    "name": "ipython",
    "version": 3
   },
   "file_extension": ".py",
   "mimetype": "text/x-python",
   "name": "python",
   "nbconvert_exporter": "python",
   "pygments_lexer": "ipython3",
   "version": "3.8.3"
  }
 },
 "nbformat": 4,
 "nbformat_minor": 4
}
