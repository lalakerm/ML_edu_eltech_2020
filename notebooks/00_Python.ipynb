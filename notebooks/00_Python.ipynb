{
 "cells": [
  {
   "cell_type": "markdown",
   "metadata": {
    "colab_type": "text",
    "id": "Qesf_YoJGLD4"
   },
   "source": [
    "# Знакомимся с основами Python"
   ]
  },
  {
   "cell_type": "markdown",
   "metadata": {
    "colab_type": "text",
    "id": "kbkDnoj2RgxY"
   },
   "source": [
    "# Jupyter и управление"
   ]
  },
  {
   "cell_type": "markdown",
   "metadata": {
    "colab_type": "text",
    "id": "d6k0za1RHcXo"
   },
   "source": [
    "В данной практике мы познакомимся с основами языка программирования Python при работе в среде Jupyter. Для начала пройдемся по основным аспектам работы в данной среде:\n",
    "- `Инструменты -> Сочетания клавиш (Ctrl+M H)` - просмотр и настройка основных сочетаний клавиш;\n",
    "- `Shift + Enter` - выполнить ячейку и перейти к следующей;\n",
    "- `Ctrl + Space` - вывести подсказки автодополнения (на основе функций модулей, ваших функций из выполненных ячеек и переменных из выполненных ячеек);\n",
    "\n",
    "Вся среда разработки разбита на **ячейки**, которые содержат код. Так как язык Python интерпретируемый, то все команды в ячейке передаются интерпретатору по очереди. Данное правило работает даже для случая, если ячейки выполняются не последовательно. "
   ]
  },
  {
   "cell_type": "markdown",
   "metadata": {
    "colab_type": "text",
    "id": "V9zCGtuoKksp"
   },
   "source": [
    "Начнем с простого Hello World. Выполните ячейку и вы увидите результат ее выполнения ниже."
   ]
  },
  {
   "cell_type": "code",
   "execution_count": 1,
   "metadata": {
    "colab": {
     "base_uri": "https://localhost:8080/",
     "height": 34
    },
    "colab_type": "code",
    "executionInfo": {
     "elapsed": 999,
     "status": "ok",
     "timestamp": 1598099628873,
     "user": {
      "displayName": "Алексей Девяткин",
      "photoUrl": "",
      "userId": "11945040185410340858"
     },
     "user_tz": -180
    },
    "id": "8Cv-XnvPGRvx",
    "outputId": "76dfc94a-0847-4ae7-b189-73b80cf71fe5"
   },
   "outputs": [
    {
     "name": "stdout",
     "output_type": "stream",
     "text": [
      "Hello World!\n"
     ]
    }
   ],
   "source": [
    "print('Hello World!')"
   ]
  },
  {
   "cell_type": "markdown",
   "metadata": {
    "colab_type": "text",
    "id": "M4QnJ_3aK27F"
   },
   "source": [
    "Часто бывает нужно посмотреть краткую информацию о той или иной функции, среда jupyter также поддерживает краткую справку по функциям, но при этом полное описание с примерами чаще всего можно найти на официальном сайте фреймворка, к которому относится функция.\n",
    "\n",
    "Давайте выведем информацию о функции, которую используем. После выполнения следующей ячейки откроется окно справки, в котором можно прочитать базовую информацию и аргументы функции."
   ]
  },
  {
   "cell_type": "code",
   "execution_count": 2,
   "metadata": {
    "colab": {},
    "colab_type": "code",
    "id": "7SPUO6tTK0XN"
   },
   "outputs": [],
   "source": [
    "print?"
   ]
  },
  {
   "cell_type": "markdown",
   "metadata": {
    "colab_type": "text",
    "id": "TkZxK-67Lihe"
   },
   "source": [
    "Отлично! Мы не только написали свой первый Hello World на Python, но и узнали краткую информацию о функции для вывода в стандартный вывод.\n",
    "\n",
    "> В Google Colab при наведении на функцию или переменную появляется также небольшая справка\n",
    "\n",
    "Самое время перейти к вопросам **управления пакетами**. В языке Python дополнительные модули (библиотеки) поставляются в виде модулей, которые можно установить из стандартного репозитория PyPI (https://pypi.org/). Для того, чтобы в среде jupyter установить пакет для интерпретатора используется волшебная команда с помощью знака \"!\", который предполагает выполнения команд вне синтаксиса языка Python на языке Shell (консольные команды)."
   ]
  },
  {
   "cell_type": "markdown",
   "metadata": {
    "colab_type": "text",
    "id": "joQrUBWgOrCr"
   },
   "source": [
    "Пора установить наш первый необходимый пакет математических операций numpy."
   ]
  },
  {
   "cell_type": "code",
   "execution_count": 3,
   "metadata": {
    "colab": {
     "base_uri": "https://localhost:8080/",
     "height": 34
    },
    "colab_type": "code",
    "executionInfo": {
     "elapsed": 5036,
     "status": "ok",
     "timestamp": 1598099632940,
     "user": {
      "displayName": "Алексей Девяткин",
      "photoUrl": "",
      "userId": "11945040185410340858"
     },
     "user_tz": -180
    },
    "id": "QgEFGLjsOw2I",
    "outputId": "816577d6-445f-4b1f-fbc7-ace3daecf63d"
   },
   "outputs": [
    {
     "name": "stdout",
     "output_type": "stream",
     "text": [
      "Requirement already satisfied: numpy==1.18.5 in d:\\anaconda3\\lib\\site-packages (1.18.5)\n"
     ]
    }
   ],
   "source": [
    "!pip install numpy==1.18.5"
   ]
  },
  {
   "cell_type": "markdown",
   "metadata": {
    "colab_type": "text",
    "id": "TquNzvi1PLss"
   },
   "source": [
    "Команда установки пакета не представляет сложностей, но при этом **всегда** рекомендуется устанавливать конкретную версию пакетов, чтобы не попасть в ловушку версий, когда разработчики пакета изменили определенный функционал, а мы об этом не узнали и программа перестает работать.\n",
    "\n",
    "Чтобы понять, какие версии есть, можно зайти на сайт пакета в репозитории PyPI: https://pypi.org/project/numpy/.\n",
    "\n",
    "<details>\n",
    "    <summary>Как работать с версиями? [Нажми на меня]</summary>\n",
    "\n",
    "В практике работы с Python в папке с проектом создается файл requirements.txt, в который прописывают имена пакета и версии требуемых для проекта пакетов:\n",
    "```\n",
    "numpy==1.19.0\n",
    "pandas==1.0.3\n",
    "```\n",
    "Так для начала работы с проектом легко установить требуемые пакеты командой `pip install -r requirements`.\n",
    "\n",
    "В результате такой файл является источником информации о том, какие пакеты используются в проекте.\n",
    "\n",
    "Если вы начинаете новый проект, то обязательно создайте такой файл и записывайте в него все пакеты и версии, которые используете!\n",
    "</details>"
   ]
  },
  {
   "cell_type": "markdown",
   "metadata": {
    "colab_type": "text",
    "id": "NdHfsit3PenE"
   },
   "source": [
    "После того, как мы установили пакет, давайте попробуем его подключить в нашу среду, чтобы затем использовать."
   ]
  },
  {
   "cell_type": "code",
   "execution_count": 4,
   "metadata": {
    "colab": {},
    "colab_type": "code",
    "id": "7fQou8iYLhrh"
   },
   "outputs": [],
   "source": [
    "import numpy as np"
   ]
  },
  {
   "cell_type": "markdown",
   "metadata": {
    "colab_type": "text",
    "id": "93f6dx9tPoZJ"
   },
   "source": [
    "В данной команде мы познакомились с двумя ключевыми словами Python: `import` и `as`. Первое слово подключает пакет к программе. Второе позволяет переименовать название модуля, чтобы использовать общепринятое сокращение и набирать меньше текста. Так, вместо команды `numpy.linspace()` достаточно написать `np.linspace()`, при этом смысл команды не потерялся. Кстати, что это за команда такая? "
   ]
  },
  {
   "cell_type": "markdown",
   "metadata": {
    "colab_type": "text",
    "id": "N1IG94HncXZl"
   },
   "source": [
    "## Задание\n",
    "\n",
    "Выведите справку по команде `numpy.linspace()` в ячейке ниже.\n",
    "\n",
    "> Не пугайтесь символа \"#\" - это стандартный способ задания однострочного комментария, они игнорируются интерпретатором."
   ]
  },
  {
   "cell_type": "code",
   "execution_count": 5,
   "metadata": {
    "colab": {},
    "colab_type": "code",
    "id": "BNxEH5DWHYus"
   },
   "outputs": [],
   "source": [
    "np.linspace?"
   ]
  },
  {
   "cell_type": "markdown",
   "metadata": {
    "colab_type": "text",
    "id": "U-CnHXZSZIRN"
   },
   "source": [
    "# Немного рекомендаций"
   ]
  },
  {
   "cell_type": "markdown",
   "metadata": {
    "colab_type": "text",
    "id": "-HP9Nj4aZRen"
   },
   "source": [
    "Работа с ноутбуками отличается от разработки через Python скрипты. В этой секции мы обсудим некоторые базовые правила, которых следует придерживаться, чтобы не создавать сложностей при работе с таким форматом.\n",
    "\n",
    "* В ноутбуках можно выполнять ячейки в любом порядке, но это чаще всего приводит к ошибкам, которые трудно разобрать! Пишите код и организуйте выполнение в ячейках **последовательно**.\n",
    "* Если надо поменять код ячейки и перезапустить ее - убедитесь, что вы не забыли ни про какие переменные. Простая проверка - перезапустить ядро (Инструменты -> Перезапустить среду управления) и выполнить все ячейки до измененной.\n",
    "\n",
    "<details>\n",
    "    <summary>Зачем помнить о переменных? [Нажми на меня]</summary>\n",
    "\n",
    "Например, вы выполните ячейку с кодом `a = 3`, а потом ее же перепишите (удалите код ячейки и замените) на `b = a + 2`, то вы получите переменную `b` со значение 5, но вот только такой код не будет рабочим, так как при перезапуске ядра определения переменной не будет существовать. Вся идея в модели исполнения - язык Python интерпретируемый, так что когда вы ему передаете команду `a = 3`, то переменная создастся и останется в памяти пока работает ядро, но рассчитывать на такое - плохо! Надо об этом помнить, но применять это не стоит, лучше явно определять переменные и затем их использовать.\n",
    "</details>\n",
    "\n",
    "* Комментарии! Ноутбуки совмещают два прекрасных компонента - ячейки с кодом, который можно выполнить, и ячейки с текстом, которые поддерживают яык разметки Markdown. Первые дают возможность писать код, а вторые - делать красивые описания. Теперь не только однострочные комментарии в коде доступны, а еще и красивый текст, формулы и картинки!\n"
   ]
  },
  {
   "cell_type": "markdown",
   "metadata": {
    "colab_type": "text",
    "id": "HIxyI13kQrk5"
   },
   "source": [
    "Отлично, значит теперь, мы овладели способностью управлять пакетами, а значит все ранее разработанные модули и функции нам подвластны! Но ведь на то и нужны разработчики, чтобы разрабатывать новое или делать что-то лучше! Сегодня предлагаю заняться первым. Перейдем к основным конструкциям и синтаксису языка Python."
   ]
  },
  {
   "cell_type": "markdown",
   "metadata": {
    "colab_type": "text",
    "id": "i5EqcPFlResP"
   },
   "source": [
    "# Типы данных"
   ]
  },
  {
   "cell_type": "markdown",
   "metadata": {
    "colab_type": "text",
    "id": "kPN5r_z7RkfY"
   },
   "source": [
    "Какой код обойдется без переменных? Всегда должны быть корзинки, которые хранят состояния, чтобы затем можно было использовать. Бегло пройдемся по порядку. Более расширенную информацию вы найдете на оф.сайте: https://docs.python.org/3.7/library/stdtypes.html."
   ]
  },
  {
   "cell_type": "markdown",
   "metadata": {
    "colab_type": "text",
    "id": "iN0g0pfuW5Zg"
   },
   "source": [
    "## Int, Float, Boolean"
   ]
  },
  {
   "cell_type": "code",
   "execution_count": 6,
   "metadata": {
    "colab": {},
    "colab_type": "code",
    "id": "GD8uQZ8YQdJG"
   },
   "outputs": [],
   "source": [
    "var_int = 3\n",
    "var_float = 3.0\n",
    "var_boolean = True"
   ]
  },
  {
   "cell_type": "markdown",
   "metadata": {
    "colab_type": "text",
    "id": "GqpJV4r7Tdah"
   },
   "source": [
    "Целочисленные, с плавающей точкой и булевы значения, классика. Если вы знакомы с любым другим языком, например, С, С++, Java, то вы точно слышали про данные типы. "
   ]
  },
  {
   "cell_type": "markdown",
   "metadata": {
    "colab_type": "text",
    "id": "dn6bvtGoW_wK"
   },
   "source": [
    "## Complex"
   ]
  },
  {
   "cell_type": "code",
   "execution_count": 7,
   "metadata": {
    "colab": {},
    "colab_type": "code",
    "id": "QKdBfJ_0TR7E"
   },
   "outputs": [],
   "source": [
    "var_complex = 3+2j"
   ]
  },
  {
   "cell_type": "markdown",
   "metadata": {
    "colab_type": "text",
    "id": "Ej_QVagDT6N-"
   },
   "source": [
    "Комплексные числа, уже интереснее. На них распространяются все математические правила, вы даже можете проверить это, создав новую ячейку и проведя интересующие операции."
   ]
  },
  {
   "cell_type": "markdown",
   "metadata": {
    "colab_type": "text",
    "id": "vBeoJ60hXCJj"
   },
   "source": [
    "## String"
   ]
  },
  {
   "cell_type": "code",
   "execution_count": 8,
   "metadata": {
    "colab": {},
    "colab_type": "code",
    "id": "8y7n80P3TTBy"
   },
   "outputs": [],
   "source": [
    "var_string = 'hello text'\n",
    "var_another_string = \"me too!\"\n",
    "var_multiline_string = '''\n",
    "    big\n",
    "    multiline\n",
    "    string\n",
    "'''"
   ]
  },
  {
   "cell_type": "markdown",
   "metadata": {
    "colab_type": "text",
    "id": "1etXpMQmUHsB"
   },
   "source": [
    "Различные способы задания строковых значений, пользуйтесь на здоровье."
   ]
  },
  {
   "cell_type": "markdown",
   "metadata": {
    "colab_type": "text",
    "id": "bbHtfu30XD07"
   },
   "source": [
    "## None"
   ]
  },
  {
   "cell_type": "code",
   "execution_count": 9,
   "metadata": {
    "colab": {},
    "colab_type": "code",
    "id": "8zcRvMULTVID"
   },
   "outputs": [],
   "source": [
    "var_none = None"
   ]
  },
  {
   "cell_type": "markdown",
   "metadata": {
    "colab_type": "text",
    "id": "Z-IOAabvUOTu"
   },
   "source": [
    "В языке Python также присутствует специальный тип None, он обособлен от остальных, но пользуется крайне высокой популярностью."
   ]
  },
  {
   "cell_type": "markdown",
   "metadata": {
    "colab_type": "text",
    "id": "YnKYFUFmUY7K"
   },
   "source": [
    "Теперь коснемся контейнерных типов."
   ]
  },
  {
   "cell_type": "markdown",
   "metadata": {
    "colab_type": "text",
    "id": "-jaCmvHQXFiN"
   },
   "source": [
    "## List"
   ]
  },
  {
   "cell_type": "code",
   "execution_count": 10,
   "metadata": {
    "colab": {},
    "colab_type": "code",
    "id": "twreijv7TZKt"
   },
   "outputs": [],
   "source": [
    "var_list = [1, '111']"
   ]
  },
  {
   "cell_type": "markdown",
   "metadata": {
    "colab_type": "text",
    "id": "eIZv__ejVArI"
   },
   "source": [
    "Список, базовый контейнер для хранения набора данных. Не ограничен конкретным типом. Поддерживает динамическое расширение и удаление элементов. Как же обратиться к элементу списка?"
   ]
  },
  {
   "cell_type": "code",
   "execution_count": 11,
   "metadata": {
    "colab": {
     "base_uri": "https://localhost:8080/",
     "height": 34
    },
    "colab_type": "code",
    "executionInfo": {
     "elapsed": 4932,
     "status": "ok",
     "timestamp": 1598099632945,
     "user": {
      "displayName": "Алексей Девяткин",
      "photoUrl": "",
      "userId": "11945040185410340858"
     },
     "user_tz": -180
    },
    "id": "WRGZ8YJoVq9x",
    "outputId": "86848efa-91ca-440c-ed33-a76d05b741e5"
   },
   "outputs": [
    {
     "data": {
      "text/plain": [
       "'111'"
      ]
     },
     "execution_count": 11,
     "metadata": {},
     "output_type": "execute_result"
    }
   ],
   "source": [
    "var_list[1]"
   ]
  },
  {
   "cell_type": "markdown",
   "metadata": {
    "colab_type": "text",
    "id": "rTXPAizHVvuo"
   },
   "source": [
    "Напомним, что **индексация начинается с 0**.\n",
    "\n",
    "Попробуем изменить элемент и вывести список."
   ]
  },
  {
   "cell_type": "code",
   "execution_count": 12,
   "metadata": {
    "colab": {
     "base_uri": "https://localhost:8080/",
     "height": 34
    },
    "colab_type": "code",
    "executionInfo": {
     "elapsed": 4917,
     "status": "ok",
     "timestamp": 1598099632946,
     "user": {
      "displayName": "Алексей Девяткин",
      "photoUrl": "",
      "userId": "11945040185410340858"
     },
     "user_tz": -180
    },
    "id": "X10nto8sV6RO",
    "outputId": "1953b8fe-80c9-4d73-fda2-739cae9aec3a"
   },
   "outputs": [
    {
     "data": {
      "text/plain": [
       "[501, '111']"
      ]
     },
     "execution_count": 12,
     "metadata": {},
     "output_type": "execute_result"
    }
   ],
   "source": [
    "var_list[0] = 501\n",
    "var_list"
   ]
  },
  {
   "cell_type": "markdown",
   "metadata": {
    "colab_type": "text",
    "id": "3o2pxOb3V99r"
   },
   "source": [
    "> Обратите внимание, чтобы просмотреть значение переменной достаточно написать ее имя.\n",
    "\n",
    "Как же получить индекс элемента по значению?"
   ]
  },
  {
   "cell_type": "code",
   "execution_count": 13,
   "metadata": {
    "colab": {
     "base_uri": "https://localhost:8080/",
     "height": 34
    },
    "colab_type": "code",
    "executionInfo": {
     "elapsed": 4900,
     "status": "ok",
     "timestamp": 1598099632946,
     "user": {
      "displayName": "Алексей Девяткин",
      "photoUrl": "",
      "userId": "11945040185410340858"
     },
     "user_tz": -180
    },
    "id": "DNpGWqoIWdcm",
    "outputId": "27e6cff4-5059-435b-a246-1fccccdceebc"
   },
   "outputs": [
    {
     "data": {
      "text/plain": [
       "1"
      ]
     },
     "execution_count": 13,
     "metadata": {},
     "output_type": "execute_result"
    }
   ],
   "source": [
    "var_list.index('111')"
   ]
  },
  {
   "cell_type": "markdown",
   "metadata": {
    "colab_type": "text",
    "id": "KuOI-DBecMsX"
   },
   "source": [
    "### Задание\n",
    "\n",
    "Посмотрите, что будет, если записать по индексу [1] любое значение."
   ]
  },
  {
   "cell_type": "code",
   "execution_count": 14,
   "metadata": {},
   "outputs": [
    {
     "data": {
      "text/plain": [
       "[501, 2]"
      ]
     },
     "execution_count": 14,
     "metadata": {},
     "output_type": "execute_result"
    }
   ],
   "source": [
    "var_list[1] = 2\n",
    "var_list"
   ]
  },
  {
   "cell_type": "markdown",
   "metadata": {
    "colab_type": "text",
    "id": "eJs0Y-e0WgiZ"
   },
   "source": [
    "Как видно, функция `index()` вызывается от самого списка (то есть это функция списка) и выводит индекс элемента, если такое значение есть. Теперь проверьте, что же будет, если вызвать `index()` по значению, которого нет?"
   ]
  },
  {
   "cell_type": "code",
   "execution_count": 15,
   "metadata": {
    "colab": {},
    "colab_type": "code",
    "id": "9f_4onVKW1Yp"
   },
   "outputs": [
    {
     "ename": "ValueError",
     "evalue": "'a' is not in list",
     "output_type": "error",
     "traceback": [
      "\u001b[1;31m---------------------------------------------------------------------------\u001b[0m",
      "\u001b[1;31mValueError\u001b[0m                                Traceback (most recent call last)",
      "\u001b[1;32m<ipython-input-15-76cee1d8bc37>\u001b[0m in \u001b[0;36m<module>\u001b[1;34m\u001b[0m\n\u001b[1;32m----> 1\u001b[1;33m \u001b[0me\u001b[0m \u001b[1;33m=\u001b[0m \u001b[0mvar_list\u001b[0m\u001b[1;33m.\u001b[0m\u001b[0mindex\u001b[0m\u001b[1;33m(\u001b[0m\u001b[1;34m'a'\u001b[0m\u001b[1;33m)\u001b[0m\u001b[1;33m\u001b[0m\u001b[1;33m\u001b[0m\u001b[0m\n\u001b[0m",
      "\u001b[1;31mValueError\u001b[0m: 'a' is not in list"
     ]
    }
   ],
   "source": [
    "var_list.index('a')"
   ]
  },
  {
   "cell_type": "markdown",
   "metadata": {
    "colab_type": "text",
    "id": "kUthmzbtXNuB"
   },
   "source": [
    "Отлично, вот конкретно это *значение* он возвращает, если элемента нет. Осталось узнать, как добавить элемент в список. Воспользуйтесь функцией `append()` списка, чтобы добавить элемент в список и выведите весь список."
   ]
  },
  {
   "cell_type": "code",
   "execution_count": 16,
   "metadata": {
    "colab": {},
    "colab_type": "code",
    "id": "5e79CkE8XlLt"
   },
   "outputs": [
    {
     "data": {
      "text/plain": [
       "[501, 2, 'a']"
      ]
     },
     "execution_count": 16,
     "metadata": {},
     "output_type": "execute_result"
    }
   ],
   "source": [
    "var_list.append('a')\n",
    "var_list"
   ]
  },
  {
   "cell_type": "markdown",
   "metadata": {
    "colab_type": "text",
    "id": "9mIXJAYqXHJt"
   },
   "source": [
    "## Tuple"
   ]
  },
  {
   "cell_type": "code",
   "execution_count": 17,
   "metadata": {
    "colab": {},
    "colab_type": "code",
    "id": "4OYDtdkhTZyx"
   },
   "outputs": [],
   "source": [
    "var_tuple = (1, '111', 'hey')"
   ]
  },
  {
   "cell_type": "markdown",
   "metadata": {
    "colab_type": "text",
    "id": "psnLbBZzVUuW"
   },
   "source": [
    "Кортеж, вроде похож на список, но вот его главное отличие в том, что он неизменяет (Immutable).\n",
    "\n",
    "> Подробнее о mutable/immutable почитайте здесь: https://realpython.com/courses/immutability-python/\n"
   ]
  },
  {
   "cell_type": "markdown",
   "metadata": {
    "colab_type": "text",
    "id": "bdjlDJumcJ-d"
   },
   "source": [
    "### Задание\n",
    "\n",
    "Посмотрите, что будет, если записать по индексу [1] любое значение."
   ]
  },
  {
   "cell_type": "code",
   "execution_count": 18,
   "metadata": {
    "colab": {},
    "colab_type": "code",
    "id": "V67Sbb_IYiNb"
   },
   "outputs": [
    {
     "ename": "TypeError",
     "evalue": "'tuple' object does not support item assignment",
     "output_type": "error",
     "traceback": [
      "\u001b[1;31m---------------------------------------------------------------------------\u001b[0m",
      "\u001b[1;31mTypeError\u001b[0m                                 Traceback (most recent call last)",
      "\u001b[1;32m<ipython-input-18-9137cc97d477>\u001b[0m in \u001b[0;36m<module>\u001b[1;34m\u001b[0m\n\u001b[1;32m----> 1\u001b[1;33m \u001b[0mvar_tuple\u001b[0m\u001b[1;33m[\u001b[0m\u001b[1;36m1\u001b[0m\u001b[1;33m]\u001b[0m \u001b[1;33m=\u001b[0m \u001b[1;34m'a'\u001b[0m\u001b[1;33m\u001b[0m\u001b[1;33m\u001b[0m\u001b[0m\n\u001b[0m",
      "\u001b[1;31mTypeError\u001b[0m: 'tuple' object does not support item assignment"
     ]
    }
   ],
   "source": [
    "var_tuple[1] = 'a'"
   ]
  },
  {
   "cell_type": "markdown",
   "metadata": {
    "colab_type": "text",
    "id": "TCTkgqD8XIjW"
   },
   "source": [
    "## Dict"
   ]
  },
  {
   "cell_type": "code",
   "execution_count": 19,
   "metadata": {
    "colab": {},
    "colab_type": "code",
    "id": "x6nafJapTWd0"
   },
   "outputs": [],
   "source": [
    "var_dict = {\n",
    "    'string_key': 'string_value',\n",
    "    1: 'oh, integer key?'\n",
    "}"
   ]
  },
  {
   "cell_type": "markdown",
   "metadata": {
    "colab_type": "text",
    "id": "GN4nIr0XYmQ1"
   },
   "source": [
    "Словарь, очень интересный и полезный тип. Хранит данные по принципу ключ-значение. Ключ должен быть уникальным. Можно обращаться к конкретным элементам по ключу. Поддерживает запись новых элементов по несуществующему ключу."
   ]
  },
  {
   "cell_type": "code",
   "execution_count": 20,
   "metadata": {
    "colab": {
     "base_uri": "https://localhost:8080/",
     "height": 34
    },
    "colab_type": "code",
    "executionInfo": {
     "elapsed": 5618,
     "status": "ok",
     "timestamp": 1598099633751,
     "user": {
      "displayName": "Алексей Девяткин",
      "photoUrl": "",
      "userId": "11945040185410340858"
     },
     "user_tz": -180
    },
    "id": "X4bEXPhgY-qu",
    "outputId": "9f197a2b-66fb-4742-ccdb-879413759a16"
   },
   "outputs": [
    {
     "data": {
      "text/plain": [
       "'string_value'"
      ]
     },
     "execution_count": 20,
     "metadata": {},
     "output_type": "execute_result"
    }
   ],
   "source": [
    "var_dict['string_key']"
   ]
  },
  {
   "cell_type": "code",
   "execution_count": 21,
   "metadata": {
    "colab": {
     "base_uri": "https://localhost:8080/",
     "height": 34
    },
    "colab_type": "code",
    "executionInfo": {
     "elapsed": 5603,
     "status": "ok",
     "timestamp": 1598099633752,
     "user": {
      "displayName": "Алексей Девяткин",
      "photoUrl": "",
      "userId": "11945040185410340858"
     },
     "user_tz": -180
    },
    "id": "nZsXIhX0ZKPE",
    "outputId": "442f2fdf-e5a3-4bdf-ed97-9de18a523d8d"
   },
   "outputs": [
    {
     "data": {
      "text/plain": [
       "{'string_key': 'string_value', 1: 'oh, integer key?', 'new_key': 'new_value'}"
      ]
     },
     "execution_count": 21,
     "metadata": {},
     "output_type": "execute_result"
    }
   ],
   "source": [
    "var_dict['new_key'] = 'new_value'\n",
    "var_dict"
   ]
  },
  {
   "cell_type": "markdown",
   "metadata": {
    "colab_type": "text",
    "id": "3IjO3edHZi2F"
   },
   "source": [
    "### Задание\n",
    "\n",
    "Попробуйте создать новый словарь `new_dict` с другими парами ключ-значение и воспользуйтесь функцией `var_dict.update(new_dict)` (мы передаем новый словарь как аргумент функции). Посмотрите, что поменялось в обоих словарях."
   ]
  },
  {
   "cell_type": "code",
   "execution_count": 22,
   "metadata": {
    "colab": {},
    "colab_type": "code",
    "id": "vdsT1U4MZ8Pl"
   },
   "outputs": [
    {
     "data": {
      "text/plain": [
       "{100: 'one hundred', 'a': 'b'}"
      ]
     },
     "execution_count": 22,
     "metadata": {},
     "output_type": "execute_result"
    }
   ],
   "source": [
    "new_dict = {\n",
    "    100: 'one hundred',\n",
    "    'a': 'b'\n",
    "}\n",
    "var_dict.update(new_dict)\n",
    "new_dict"
   ]
  },
  {
   "cell_type": "code",
   "execution_count": 23,
   "metadata": {},
   "outputs": [
    {
     "data": {
      "text/plain": [
       "{'string_key': 'string_value',\n",
       " 1: 'oh, integer key?',\n",
       " 'new_key': 'new_value',\n",
       " 100: 'one hundred',\n",
       " 'a': 'b'}"
      ]
     },
     "execution_count": 23,
     "metadata": {},
     "output_type": "execute_result"
    }
   ],
   "source": [
    "var_dict"
   ]
  },
  {
   "cell_type": "markdown",
   "metadata": {
    "colab_type": "text",
    "id": "tXdPUt8TXJ1N"
   },
   "source": [
    "## Set"
   ]
  },
  {
   "cell_type": "code",
   "execution_count": 24,
   "metadata": {
    "colab": {},
    "colab_type": "code",
    "id": "NPtQmNtSTXOk"
   },
   "outputs": [],
   "source": [
    "var_set = {\n",
    "    'no, keys',\n",
    "    'only unique values!'\n",
    "}"
   ]
  },
  {
   "cell_type": "markdown",
   "metadata": {
    "colab_type": "text",
    "id": "sRtAVj9kZ_6r"
   },
   "source": [
    "Множество, очень похож по определению на словарь скобками, но он уникален тем, что хранит только уникальные значения."
   ]
  },
  {
   "cell_type": "markdown",
   "metadata": {
    "colab_type": "text",
    "id": "mWiGshiaaTc8"
   },
   "source": [
    "### Задание\n",
    "\n",
    "Создайте свое множество `new_set` и с помощью операторов \"|\" и \"&\" получите объединение и пересечение множеств. Выведите результаты."
   ]
  },
  {
   "cell_type": "code",
   "execution_count": 25,
   "metadata": {
    "colab": {},
    "colab_type": "code",
    "id": "hfhRlEi5ajhE"
   },
   "outputs": [],
   "source": [
    "new_set = {'no, keys', 'another value'}"
   ]
  },
  {
   "cell_type": "code",
   "execution_count": 26,
   "metadata": {},
   "outputs": [
    {
     "data": {
      "text/plain": [
       "{'another value', 'no, keys', 'only unique values!'}"
      ]
     },
     "execution_count": 26,
     "metadata": {},
     "output_type": "execute_result"
    }
   ],
   "source": [
    "new_set | var_set"
   ]
  },
  {
   "cell_type": "code",
   "execution_count": 27,
   "metadata": {},
   "outputs": [
    {
     "data": {
      "text/plain": [
       "{'no, keys'}"
      ]
     },
     "execution_count": 27,
     "metadata": {},
     "output_type": "execute_result"
    }
   ],
   "source": [
    "new_set & var_set"
   ]
  },
  {
   "cell_type": "markdown",
   "metadata": {
    "colab_type": "text",
    "id": "OF2Gn5YAak_d"
   },
   "source": [
    "## Заключение"
   ]
  },
  {
   "cell_type": "markdown",
   "metadata": {
    "colab_type": "text",
    "id": "qFyOIyUfapJW"
   },
   "source": [
    "Замечательно! Мы познакомились с основными типами данных, давайте подведем главный итог - для определения переменной достаточно написать название переменной и присвоить ей значение. Тип переменной конкретно не указывается, так как Python - **динамически типизируемый язык** и определяет тип в ходе работы. Именно эта особенность позволяет, например, спискам хранить разные типы данных. \n",
    "\n",
    "> Большая просьба к будущим разработчика, не называйте свои переменные (и функции) менее, чем в три символа. Ваш код - это рассказ того, что программа делает, поэтому переменные (и функции) - слова, которыми вы говорите. Называйте переменные в соответсвии с их назначением, ёмко и лаконично."
   ]
  },
  {
   "cell_type": "markdown",
   "metadata": {
    "colab_type": "text",
    "id": "Z23ssWtAboFC"
   },
   "source": [
    "# Циклы"
   ]
  },
  {
   "cell_type": "markdown",
   "metadata": {
    "colab_type": "text",
    "id": "RESCcfwXb0Kd"
   },
   "source": [
    "С переменными освоились, но только на них логику не построить - нужно уметь создавать управляющую логику и **циклы** - один из важных интсрументов в языках. Начнем с простого `while`. Как и во многих языках он проверяет условное значение на каждой итерации."
   ]
  },
  {
   "cell_type": "code",
   "execution_count": 28,
   "metadata": {
    "colab": {
     "base_uri": "https://localhost:8080/",
     "height": 190
    },
    "colab_type": "code",
    "executionInfo": {
     "elapsed": 5548,
     "status": "ok",
     "timestamp": 1598099633755,
     "user": {
      "displayName": "Алексей Девяткин",
      "photoUrl": "",
      "userId": "11945040185410340858"
     },
     "user_tz": -180
    },
    "id": "hZATQDonZVaV",
    "outputId": "c373df37-8f92-4a0e-ea7c-658cf0666bc4"
   },
   "outputs": [
    {
     "name": "stdout",
     "output_type": "stream",
     "text": [
      "0\n",
      "1\n",
      "2\n",
      "3\n",
      "4\n",
      "5\n",
      "6\n",
      "7\n",
      "8\n",
      "9\n"
     ]
    }
   ],
   "source": [
    "iter = 0\n",
    "while iter < 10:\n",
    "    print(iter)\n",
    "    # Python не имеет операций инкремента/декремента (++/--)\n",
    "    iter += 1"
   ]
  },
  {
   "cell_type": "markdown",
   "metadata": {
    "colab_type": "text",
    "id": "Y_8of8XGdnQr"
   },
   "source": [
    "Вот и получился простой цикл от 0 до 9. Но такую конструкцию вы вряд ли встретите, так как для генерации последовательности чисел есть очень полезная функция `range()`. Сделаем тоже самое, но в цикле `for` и с помощью нового ключевого слова `in`."
   ]
  },
  {
   "cell_type": "code",
   "execution_count": 29,
   "metadata": {
    "colab": {
     "base_uri": "https://localhost:8080/",
     "height": 190
    },
    "colab_type": "code",
    "executionInfo": {
     "elapsed": 5531,
     "status": "ok",
     "timestamp": 1598099633755,
     "user": {
      "displayName": "Алексей Девяткин",
      "photoUrl": "",
      "userId": "11945040185410340858"
     },
     "user_tz": -180
    },
    "id": "0FGI7UWadhMT",
    "outputId": "5ded65cc-f73d-4439-dc5f-1885e9b76c78"
   },
   "outputs": [
    {
     "name": "stdout",
     "output_type": "stream",
     "text": [
      "0\n",
      "1\n",
      "2\n",
      "3\n",
      "4\n",
      "5\n",
      "6\n",
      "7\n",
      "8\n",
      "9\n"
     ]
    }
   ],
   "source": [
    "for iter in range(10):\n",
    "    print(iter)"
   ]
  },
  {
   "cell_type": "markdown",
   "metadata": {
    "colab_type": "text",
    "id": "dw0nt51Nee7R"
   },
   "source": [
    "Немного слов о том, что здесь творится. Ключевое слово `in` в конструкции цикла `for` выполняет функцию получения значений одного за другим из списка справа. На самом деле, функция `range()` создает объект подобный списку, по которому цикл проходит и в каждой итерации размещает значение в переменную `iter`, которую мы и выводим."
   ]
  },
  {
   "cell_type": "markdown",
   "metadata": {
    "colab_type": "text",
    "id": "NaMYoLkBe47b"
   },
   "source": [
    "## Задание\n",
    "\n",
    "Закрепим, создайте свой список и выполните проход по нему с помощью цикла `for`."
   ]
  },
  {
   "cell_type": "code",
   "execution_count": 30,
   "metadata": {
    "colab": {},
    "colab_type": "code",
    "id": "_qqbULlVeI92"
   },
   "outputs": [
    {
     "name": "stdout",
     "output_type": "stream",
     "text": [
      "1\n",
      "2\n",
      "3\n"
     ]
    }
   ],
   "source": [
    "iter_list = [1, 2, 3]\n",
    "for i in range(len(iter_list)):\n",
    "    print(iter_list[i])"
   ]
  },
  {
   "cell_type": "markdown",
   "metadata": {
    "colab_type": "text",
    "id": "vL4OjGWpfLRj"
   },
   "source": [
    "Также, в Python присутствуют ключевые слова `break` и `continue`. Первое слово прерывает цикл, второе - переходит к следующей итерации."
   ]
  },
  {
   "cell_type": "markdown",
   "metadata": {
    "colab_type": "text",
    "id": "izqk9TF-fgWy"
   },
   "source": [
    "# Функции"
   ]
  },
  {
   "cell_type": "markdown",
   "metadata": {
    "colab_type": "text",
    "id": "yp2KA4r9fwiQ"
   },
   "source": [
    "После того, как мы научились строить зацикленные конструкции, проходить по спискам, нужно научиться объединять код в функции, что делает его более структурированным и понятным, а также исключает огромное количество ошибок. Для начала определим простую функцию, которая выполняет суммирование."
   ]
  },
  {
   "cell_type": "code",
   "execution_count": 31,
   "metadata": {
    "colab": {},
    "colab_type": "code",
    "id": "6mLZC3UxfK1C"
   },
   "outputs": [],
   "source": [
    "def summation(a, b):\n",
    "    return a + b"
   ]
  },
  {
   "cell_type": "markdown",
   "metadata": {
    "colab_type": "text",
    "id": "UIWT2KgRgJal"
   },
   "source": [
    "- `def` - ключевое слово определения функции;\n",
    "- `summation` - название функции;\n",
    "- `a, b` - два аргумента функции;\n",
    "- `return` - ключевое слово возврата результата функции; если не определено - функция вернет None;\n",
    "\n",
    "Хорошо, функцию определили, пора бы ее использовать."
   ]
  },
  {
   "cell_type": "code",
   "execution_count": 32,
   "metadata": {
    "colab": {},
    "colab_type": "code",
    "id": "bPH90n6igfbg"
   },
   "outputs": [],
   "source": [
    "result = summation(1, 4)"
   ]
  },
  {
   "cell_type": "code",
   "execution_count": 33,
   "metadata": {
    "colab": {
     "base_uri": "https://localhost:8080/",
     "height": 34
    },
    "colab_type": "code",
    "executionInfo": {
     "elapsed": 5481,
     "status": "ok",
     "timestamp": 1598099633758,
     "user": {
      "displayName": "Алексей Девяткин",
      "photoUrl": "",
      "userId": "11945040185410340858"
     },
     "user_tz": -180
    },
    "id": "k_5TxLEOJ-Ds",
    "outputId": "8a002a6a-6a20-4dca-a90b-eb8adc70f86c"
   },
   "outputs": [
    {
     "data": {
      "text/plain": [
       "5"
      ]
     },
     "execution_count": 33,
     "metadata": {},
     "output_type": "execute_result"
    }
   ],
   "source": [
    "result"
   ]
  },
  {
   "cell_type": "markdown",
   "metadata": {
    "colab_type": "text",
    "id": "LUEMHb0QgqFr"
   },
   "source": [
    "Отлично, мы видим в выводе, что результат соответствует ожиданиям.\n",
    "\n",
    "> Не забывайте, что много кода присутствует в стандартной библиотеке Python и устанавливаемых модулях. Например, гляньте здесь: https://docs.python.org/3/library/functions.html. Также, гугл всегда поможет!"
   ]
  },
  {
   "cell_type": "markdown",
   "metadata": {
    "colab_type": "text",
    "id": "w0rvY_XicwbT"
   },
   "source": [
    "## Задание\n",
    "\n",
    "Напишите функцию для вычисления периметра прямоугольника. В качестве аргументов передайте стороны прямоугольника."
   ]
  },
  {
   "cell_type": "code",
   "execution_count": 34,
   "metadata": {
    "colab": {},
    "colab_type": "code",
    "id": "4DE6yOUsdUcR"
   },
   "outputs": [],
   "source": [
    "def rectangle_perimeter (a, b, c, d):\n",
    "    return a + b + c + d"
   ]
  },
  {
   "cell_type": "code",
   "execution_count": 35,
   "metadata": {},
   "outputs": [
    {
     "data": {
      "text/plain": [
       "4"
      ]
     },
     "execution_count": 35,
     "metadata": {},
     "output_type": "execute_result"
    }
   ],
   "source": [
    "rectangle_perimeter (1, 1, 1, 1)"
   ]
  },
  {
   "cell_type": "markdown",
   "metadata": {
    "colab_type": "text",
    "id": "rktsjak0Bnyc"
   },
   "source": [
    "# Классы и объекты"
   ]
  },
  {
   "cell_type": "markdown",
   "metadata": {
    "colab_type": "text",
    "id": "EpqTR9tRBsQD"
   },
   "source": [
    "Для дальнейшей работы мы пройдемся по основным понятиям, связанным с классами. **Крайне рекомендуется ознакомиться с концепцией ООП в специализированной литературе**, а в данной секции мы просто конкретизируем терминологию, чтобы далее ее использовать.\n",
    "\n",
    "> Полезные ссылки:\n",
    "> - https://python-scripts.com/object-oriented-programming-in-python\n",
    "\n",
    "Язык Python является интерпретируемым и имеет поддержку ООП. Эти два факта приводят к одному простому правилу: **в языке Python все является объектом**.\n",
    "\n",
    "Что это значит? Да именно то, что даже определение переменной создает объект. По сравнению с, например, языком С++, где создание переменной через `int var = 3;` лишь выделяет кусочек памяти, то в Python `var = 3` создает объект класса. "
   ]
  },
  {
   "cell_type": "markdown",
   "metadata": {
    "colab_type": "text",
    "id": "iL7gOQb9hFwi"
   },
   "source": [
    "Теперь обратимся к четырем основным терминам, которые относятся к теме:\n",
    "- **класс** - прототип, описание, которое определяет содержание объектов;\n",
    "- **объект** - сущность определенного класса, если класс считать чертежом машины, то объект - сама машина по чертежу;\n",
    "- **атрибуты класса** - переменные, которые содержатся в классе (и соответственно в объектах);\n",
    "- **методы класса** - функции, которые содержатся в классе (и соответственно в объектах).\n",
    "\n",
    "> Данные описания терминов не являются точными и нацелены на упрощение понимания, нежели на точную характеристику.\n",
    "\n",
    "Разберем на примере языка Python и научимся писать свои. Для начала создадим класс `MyClass`, создадим конструктор (метод, который вызывается при создании объекта данного класса - `__init__()`) с аргументом `value`, метод `sample_method()` и определим член класса `member_var` со значением 10. В конструкторе сохраним значение аргумента в `member_var`. Метод будет выводить некоторую информацию и отображать значение члена класса `member_var`.\n"
   ]
  },
  {
   "cell_type": "code",
   "execution_count": 36,
   "metadata": {
    "colab": {},
    "colab_type": "code",
    "id": "kgjXQpXoi_J-"
   },
   "outputs": [],
   "source": [
    "class MyClass:\n",
    "    def __init__(self, value):\n",
    "        self.member_var = value\n",
    "    \n",
    "    def sample_method(self):\n",
    "        print(f'sample_method() called with {self.member_var}')"
   ]
  },
  {
   "cell_type": "markdown",
   "metadata": {
    "colab_type": "text",
    "id": "mcLT-u9GjBx9"
   },
   "source": [
    "Обратите внимание, во всех методах передается первым аргументом некоторый `self` - это фактически указатель на объект класса. Запись `self.member_var = value` означает \"объекту Я в атрибут класса `member_var` записать значение `value`\". Этот аргумент нужен, чтобы управлять содержанием объекта явно, так как в конструкторе можно создать переменную `member_var` без `self`, но от этого она не станет атрибутом класса - просто локальной переменной внутри конструктора."
   ]
  },
  {
   "cell_type": "markdown",
   "metadata": {
    "colab_type": "text",
    "id": "6emUcq7akUih"
   },
   "source": [
    "После того, как класс написан, надо создать объект, а лучше парочку, и вызвать методы."
   ]
  },
  {
   "cell_type": "code",
   "execution_count": 37,
   "metadata": {
    "colab": {
     "base_uri": "https://localhost:8080/",
     "height": 86
    },
    "colab_type": "code",
    "executionInfo": {
     "elapsed": 5456,
     "status": "ok",
     "timestamp": 1598099633759,
     "user": {
      "displayName": "Алексей Девяткин",
      "photoUrl": "",
      "userId": "11945040185410340858"
     },
     "user_tz": -180
    },
    "id": "xnjiw2hpkqFw",
    "outputId": "435e0b34-d9ee-4862-b129-ea449be1069c"
   },
   "outputs": [
    {
     "name": "stdout",
     "output_type": "stream",
     "text": [
      "sample_method() called with 10\n",
      "sample_method() called with 20\n",
      "----- After modification -----\n",
      "sample_method() called with 11\n"
     ]
    }
   ],
   "source": [
    "my_object_1 = MyClass(10)\n",
    "my_object_2 = MyClass(20)\n",
    "\n",
    "my_object_1.sample_method()\n",
    "my_object_2.sample_method()\n",
    "\n",
    "# Обратимся к члену класса member_var конкретного объекта, модифицируем и выведем еще раз\n",
    "my_object_1.member_var = 11\n",
    "print('----- After modification -----')\n",
    "my_object_1.sample_method()"
   ]
  },
  {
   "cell_type": "markdown",
   "metadata": {
    "colab_type": "text",
    "id": "IogpB_DVk0hW"
   },
   "source": [
    "Мы выяснили, как создать объект класса, передать в конструктор аргументы и получить доступ к членам и методам класса конкретного объекта. Как видим, это несложно и нужно для понимания того, что в следующем коде делаются аналогичные вещи (создается объект класса `list`, и вызывается метод `append()`)."
   ]
  },
  {
   "cell_type": "code",
   "execution_count": 38,
   "metadata": {
    "colab": {
     "base_uri": "https://localhost:8080/",
     "height": 34
    },
    "colab_type": "code",
    "executionInfo": {
     "elapsed": 5443,
     "status": "ok",
     "timestamp": 1598099633760,
     "user": {
      "displayName": "Алексей Девяткин",
      "photoUrl": "",
      "userId": "11945040185410340858"
     },
     "user_tz": -180
    },
    "id": "-hLaQseQlcFf",
    "outputId": "701cb063-9fc8-437f-a26e-b031311eb6eb"
   },
   "outputs": [
    {
     "data": {
      "text/plain": [
       "[1, 2, 3, 10]"
      ]
     },
     "execution_count": 38,
     "metadata": {},
     "output_type": "execute_result"
    }
   ],
   "source": [
    "sample_list = list([1, 2, 3])\n",
    "# То же самое: sample_list = [1, 2, 3]\n",
    "\n",
    "sample_list.append(10)\n",
    "\n",
    "sample_list"
   ]
  },
  {
   "cell_type": "markdown",
   "metadata": {
    "colab_type": "text",
    "id": "G8vKMdvPl5B0"
   },
   "source": [
    "Замечательно! Вспомнили основные понятия, которые относятся к классам и готовы идти дальше!\n",
    "\n",
    "Для чего это нужно? Большинство модулей строится на основе классов, так как это отличный способ разделить код по частям, чтобы затем из них было проще собирать конечную программу."
   ]
  },
  {
   "cell_type": "markdown",
   "metadata": {
    "colab_type": "text",
    "id": "tyr2BxI8hJ__"
   },
   "source": [
    "## Задание\n",
    "\n",
    "Напишите класс без конструктора (так можно, у него будет конструктор по-умолчанию) с методом, который на вход принимает число `x` и производит вычисления по формуле: $2*e^{x}$ \n",
    "\n",
    "Для вычисления степени экспоненты воспользуйтесь функцией `exp()` модуля `math` (не забудьте подключить его, устаналивать не требуется). \n",
    "\n",
    "Выведите в цикле значения метода при целочисленных аргументах от 4 до 12 с использованием новой функции.\n",
    "\n",
    "> Для создания диапазона чисел (для цикла) воспользуйтесь справкой функции `range()`"
   ]
  },
  {
   "cell_type": "code",
   "execution_count": 39,
   "metadata": {
    "colab": {},
    "colab_type": "code",
    "id": "LXnvKjIQgo8O"
   },
   "outputs": [],
   "source": [
    "import math\n",
    "class NoConstructorClass:\n",
    "    def exp_formula_calc(self, x):\n",
    "        return 2*math.exp(x)"
   ]
  },
  {
   "cell_type": "code",
   "execution_count": 40,
   "metadata": {},
   "outputs": [
    {
     "name": "stdout",
     "output_type": "stream",
     "text": [
      "109.19630006628847\n",
      "296.8263182051532\n",
      "806.8575869854702\n",
      "2193.266316856917\n",
      "5961.915974083457\n",
      "16206.167855150768\n",
      "44052.931589613436\n",
      "119748.28343039563\n"
     ]
    }
   ],
   "source": [
    "calc1 = NoConstructorClass()\n",
    "for x in range(4, 12):\n",
    "    print(calc1.exp_formula_calc(x))"
   ]
  },
  {
   "cell_type": "markdown",
   "metadata": {
    "colab_type": "text",
    "id": "LSPXTvDOdeAK"
   },
   "source": [
    "# Форматированные строки"
   ]
  },
  {
   "cell_type": "markdown",
   "metadata": {
    "colab_type": "text",
    "id": "DcEgqT34diH0"
   },
   "source": [
    "> **Форматированные строки** - строки со втроенными значениями данных. Более подробно в примере:"
   ]
  },
  {
   "cell_type": "code",
   "execution_count": 41,
   "metadata": {
    "colab": {},
    "colab_type": "code",
    "id": "UsC4mJvnaru3"
   },
   "outputs": [],
   "source": [
    "name = 'Юзер'\n",
    "age = 30"
   ]
  },
  {
   "cell_type": "markdown",
   "metadata": {
    "colab_type": "text",
    "id": "EAjDUBG-aylQ"
   },
   "source": [
    "Положим, что мы имеем представленные переменные и хотим вывести строку \"Привет, меня зовут Юзер и мне 30\". Форматирование строки - как раз способ встроить данные в строку.\n",
    "\n",
    "Первый способ похож на форматирование строк в языке С. Для форматирования используется оператор `%`, шаблон строки и кортеж с данными для заполнения шаблона:"
   ]
  },
  {
   "cell_type": "code",
   "execution_count": 42,
   "metadata": {
    "colab": {
     "base_uri": "https://localhost:8080/",
     "height": 33
    },
    "colab_type": "code",
    "executionInfo": {
     "elapsed": 657,
     "status": "ok",
     "timestamp": 1598724902993,
     "user": {
      "displayName": "Алексей Девяткин",
      "photoUrl": "",
      "userId": "11945040185410340858"
     },
     "user_tz": -180
    },
    "id": "-QD8qJBkbTQ2",
    "outputId": "83a88d98-5df5-4351-a164-9bb6f1dd8abb"
   },
   "outputs": [
    {
     "name": "stdout",
     "output_type": "stream",
     "text": [
      "Привет, меня зовут Юзер и мне 30\n"
     ]
    }
   ],
   "source": [
    "template_string = 'Привет, меня зовут %s и мне %d'\n",
    "formatted_string = template_string % (name, age)\n",
    "print(formatted_string)"
   ]
  },
  {
   "cell_type": "code",
   "execution_count": 43,
   "metadata": {
    "colab": {
     "base_uri": "https://localhost:8080/",
     "height": 33
    },
    "colab_type": "code",
    "executionInfo": {
     "elapsed": 623,
     "status": "ok",
     "timestamp": 1598725393370,
     "user": {
      "displayName": "Алексей Девяткин",
      "photoUrl": "",
      "userId": "11945040185410340858"
     },
     "user_tz": -180
    },
    "id": "z0gSLv6idPec",
    "outputId": "0e8e06cc-055e-4462-ae92-7f9bf9c30687"
   },
   "outputs": [
    {
     "name": "stdout",
     "output_type": "stream",
     "text": [
      "Привет, меня зовут Юзер и мне 30\n"
     ]
    }
   ],
   "source": [
    "# То же самое, только раньше мы сохранили строку в переменную,\n",
    "#   а сейчас сразу в вывод\n",
    "print('Привет, меня зовут %s и мне %d' % (name, age))"
   ]
  },
  {
   "cell_type": "markdown",
   "metadata": {
    "colab_type": "text",
    "id": "gb9ajl4obhpT"
   },
   "source": [
    "То есть, в шаблоне расставляются места с указанием типа заполняемого значения и после через оператор `%` подставляется по порядку данные из кортежа. Так, значение `name` подставляется вместо `%s`, а `age` - вместо %d.\n",
    "\n",
    "Шаблоны формируются на основе следующих типов:\n",
    "- `%s` - строчные типы;\n",
    "- `%d` - целочисленный тип;\n",
    "- `%x` - целочисленный тип (в шестнадцатеричной системе);\n",
    "- `%f` - вещественный тип;\n"
   ]
  },
  {
   "cell_type": "code",
   "execution_count": 44,
   "metadata": {
    "colab": {
     "base_uri": "https://localhost:8080/",
     "height": 33
    },
    "colab_type": "code",
    "executionInfo": {
     "elapsed": 625,
     "status": "ok",
     "timestamp": 1598725160703,
     "user": {
      "displayName": "Алексей Девяткин",
      "photoUrl": "",
      "userId": "11945040185410340858"
     },
     "user_tz": -180
    },
    "id": "uqnV03FccTHa",
    "outputId": "b7ac101a-9c90-4394-e0d6-e7ee7b620c3b"
   },
   "outputs": [
    {
     "name": "stdout",
     "output_type": "stream",
     "text": [
      "Сравним 0.333333, 0.33, 0.3\n"
     ]
    }
   ],
   "source": [
    "# Для %f можно задать количество цифр после запятой\n",
    "var = 0.33333333\n",
    "print('Сравним %f, %.2f, %.1f' % (var, var, var))"
   ]
  },
  {
   "cell_type": "markdown",
   "metadata": {
    "colab_type": "text",
    "id": "7r0g1PCmcsD8"
   },
   "source": [
    "Типов и способов представления данных намного больше, но мы не будем на этом останавливаться, так как для конкретной ситуации можно найти требуемое представление в документации или на форумах."
   ]
  },
  {
   "cell_type": "markdown",
   "metadata": {
    "colab_type": "text",
    "id": "HlMMyGQ0chYZ"
   },
   "source": [
    "Второй способ формирования является более \"питоническим\", так как для форматирования используется метод `str.format()` класса строки:"
   ]
  },
  {
   "cell_type": "code",
   "execution_count": 45,
   "metadata": {
    "colab": {
     "base_uri": "https://localhost:8080/",
     "height": 33
    },
    "colab_type": "code",
    "executionInfo": {
     "elapsed": 588,
     "status": "ok",
     "timestamp": 1598725417973,
     "user": {
      "displayName": "Алексей Девяткин",
      "photoUrl": "",
      "userId": "11945040185410340858"
     },
     "user_tz": -180
    },
    "id": "bv_MWtxcdNok",
    "outputId": "6850aa68-e24b-4258-d646-2e67841f82e5"
   },
   "outputs": [
    {
     "name": "stdout",
     "output_type": "stream",
     "text": [
      "Привет, меня зовут Юзер и мне 30\n"
     ]
    }
   ],
   "source": [
    "print('Привет, меня зовут {} и мне {}'.format(name, age))"
   ]
  },
  {
   "cell_type": "markdown",
   "metadata": {
    "colab_type": "text",
    "id": "-zcxkqeRdlSc"
   },
   "source": [
    "Такой способ требует немного другого шаблона в виде фигурных скобок. Тип задавать не обязательно, расставляются данные по порядку. Для задания формата отображения, например, для вещественных чисел, устанавливается двоиточие и далее пишется дополнительное описание представления:"
   ]
  },
  {
   "cell_type": "code",
   "execution_count": 46,
   "metadata": {
    "colab": {
     "base_uri": "https://localhost:8080/",
     "height": 33
    },
    "colab_type": "code",
    "executionInfo": {
     "elapsed": 588,
     "status": "ok",
     "timestamp": 1598725589226,
     "user": {
      "displayName": "Алексей Девяткин",
      "photoUrl": "",
      "userId": "11945040185410340858"
     },
     "user_tz": -180
    },
    "id": "8edDud8xd3TD",
    "outputId": "180b2122-387e-4e6e-9670-010fdf0e218b"
   },
   "outputs": [
    {
     "name": "stdout",
     "output_type": "stream",
     "text": [
      "Сравним 0.444444444, 0.44, 0.4\n"
     ]
    }
   ],
   "source": [
    "var = 0.444444444\n",
    "print('Сравним {}, {:.2f}, {:.1f}'.format(var, var, var))"
   ]
  },
  {
   "cell_type": "markdown",
   "metadata": {
    "colab_type": "text",
    "id": "TDxfY45DeJqj"
   },
   "source": [
    "Последнии способ является наиболее современны, так как появился в Python3.6 и называется \"f-строки\". В этом способе перемешивается понятия шаблона и данных, так что он бывает удобнее ранее представленных способов:"
   ]
  },
  {
   "cell_type": "code",
   "execution_count": 47,
   "metadata": {
    "colab": {
     "base_uri": "https://localhost:8080/",
     "height": 33
    },
    "colab_type": "code",
    "executionInfo": {
     "elapsed": 608,
     "status": "ok",
     "timestamp": 1598725689611,
     "user": {
      "displayName": "Алексей Девяткин",
      "photoUrl": "",
      "userId": "11945040185410340858"
     },
     "user_tz": -180
    },
    "id": "djHTOKfneczr",
    "outputId": "b70c2b24-1c1e-497d-bb13-45e62530f571"
   },
   "outputs": [
    {
     "name": "stdout",
     "output_type": "stream",
     "text": [
      "Привет, меня зовут Юзер и мне 30\n"
     ]
    }
   ],
   "source": [
    "print(f'Привет, меня зовут {name} и мне {age}')"
   ]
  },
  {
   "cell_type": "markdown",
   "metadata": {
    "colab_type": "text",
    "id": "SeLMy01lehdm"
   },
   "source": [
    "Основные требования: перед строкой ставится символ `f` и в фигурные скобки записываются сами переменные. Для задания формата отображения также ставится двоеточие и задается формат:"
   ]
  },
  {
   "cell_type": "code",
   "execution_count": 48,
   "metadata": {
    "colab": {
     "base_uri": "https://localhost:8080/",
     "height": 33
    },
    "colab_type": "code",
    "executionInfo": {
     "elapsed": 531,
     "status": "ok",
     "timestamp": 1598725806464,
     "user": {
      "displayName": "Алексей Девяткин",
      "photoUrl": "",
      "userId": "11945040185410340858"
     },
     "user_tz": -180
    },
    "id": "altpRd4Ge1kG",
    "outputId": "0466876a-4134-48c9-ddfd-312c77365338"
   },
   "outputs": [
    {
     "name": "stdout",
     "output_type": "stream",
     "text": [
      "Сравним 0.173456, 0.17, 0.2\n"
     ]
    }
   ],
   "source": [
    "# Обратите внимание на округление!\n",
    "var = 0.173456\n",
    "print(f'Сравним {var}, {var:.2f}, {var:.1f}')"
   ]
  },
  {
   "cell_type": "markdown",
   "metadata": {
    "colab_type": "text",
    "id": "x48Zd_CYfBek"
   },
   "source": [
    "## Задание\n",
    "\n",
    "Напишите функцию, которая принимает имя, возраст и среднюю оценку в качестве аргументов и отображает данные тремя способами, рассмотренными ранее, в виде строк.\n",
    "\n",
    "```\n",
    "Добрый день! Мое имя: <name>, возраст: <age>, оценка: <avg_grade>. Приятно познакомиться!\n",
    "```\n",
    "\n",
    "> Средняя оценка должна отображаться не более, чем с двумя символами после запятой."
   ]
  },
  {
   "cell_type": "code",
   "execution_count": 49,
   "metadata": {
    "colab": {},
    "colab_type": "code",
    "id": "aHV4yym-fXYc"
   },
   "outputs": [
    {
     "name": "stdout",
     "output_type": "stream",
     "text": [
      "Добрый день! Мое имя: Pavel, возраст: 23, оценка: 4.51. Приятно познакомиться!\n",
      "Добрый день! Мое имя: Pavel, возраст: 23, оценка: 4.51. Приятно познакомиться!\n",
      "Добрый день! Мое имя: Pavel, возраст: 23, оценка: 4.51. Приятно познакомиться!\n"
     ]
    }
   ],
   "source": [
    "def show_info(name, age, avg_grade):\n",
    "    print(\"Добрый день! Мое имя: %s, возраст: %d, оценка: %.2f. Приятно познакомиться!\" % (name, age, avg_grade)) #C-like\n",
    "    print(\"Добрый день! Мое имя: {}, возраст: {}, оценка: {:.2f}. Приятно познакомиться!\".format(name, age, avg_grade)) #Pythonic\n",
    "    print(f\"Добрый день! Мое имя: {name}, возраст: {age}, оценка: {avg_grade:.2f}. Приятно познакомиться!\") #F-strings\n",
    "\n",
    "show_info('Pavel', 23, 4.515)"
   ]
  },
  {
   "cell_type": "markdown",
   "metadata": {
    "colab_type": "text",
    "id": "6KTSxXmnLDA6"
   },
   "source": [
    "# Больше тренировок!"
   ]
  },
  {
   "cell_type": "markdown",
   "metadata": {
    "colab_type": "text",
    "id": "RvewWQC4LG5Y"
   },
   "source": [
    "- Задачка на среднее https://www.codewars.com/kata/563e320cee5dddcf77000158/train/python\n",
    "- Починка if условия https://www.codewars.com/kata/57089707fe2d01529f00024a/train/python\n",
    "- Поиск неиспользованного ID https://www.codewars.com/kata/55eea63119278d571d00006a/train/python\n",
    "- Работа со строками https://www.codewars.com/kata/55a70521798b14d4750000a4/train/python\n",
    "- Определение четности https://www.codewars.com/kata/53da3dbb4a5168369a0000fe/train/python\n",
    "- Удаление элементов строк (работа с индексами) https://www.codewars.com/kata/56bc28ad5bdaeb48760009b0/train/python\n",
    "- Регулярные выражения https://www.codewars.com/kata/57eae20f5500ad98e50002c5/train/python\n",
    "- Сложение https://www.codewars.com/kata/55d24f55d7dd296eb9000030/train/python\n",
    "- Подсчет овечек https://www.codewars.com/kata/54edbc7200b811e956000556/train/python\n",
    "- Подсчет гласных букв https://www.codewars.com/kata/54ff3102c1bad923760001f3/train/python\n",
    "- Строки-числа, поиск минимума/максимума https://www.codewars.com/kata/554b4ac871d6813a03000035/train/python\n",
    "- Поиск повторяющихся букв https://www.codewars.com/kata/54ba84be607a92aa900000f1/train/python\n",
    "- Замена символов https://www.codewars.com/kata/554e4a2f232cdd87d9000038/train/python\n",
    "\n",
    "И т.д. на https://www.codewars.com/ "
   ]
  },
  {
   "cell_type": "markdown",
   "metadata": {
    "colab_type": "text",
    "id": "qxDH6XJ2N5-d"
   },
   "source": [
    "Если хочется поиграть: \n",
    "- https://codecombat.com/\n",
    "- https://www.codingame.com/ide/puzzle/onboarding"
   ]
  }
 ],
 "metadata": {
  "colab": {
   "authorship_tag": "ABX9TyMU+sqBraszccX3TnJ39WiR",
   "collapsed_sections": [],
   "name": "Pr00_Python.ipynb",
   "provenance": [],
   "toc_visible": true
  },
  "kernelspec": {
   "display_name": "Python 3",
   "language": "python",
   "name": "python3"
  },
  "language_info": {
   "codemirror_mode": {
    "name": "ipython",
    "version": 3
   },
   "file_extension": ".py",
   "mimetype": "text/x-python",
   "name": "python",
   "nbconvert_exporter": "python",
   "pygments_lexer": "ipython3",
   "version": "3.7.6"
  }
 },
 "nbformat": 4,
 "nbformat_minor": 1
}
