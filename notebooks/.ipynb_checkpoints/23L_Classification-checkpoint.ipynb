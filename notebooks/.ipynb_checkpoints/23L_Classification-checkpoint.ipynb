{
 "cells": [
  {
   "cell_type": "code",
   "execution_count": null,
   "metadata": {
    "id": "DyFvvZtInz9i"
   },
   "outputs": [],
   "source": [
    "# Импорт необходимых модулей \n",
    "import matplotlib\n",
    "import seaborn as sns\n",
    "import matplotlib.pyplot as plt\n",
    "import numpy as np\n",
    "import pandas as pd\n",
    "\n",
    "# Настройки для визуализации\n",
    "# Если используется темная тема - лучше текст сделать белым\n",
    "TEXT_COLOR = 'black'\n",
    "\n",
    "matplotlib.rcParams['figure.figsize'] = (15, 10)\n",
    "matplotlib.rcParams['text.color'] = 'black'\n",
    "matplotlib.rcParams['font.size'] = 14\n",
    "matplotlib.rcParams['axes.labelcolor'] = TEXT_COLOR\n",
    "matplotlib.rcParams['xtick.color'] = TEXT_COLOR\n",
    "matplotlib.rcParams['ytick.color'] = TEXT_COLOR\n",
    "\n",
    "# Зафиксируем состояние случайных чисел\n",
    "RANDOM_STATE = 42\n",
    "np.random.seed(RANDOM_STATE)"
   ]
  },
  {
   "cell_type": "markdown",
   "metadata": {
    "id": "u8nVuLIDCz9l"
   },
   "source": [
    "# Логистическая регрессия"
   ]
  },
  {
   "cell_type": "markdown",
   "metadata": {
    "id": "lu6K3rrFEri4"
   },
   "source": [
    "К вам когда-нибудь приходила делегация ботаников (не обидное слово, а уважаемые ученые!) и умоляла помочь им автоматизировать процесс определения типов ирисов? Давайте представим, что это случилось недавно, а что самое важное для нас, у них есть данные, которые отражают, как сейчас ставятся типы по измерению размеров ирисов! Закатываем рукава, давайте поможем им, ведь мы уже знаем, что такое задача классификации и как с ней работать!"
   ]
  },
  {
   "cell_type": "markdown",
   "metadata": {
    "id": "51ClpYWbDaYj"
   },
   "source": [
    "\n",
    "# Анализ и предобработка"
   ]
  },
  {
   "cell_type": "markdown",
   "metadata": {
    "id": "eM6jwECTf5Ug"
   },
   "source": [
    "Для работы над задачей классификации будет использован Iris Dataset https://scikit-learn.org/stable/datasets/index.html#iris-dataset. Данный датасет загружается функцией `sklearn.datasets.load_iris()`. \n",
    "\n",
    "Из описания на сайте мы определяем основные ключи в объекте `sklearn.utils.Bunch`:\n",
    "- `DESCR` - строчное описание датасета;\n",
    "- `data` - данные с признаками;\n",
    "- `feature_names` - названия признаков;\n",
    "- `target_names` -  названия классов ирисов;\n",
    "- `targets` - целочисленные индексы классов."
   ]
  },
  {
   "cell_type": "code",
   "execution_count": null,
   "metadata": {
    "id": "6Lrc6yimDgHl"
   },
   "outputs": [],
   "source": [
    "from sklearn.datasets import load_iris\n",
    "\n",
    "iris_data = load_iris()"
   ]
  },
  {
   "cell_type": "code",
   "execution_count": null,
   "metadata": {
    "colab": {
     "base_uri": "https://localhost:8080/",
     "height": 1000
    },
    "executionInfo": {
     "elapsed": 1344,
     "status": "ok",
     "timestamp": 1601143189775,
     "user": {
      "displayName": "Алексей Девяткин",
      "photoUrl": "",
      "userId": "11945040185410340858"
     },
     "user_tz": -180
    },
    "id": "E81YPF6EGMLS",
    "outputId": "464acf09-2883-49dc-cf73-4fbeabc03386"
   },
   "outputs": [],
   "source": [
    "print(iris_data['DESCR'])"
   ]
  },
  {
   "cell_type": "code",
   "execution_count": null,
   "metadata": {
    "colab": {
     "base_uri": "https://localhost:8080/",
     "height": 34
    },
    "executionInfo": {
     "elapsed": 1323,
     "status": "ok",
     "timestamp": 1601143189776,
     "user": {
      "displayName": "Алексей Девяткин",
      "photoUrl": "",
      "userId": "11945040185410340858"
     },
     "user_tz": -180
    },
    "id": "hpiaw9wxMma_",
    "outputId": "0f4a1e0d-6210-43b8-f8cc-b08c56249deb"
   },
   "outputs": [],
   "source": [
    "print(iris_data['target_names'])"
   ]
  },
  {
   "cell_type": "markdown",
   "metadata": {
    "id": "n_EBavoPg51i"
   },
   "source": [
    "Из описания видно, что в наборе данных четыре признака, каждый признак представлен в единицах измерения [см] - это значит, что все признаки числовые (вещественные). Целевыми классами являются три разновидности ирисов:\n",
    "- setosa\n",
    "- versicolor\n",
    "- virginica\n",
    "\n",
    "![Замещающий текст](https://sundeeppothula1993.github.io/ARTML//assets/img/iris.png)"
   ]
  },
  {
   "cell_type": "markdown",
   "metadata": {
    "id": "CV_SQ3CWhLQK"
   },
   "source": [
    "Уже на данном этапе мы можем сделать важное заключение: так как типов ирисов три и каждый из них исключает остальные (то есть цветку можно присвоить лишь один из типов), то задача, над которой будем работать имеет тип мультиклассовой классификации.\n",
    "\n",
    "Начнем анализ данных с загрузки данных в `pandas` в формате таблицы, в которую целевые классы запишем названиями в колонку `species`."
   ]
  },
  {
   "cell_type": "code",
   "execution_count": null,
   "metadata": {
    "id": "FJB5BtZdGf8r"
   },
   "outputs": [],
   "source": [
    "feature_names = iris_data['feature_names']\n",
    "df = pd.DataFrame(iris_data['data'], columns=feature_names)\n",
    "species_names = iris_data['target_names']\n",
    "target_idxs = iris_data['target']\n",
    "df['species'] = species_names[target_idxs]"
   ]
  },
  {
   "cell_type": "code",
   "execution_count": null,
   "metadata": {
    "colab": {
     "base_uri": "https://localhost:8080/",
     "height": 202
    },
    "executionInfo": {
     "elapsed": 1296,
     "status": "ok",
     "timestamp": 1601143189777,
     "user": {
      "displayName": "Алексей Девяткин",
      "photoUrl": "",
      "userId": "11945040185410340858"
     },
     "user_tz": -180
    },
    "id": "5pFtGqyBIiEm",
    "outputId": "5a536bac-4002-4fab-f6b8-af3ccfa7008a"
   },
   "outputs": [],
   "source": [
    "df.head()"
   ]
  },
  {
   "cell_type": "code",
   "execution_count": null,
   "metadata": {
    "colab": {
     "base_uri": "https://localhost:8080/",
     "height": 225
    },
    "executionInfo": {
     "elapsed": 1269,
     "status": "ok",
     "timestamp": 1601143189777,
     "user": {
      "displayName": "Алексей Девяткин",
      "photoUrl": "",
      "userId": "11945040185410340858"
     },
     "user_tz": -180
    },
    "id": "ndcJCxVUJmfC",
    "outputId": "120603fa-6267-4c41-d4c2-645c6bb3a5cf"
   },
   "outputs": [],
   "source": [
    "df.info()"
   ]
  },
  {
   "cell_type": "code",
   "execution_count": null,
   "metadata": {
    "colab": {
     "base_uri": "https://localhost:8080/",
     "height": 172
    },
    "executionInfo": {
     "elapsed": 1245,
     "status": "ok",
     "timestamp": 1601143189778,
     "user": {
      "displayName": "Алексей Девяткин",
      "photoUrl": "",
      "userId": "11945040185410340858"
     },
     "user_tz": -180
    },
    "id": "BiOlVk4KJr4b",
    "outputId": "8f631073-8bc9-45f4-cee1-98db3e12f2c4"
   },
   "outputs": [],
   "source": [
    "df.describe().T"
   ]
  },
  {
   "cell_type": "code",
   "execution_count": null,
   "metadata": {
    "colab": {
     "base_uri": "https://localhost:8080/",
     "height": 104
    },
    "executionInfo": {
     "elapsed": 1222,
     "status": "ok",
     "timestamp": 1601143189779,
     "user": {
      "displayName": "Алексей Девяткин",
      "photoUrl": "",
      "userId": "11945040185410340858"
     },
     "user_tz": -180
    },
    "id": "zr3dWGnGhtaj",
    "outputId": "6c010f7e-3f37-4256-db3f-94558359dd4b"
   },
   "outputs": [],
   "source": [
    "df.groupby('species').size()"
   ]
  },
  {
   "cell_type": "markdown",
   "metadata": {
    "id": "3tWMIjy4helT"
   },
   "source": [
    "По основной информации видно, что данные не имеют пропусков, всего имеется 150 записей (соответствует описанию), а также, что очень важно, данные **равномерно распределены по классам** - каждый класс содержит по 50 записей. \n",
    "\n",
    "После валидации информации на соответсвие описанию произведем анализ распределения данных."
   ]
  },
  {
   "cell_type": "markdown",
   "metadata": {
    "id": "VzFaKwaokjfr"
   },
   "source": [
    "Для решения задачи классификации требуется как можно более однозначно отнести данные к одному из предсказываемых классов. Для анализа данных воспользуемся двумя полезными функциями визуализации `seaborn.boxplot()` и `seaborn.violinplot()`. Обе эти функции показывают распределение переменной относительно конкретного класса и позволяют произвести унивариатный анализ (каждый признак рассматривается отдельно)."
   ]
  },
  {
   "cell_type": "code",
   "execution_count": null,
   "metadata": {
    "colab": {
     "base_uri": "https://localhost:8080/",
     "height": 720
    },
    "executionInfo": {
     "elapsed": 2276,
     "status": "ok",
     "timestamp": 1601143190856,
     "user": {
      "displayName": "Алексей Девяткин",
      "photoUrl": "",
      "userId": "11945040185410340858"
     },
     "user_tz": -180
    },
    "id": "ikOqszRxkf-I",
    "outputId": "6b0e5389-70a4-488a-d91d-6c305492c880"
   },
   "outputs": [],
   "source": [
    "fig, axs = plt.subplots(2, 2)\n",
    "\n",
    "for i, feat_name in enumerate(feature_names):\n",
    "    row = i//2\n",
    "    col = i%2\n",
    "    sns.boxplot(x = 'species', y = feat_name, data = df, order = species_names, ax = axs[row, col]);\n",
    "    \n",
    "fig.tight_layout();"
   ]
  },
  {
   "cell_type": "code",
   "execution_count": null,
   "metadata": {
    "colab": {
     "base_uri": "https://localhost:8080/",
     "height": 721
    },
    "executionInfo": {
     "elapsed": 3261,
     "status": "ok",
     "timestamp": 1601143191866,
     "user": {
      "displayName": "Алексей Девяткин",
      "photoUrl": "",
      "userId": "11945040185410340858"
     },
     "user_tz": -180
    },
    "id": "AZLVvY2zylHg",
    "outputId": "eb7d0f7c-3bd1-4259-df28-dbcc1f8b7a87"
   },
   "outputs": [],
   "source": [
    "fig, axs = plt.subplots(2, 2)\n",
    "\n",
    "for i, feat_name in enumerate(feature_names):\n",
    "    row = i//2\n",
    "    col = i%2\n",
    "    sns.violinplot(x = 'species', y = feat_name, data = df, order = species_names, ax = axs[row, col]);\n",
    "    \n",
    "fig.tight_layout();"
   ]
  },
  {
   "cell_type": "markdown",
   "metadata": {
    "id": "2hxuOoo-yw5s"
   },
   "source": [
    "Boxplot представление называется \"Ящик с усами\", которая показывает не только основные характеристики распределения (медиана, квартили, выбросы), но и соотношение между отдельными классами:\n",
    "![Картинка](https://upload.wikimedia.org/wikipedia/commons/3/32/Densityvsbox.png)\n",
    "\n",
    "График скрипки показывает симметричное распределение данных с учетом классов. Тут нет никаких обозначений, по сути мы отображает kde распределение, но только симметрично с двух сторон.\n",
    "\n",
    "Посмотрим на графики как скрипки, так и ящика с усами. Мы можем заметить, что класс `setosa` хорошо отделим от остальных классов по признакам `petal length` и `petal width` - представьте, что мы можем провести горизонтальную линию, так, что она разделит класс `setosa` от остальных. По факту, нам даже никакую модель строить не надо было, если бы задачей было бы классифицировать, является ли ирис классом `setosa` или остальными (бинарная классификация) - хватит порогового значения по одному из признаков! Но тут нужно разделить на три класса, а другие два класса не получится так просто разделить.\n",
    "\n",
    "Признаки `sepal *` не позволяют явно разделить классы, пересечения классов явно больше, чем пересечение по признакам `petal *`, что делает последние признаки более перспективными в использовании для создания модели классификации."
   ]
  },
  {
   "cell_type": "markdown",
   "metadata": {
    "id": "9D7wkX_51U85"
   },
   "source": [
    "Помимо независимого анализа одиночных признаков, полезно также выявить взаимное влияние признаков на возможность разделения классов."
   ]
  },
  {
   "cell_type": "markdown",
   "metadata": {
    "id": "1GoLEv54kidx"
   },
   "source": [
    "В данном случае небольшое количество признаков позволяет использовать попарное отображение признаков с помощью функции `seaborn.pairplot()`."
   ]
  },
  {
   "cell_type": "code",
   "execution_count": null,
   "metadata": {
    "colab": {
     "base_uri": "https://localhost:8080/",
     "height": 765
    },
    "executionInfo": {
     "elapsed": 9517,
     "status": "ok",
     "timestamp": 1601143198146,
     "user": {
      "displayName": "Алексей Девяткин",
      "photoUrl": "",
      "userId": "11945040185410340858"
     },
     "user_tz": -180
    },
    "id": "1qEx3GxFHEFE",
    "outputId": "15bae160-5bb3-468b-c029-9c3238797177"
   },
   "outputs": [],
   "source": [
    "sns.pairplot(df, hue='species')"
   ]
  },
  {
   "cell_type": "markdown",
   "metadata": {
    "id": "nWAFrwYxjChl"
   },
   "source": [
    "Изображения на главной диагонали показывают распределения самих признаков, остальные ячейки демонстрируют распределение данных по двум признакам. Использование данной визуализации данных позволяет не только провести оценку возможности разделения классов по двум признакам, но также выявить возможную корреляцию признаков между собой.\n",
    "\n",
    "Также мы можем видеть, что на одномерных графиках распределения классы `versicolor` и `virginica` сильно пересекались, но при этом мы видим, что при использовании нескольких признаков (например, `petal_width` и `sepal_width`), группы данных уже проще разделить, а значит и наша модель сможет справиться!"
   ]
  },
  {
   "cell_type": "markdown",
   "metadata": {
    "id": "l3HpjDM31isb"
   },
   "source": [
    "В данном случае сильно коррелирующими признаками выглядят признаки `petal length` и `petal width`, что легко проверить с помощью визуализации коэффициентов корреляции."
   ]
  },
  {
   "cell_type": "markdown",
   "metadata": {
    "id": "rJhcwUIn21U8"
   },
   "source": [
    "# Разработка модели"
   ]
  },
  {
   "cell_type": "markdown",
   "metadata": {
    "id": "x14JBBHh_VeG"
   },
   "source": [
    "Теперь пора делать модель для мультиклассовой логистической регрессии."
   ]
  },
  {
   "cell_type": "code",
   "execution_count": null,
   "metadata": {
    "colab": {
     "base_uri": "https://localhost:8080/",
     "height": 52
    },
    "executionInfo": {
     "elapsed": 9489,
     "status": "ok",
     "timestamp": 1601143198149,
     "user": {
      "displayName": "Алексей Девяткин",
      "photoUrl": "",
      "userId": "11945040185410340858"
     },
     "user_tz": -180
    },
    "id": "sNu9314_27ec",
    "outputId": "2a4fde96-fe64-4ddc-abd9-fcd928e80fe3"
   },
   "outputs": [],
   "source": [
    "from sklearn.model_selection import train_test_split\n",
    "\n",
    "TRAIN_RATIO = 0.7\n",
    "\n",
    "X = df[feature_names]\n",
    "y = target_idxs\n",
    "\n",
    "X_train, X_test, y_train, y_test = train_test_split(\n",
    "    X, y, \n",
    "    train_size=TRAIN_RATIO, \n",
    "    random_state=RANDOM_STATE,\n",
    "    stratify=y\n",
    ")\n",
    "\n",
    "print(X_train.shape, y_train.shape)\n",
    "print(X_test.shape, y_test.shape)"
   ]
  },
  {
   "cell_type": "markdown",
   "metadata": {
    "id": "C5o-6iOQE533"
   },
   "source": [
    "После разбиения на выборки создадим объект модели. Обратите внимание, в аргументах задается метод `multinomial`, который определяет решаемую задачу, а также задается состояние генератора случайных чисел для фиксации и сохранения повторяемости."
   ]
  },
  {
   "cell_type": "code",
   "execution_count": null,
   "metadata": {
    "colab": {
     "base_uri": "https://localhost:8080/",
     "height": 104
    },
    "executionInfo": {
     "elapsed": 9476,
     "status": "ok",
     "timestamp": 1601143198151,
     "user": {
      "displayName": "Алексей Девяткин",
      "photoUrl": "",
      "userId": "11945040185410340858"
     },
     "user_tz": -180
    },
    "id": "Yffo6c2PA-3U",
    "outputId": "b3306eef-907f-4b6f-8b47-95b11bec4434"
   },
   "outputs": [],
   "source": [
    "from sklearn.linear_model import LogisticRegression\n",
    "\n",
    "logreg = LogisticRegression(\n",
    "    random_state=RANDOM_STATE,\n",
    "    max_iter=200,\n",
    "    multi_class='multinomial'\n",
    ")\n",
    "logreg.fit(X_train, y_train)"
   ]
  },
  {
   "cell_type": "markdown",
   "metadata": {
    "id": "mDzRWmggEZNM"
   },
   "source": [
    "Для ознакомления с результатами работы модели возьмем первый пример из тестовой выборки и проверим работу доступных у классификационной модели методов:\n",
    "- `predict()` - методы выполнения предсказания, сразу выдает результат (индекс класса);\n",
    "- `predict_proba()` - медот выполнения предсказания, при этом результат представляется в виде конечных вероятностей по классам (для *multinominal* результат Softmax, для *ovr* - Sigmoid по каждому классу). \n",
    "- `predict_log_proba()` - тоже самое, что и `predict_proba()`, но значения обработаны функцией логарифма.\n",
    "\n",
    "> Обратите внимание, что все методы `predict*()` ожидают на вход 2D массив. Методы `predict_*proba()` выдают результатом 2D массив."
   ]
  },
  {
   "cell_type": "code",
   "execution_count": null,
   "metadata": {
    "colab": {
     "base_uri": "https://localhost:8080/",
     "height": 294
    },
    "executionInfo": {
     "elapsed": 9461,
     "status": "ok",
     "timestamp": 1601143198152,
     "user": {
      "displayName": "Алексей Девяткин",
      "photoUrl": "",
      "userId": "11945040185410340858"
     },
     "user_tz": -180
    },
    "id": "yfBqxBdiDEGO",
    "outputId": "3e7816c3-252b-4cfe-d070-95cbc8fe39c6"
   },
   "outputs": [],
   "source": [
    "sample = X_test.iloc[0]\n",
    "\n",
    "prediction = logreg.predict([sample])\n",
    "predict_proba = logreg.predict_proba([sample])\n",
    "predict_log_proba = logreg.predict_log_proba([sample])\n",
    "\n",
    "print(f'  Sample:\\n{sample}')\n",
    "print(f'  Prediction proba:\\n{predict_proba[0]}')\n",
    "print(f'  Prediction proba sum:\\n{sum(predict_proba[0])}')\n",
    "print(f'  Prediction log proba:\\n{predict_log_proba[0]}')\n",
    "print(f'  Prediction:\\n{prediction}')\n",
    "print(f'  Prediction name:\\n{species_names[prediction]}')"
   ]
  },
  {
   "cell_type": "markdown",
   "metadata": {
    "id": "GR7ITelKF6OS"
   },
   "source": [
    "Как видно, для мультиноминальной классификации выполняется условие равенства суммы элементов единице (с точность до округления), что является подтверждением использования функции Softmax."
   ]
  },
  {
   "cell_type": "markdown",
   "metadata": {
    "id": "6Niqxv4EGsqA"
   },
   "source": [
    "Помимо основных методов, объект логистической регрессии также имеет аттрибуты, хранящие значение весов и смещения."
   ]
  },
  {
   "cell_type": "code",
   "execution_count": null,
   "metadata": {
    "colab": {
     "base_uri": "https://localhost:8080/",
     "height": 138
    },
    "executionInfo": {
     "elapsed": 9441,
     "status": "ok",
     "timestamp": 1601143198153,
     "user": {
      "displayName": "Алексей Девяткин",
      "photoUrl": "",
      "userId": "11945040185410340858"
     },
     "user_tz": -180
    },
    "id": "JhI4usfXG1n7",
    "outputId": "e56b69a4-9d1b-4046-8209-1101169350cd"
   },
   "outputs": [],
   "source": [
    "print(f'  Classes: {logreg.classes_}')\n",
    "print(f'  Weights:\\n{logreg.coef_}')\n",
    "print(f'  Bias:\\n{logreg.intercept_}')"
   ]
  },
  {
   "cell_type": "markdown",
   "metadata": {
    "id": "STfgtg17GJJv"
   },
   "source": [
    "После ознакомления с базовыми методами и аттрибутами самое время оценить работу классификатора. Для этого воспользуемся базовыми методами визуализации и числовой оценки."
   ]
  },
  {
   "cell_type": "code",
   "execution_count": null,
   "metadata": {
    "colab": {
     "base_uri": "https://localhost:8080/",
     "height": 614
    },
    "executionInfo": {
     "elapsed": 9423,
     "status": "ok",
     "timestamp": 1601143198154,
     "user": {
      "displayName": "Алексей Девяткин",
      "photoUrl": "",
      "userId": "11945040185410340858"
     },
     "user_tz": -180
    },
    "id": "dIokP2mqGVeO",
    "outputId": "d37a6eab-d30d-44b0-9a0c-420f700fb92f"
   },
   "outputs": [],
   "source": [
    "from sklearn.metrics import plot_confusion_matrix\n",
    "\n",
    "disp = plot_confusion_matrix(\n",
    "    logreg, X_test, y_test,\n",
    "    display_labels=species_names)"
   ]
  },
  {
   "cell_type": "markdown",
   "metadata": {
    "id": "BisZPexpHvmm"
   },
   "source": [
    "Данный график является матрицей замешательств (confusion matrix ~ CM). Он демонстрирует то, сколько примеров, отмеченных определенным классом было предсказано верно, а сколько нет. Это позволяет оценить, какие классы модель предсказывает неверно. По горизонтали рамещаются классы, которые являются разметкой (Ground-Truth/True), по вертикали отмечаются классы предсказанные (Predicted).\n",
    "\n",
    "В данном случае модель верно предсказала все примеры по классу `setopia` (как мы видели, данный класс легко отделим от других классов). Неверно предсказан пример, являющийся классом `versicolor` (он был отмечен классом `virginica`). Также, произошли два промаха по классу `virginica` - отмечены как `versicolor`.\n",
    "\n",
    "> Мы также видели по распределению, что классы, в которых происходит путаница сложнее отделяются, в них и произошли ошибки."
   ]
  },
  {
   "cell_type": "markdown",
   "metadata": {
    "id": "ClZLwhRUI_DR"
   },
   "source": [
    "Помимо матричного представления полезно также оценить основные числовые показатели."
   ]
  },
  {
   "cell_type": "code",
   "execution_count": null,
   "metadata": {
    "colab": {
     "base_uri": "https://localhost:8080/",
     "height": 190
    },
    "executionInfo": {
     "elapsed": 9400,
     "status": "ok",
     "timestamp": 1601143198155,
     "user": {
      "displayName": "Алексей Девяткин",
      "photoUrl": "",
      "userId": "11945040185410340858"
     },
     "user_tz": -180
    },
    "id": "z6DJhnYlJtKz",
    "outputId": "eef7e773-ce32-4c4e-d637-444bd9b8a548"
   },
   "outputs": [],
   "source": [
    "from sklearn.metrics import classification_report\n",
    "\n",
    "y_pred = logreg.predict(X_test)\n",
    "report = classification_report(\n",
    "    y_test, y_pred, \n",
    "    target_names=species_names\n",
    ")\n",
    "\n",
    "print(report)"
   ]
  },
  {
   "cell_type": "markdown",
   "metadata": {
    "id": "ivXF4wHJKosZ"
   },
   "source": [
    "Представленный отчет показывает численные значения основных классификационных характеристик по каждому классу, а также усредненные значения по методам `macro` и `weighted`.\n",
    "\n",
    "Данные показатели позволяют оценить характер работы модели, что позволяет получить требуемые характеристики и сравнивать различные представления моделей."
   ]
  },
  {
   "cell_type": "markdown",
   "metadata": {
    "id": "WQPX4R1BQaqv"
   },
   "source": [
    "Замечательно! Вот мы и научились обучать модель, которая может производить классификацию ирисов с точностью аж 93%! Теперь пора изучить более широко ее возможности и влияние различных параметров."
   ]
  },
  {
   "cell_type": "markdown",
   "metadata": {
    "id": "74IFGsdvtK2x"
   },
   "source": [
    "# Кросс-валидация\n",
    "\n",
    "Кросс-валидация очень полезна в случае малого набора данных - наш случай! Для этого `sklearn` имеет ряд функций - одна из них функция обучения + оценки `sklearn.model_selection.cross_val_score()`."
   ]
  },
  {
   "cell_type": "code",
   "execution_count": null,
   "metadata": {
    "colab": {
     "base_uri": "https://localhost:8080/",
     "height": 52
    },
    "executionInfo": {
     "elapsed": 861,
     "status": "ok",
     "timestamp": 1601143856205,
     "user": {
      "displayName": "Алексей Девяткин",
      "photoUrl": "",
      "userId": "11945040185410340858"
     },
     "user_tz": -180
    },
    "id": "QTpA4qU7tb9l",
    "outputId": "de4f6728-e759-49c6-97d0-ac623388bd15"
   },
   "outputs": [],
   "source": [
    "from sklearn.model_selection import cross_val_score\n",
    "\n",
    "X = df[feature_names]\n",
    "y = target_idxs\n",
    "\n",
    "# Данная функция используется только для оценки \n",
    "#   (она обучает модель внутри, но не возвращает ее)\n",
    "scores = cross_val_score(\n",
    "    logreg,     # Модель для оценки\n",
    "    X,          # Данные для обучения\n",
    "    y,          # Разметка для обучения\n",
    "    cv=5,       # Количество фолдов\n",
    "    scoring='f1_macro'  # Желаемая метрика\n",
    ")\n",
    "print(f'Scores: {scores}')\n",
    "print(f'F1 (macro): {scores.mean(): 0.2f} (+/- {scores.std() * 2: 0.2f})')"
   ]
  },
  {
   "cell_type": "markdown",
   "metadata": {
    "id": "Bz77nphzkyHA"
   },
   "source": [
    "Использование кросс-валидации позволяет произвести более обобщенную оценку по сравнению с явным выделение части набора данных. Как видно, оценка при выборке различных фолдов вырьируется очень сильно от 0.93 до 1.0. Это как раз явление, которое можно наблюдать при использовании малого количества данных.\n",
    "\n",
    "В идеальном случае кросс-валидация используется для подбора вариантов модели на обучающих данных, при этом тестовые данные остаются нетронутыми. В данной работе предлагается использовать кросс-валидацию, как способ более полного взгляда на работу полученной модели с данными. Соответственно, рекомендуется использовать ее при оценке."
   ]
  },
  {
   "cell_type": "markdown",
   "metadata": {
    "id": "mm1YDA2wLvJy"
   },
   "source": [
    "# Задание"
   ]
  },
  {
   "cell_type": "markdown",
   "metadata": {
    "id": "ysFUF8PbDUS2"
   },
   "source": [
    "* Проведите базовый анализ данных и разработайте базовую модель (не забудьте оценить работу модели);\n",
    "* Оцените работу модели при использовании `StandartScaler`;\n",
    "* Исследуйте работу модели `LogisticRegression` с изменением аргумента (3 изменения / различных значения) `iter` - объяснить, что происходит при установке значения по-умолчанию (значение взять из справки);\n",
    "* Оцените работу модели при обучении на двух признаках (попробовать 2 пары признаков):\n",
    "    - sepal length (cm) + sepal width (cm);\n",
    "    - petal length (cm) + petal width (cm);\n",
    "* Найдите лучшую пару признаков методом кросс-валидации на обучающих данных (перебрать все возможные пары);\n",
    "* Освойте и изучите работу подхода классификации [**К ближайших соседей (KNN)**](https://scikit-learn.org/stable/modules/generated/sklearn.neighbors.KNeighborsClassifier.html#sklearn.neighbors.KNeighborsClassifier), продемонстрируйте работу и основную суть метода, сравните с показателями логистической регрессии;\n",
    "* Оцените влияние аргумента `n_neighbors` на работу модели KNN (7 различных значений). Постройте график или таблицу основных показателей метрик от значения количества соседей.\n",
    "* Отобразите **плоскость решений** при использовании двух признаков как лучшей модели логистической регрессии, так и лучшей модели KNN.\n"
   ]
  },
  {
   "cell_type": "markdown",
   "metadata": {
    "id": "XO3RW7arDXwE"
   },
   "source": [
    "# Вопросы\n"
   ]
  },
  {
   "cell_type": "markdown",
   "metadata": {
    "id": "V1NjqFGYATjh"
   },
   "source": [
    "* Почему массив весов имеет размер 3х4, а массив смещений - 3 элемента в модели логистической регрессии?\n",
    "* В чем различия методов усреднения статистики `macro`, `micro` и `weighted`?\n",
    "* Что означает `support` в отчете классификации?\n",
    "* Продемонстрируйте расчет показателей `recall` и `precision` одного из классов по любой из CM.\n",
    "* Что происходит при использовании аргумента `stratify` при разделении на выборки? Что будет, если не использовать данный аргумент? \n",
    "* В чем разницах подходов обучения модели линейной регрессии и логистичесой регрессии?\n",
    "* На основе чего работает метод KNN?\n",
    "* Как влияет количество соседей на работу модели? "
   ]
  }
 ],
 "metadata": {
  "colab": {
   "collapsed_sections": [],
   "name": "Lab2_Logreg.ipynb",
   "provenance": [],
   "toc_visible": true
  },
  "kernelspec": {
   "display_name": "Python 3",
   "language": "python",
   "name": "python3"
  },
  "language_info": {
   "codemirror_mode": {
    "name": "ipython",
    "version": 3
   },
   "file_extension": ".py",
   "mimetype": "text/x-python",
   "name": "python",
   "nbconvert_exporter": "python",
   "pygments_lexer": "ipython3",
   "version": "3.8.3"
  }
 },
 "nbformat": 4,
 "nbformat_minor": 1
}
